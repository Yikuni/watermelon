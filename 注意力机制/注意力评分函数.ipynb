{
 "cells": [
  {
   "cell_type": "code",
   "execution_count": 2,
   "id": "47157d70-c380-4f4d-b4f0-ebc67f240f72",
   "metadata": {},
   "outputs": [],
   "source": [
    "import math\n",
    "import torch\n",
    "from torch import nn\n",
    "import numpy as np"
   ]
  },
  {
   "cell_type": "code",
   "execution_count": 2,
   "id": "e1fc6dae-90a3-4cd1-b91a-ef9783e6bdfe",
   "metadata": {},
   "outputs": [],
   "source": [
    "from d2l import torch as d2l"
   ]
  },
  {
   "cell_type": "code",
   "execution_count": 3,
   "id": "36b12bab-7115-4d57-ab97-850f9d8fe9a4",
   "metadata": {},
   "outputs": [
    {
     "data": {
      "text/plain": [
       "tensor([[[0.1426, 0.1004, 0.8218, 0.6086],\n",
       "         [0.5597, 0.9375, 0.6896, 0.8433]],\n",
       "\n",
       "        [[0.8815, 0.5641, 0.0222, 0.1297],\n",
       "         [0.8922, 0.1492, 0.0218, 0.1234]]])"
      ]
     },
     "execution_count": 3,
     "metadata": {},
     "output_type": "execute_result"
    }
   ],
   "source": [
    "X = torch.rand((2, 2, 4))\n",
    "X"
   ]
  },
  {
   "cell_type": "code",
   "execution_count": 5,
   "id": "fa623f29-8973-4c6a-a219-0df54d3bb75d",
   "metadata": {},
   "outputs": [
    {
     "data": {
      "text/plain": [
       "tensor([[0.1426, 0.1004, 0.8218, 0.6086],\n",
       "        [0.5597, 0.9375, 0.6896, 0.8433],\n",
       "        [0.8815, 0.5641, 0.0222, 0.1297],\n",
       "        [0.8922, 0.1492, 0.0218, 0.1234]])"
      ]
     },
     "execution_count": 5,
     "metadata": {},
     "output_type": "execute_result"
    }
   ],
   "source": [
    "X_ = X.reshape(-1, X.shape[-1])\n",
    "X_"
   ]
  },
  {
   "cell_type": "code",
   "execution_count": 3,
   "id": "139bd710-fd6b-4511-8499-4eaac67c7442",
   "metadata": {},
   "outputs": [
    {
     "data": {
      "text/plain": [
       "tensor([1, 2, 3])"
      ]
     },
     "execution_count": 3,
     "metadata": {},
     "output_type": "execute_result"
    }
   ],
   "source": [
    "label = torch.tensor([1, 2, 3])\n",
    "label"
   ]
  },
  {
   "cell_type": "code",
   "execution_count": 4,
   "id": "4a66c9b3-3337-4395-94bf-bfc3bb3e5db0",
   "metadata": {},
   "outputs": [
    {
     "data": {
      "text/plain": [
       "tensor([1, 1, 1])"
      ]
     },
     "execution_count": 4,
     "metadata": {},
     "output_type": "execute_result"
    }
   ],
   "source": [
    "ones = torch.ones_like(label)\n",
    "ones"
   ]
  },
  {
   "cell_type": "code",
   "execution_count": null,
   "id": "864887ab-4ba4-4465-9e0e-c63f57f16428",
   "metadata": {},
   "outputs": [],
   "source": []
  }
 ],
 "metadata": {
  "kernelspec": {
   "display_name": "Python 3 (ipykernel)",
   "language": "python",
   "name": "python3"
  },
  "language_info": {
   "codemirror_mode": {
    "name": "ipython",
    "version": 3
   },
   "file_extension": ".py",
   "mimetype": "text/x-python",
   "name": "python",
   "nbconvert_exporter": "python",
   "pygments_lexer": "ipython3",
   "version": "3.8.10"
  }
 },
 "nbformat": 4,
 "nbformat_minor": 5
}
