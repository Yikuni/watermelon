{
 "cells": [
  {
   "cell_type": "code",
   "execution_count": 1,
   "id": "244ad920",
   "metadata": {},
   "outputs": [],
   "source": [
    "import torch\n",
    "from torch import nn"
   ]
  },
  {
   "cell_type": "code",
   "execution_count": 2,
   "id": "8952be00",
   "metadata": {},
   "outputs": [],
   "source": [
    "# 载入数据\n",
    "import os\n",
    "import pandas as pd\n",
    "from torchvision.io import read_image\n",
    "from torch.utils.data import Dataset\n",
    "from torchvision import datasets\n",
    "from torchvision.transforms import ToTensor\n",
    "from torch.utils.data import DataLoader"
   ]
  },
  {
   "cell_type": "code",
   "execution_count": 3,
   "id": "accee09d",
   "metadata": {},
   "outputs": [
    {
     "name": "stdout",
     "output_type": "stream",
     "text": [
      "GPU is available\n"
     ]
    }
   ],
   "source": [
    "gpu = False\n",
    "if torch.cuda.is_available():\n",
    "    device = torch.device(\"cuda\")\n",
    "    gpu = True\n",
    "    print(\"GPU is available\")\n",
    "else:\n",
    "    device = torch.device(\"cpu\")\n",
    "    print(\"GPU is not available\")"
   ]
  },
  {
   "cell_type": "code",
   "execution_count": 4,
   "id": "05a9a55d",
   "metadata": {},
   "outputs": [],
   "source": [
    "input_size = 64"
   ]
  },
  {
   "cell_type": "code",
   "execution_count": 8,
   "id": "958d6bfe",
   "metadata": {},
   "outputs": [
    {
     "ename": "ModuleNotFoundError",
     "evalue": "No module named 'cv2'",
     "output_type": "error",
     "traceback": [
      "\u001b[1;31m---------------------------------------------------------------------------\u001b[0m",
      "\u001b[1;31mModuleNotFoundError\u001b[0m                       Traceback (most recent call last)",
      "Cell \u001b[1;32mIn[8], line 2\u001b[0m\n\u001b[0;32m      1\u001b[0m \u001b[38;5;66;03m# 改造数据\u001b[39;00m\n\u001b[1;32m----> 2\u001b[0m \u001b[38;5;28;01mimport\u001b[39;00m \u001b[38;5;21;01mcv2\u001b[39;00m \u001b[38;5;28;01mas\u001b[39;00m \u001b[38;5;21;01mcv\u001b[39;00m\n\u001b[0;32m      3\u001b[0m \u001b[38;5;28;01mimport\u001b[39;00m \u001b[38;5;21;01mos\u001b[39;00m\n\u001b[0;32m      4\u001b[0m base_path \u001b[38;5;241m=\u001b[39m \u001b[38;5;124m'\u001b[39m\u001b[38;5;124mdata/raw\u001b[39m\u001b[38;5;124m'\u001b[39m\n",
      "\u001b[1;31mModuleNotFoundError\u001b[0m: No module named 'cv2'"
     ]
    }
   ],
   "source": [
    "# 改造数据\n",
    "import cv2 as cv\n",
    "import os\n",
    "base_path = 'data/raw'\n",
    "sub_dirs = os.listdir(base_path)\n",
    "sub_dirs = [os.path.join(base_path, sub) for sub in sub_dirs]\n",
    "img_csv = []\n",
    "for i, dir in enumerate(sub_dirs):\n",
    "    for m, file_name in enumerate(os.listdir(dir)):\n",
    "        if file_name.endswith('.png'):\n",
    "            img = cv.imread(os.path.join(dir, file_name))\n",
    "            img = cv.resize(img, (input_size, input_size))\n",
    "            # 缩放图片并旋转36次\n",
    "            for angle in range(36):\n",
    "                M = cv.getRotationMatrix2D((input_size / 2, input_size / 2), angle * 10, 1)\n",
    "                rotated = cv.warpAffine(img, M, (input_size, input_size))\n",
    "                output_path = f\"data/train/{i}_{m}_{angle}.jpg\"\n",
    "                cv.imwrite(output_path, rotated)\n",
    "                img_csv.append({'img_path': output_path, 'label': i})            "
   ]
  },
  {
   "cell_type": "code",
   "execution_count": 10,
   "id": "fabf7dcc",
   "metadata": {},
   "outputs": [
    {
     "name": "stdout",
     "output_type": "stream",
     "text": [
      "[{'img_path': 'data/train/0_0_0.jpg', 'label': 0}, {'img_path': 'data/train/0_0_1.jpg', 'label': 0}, {'img_path': 'data/train/0_0_2.jpg', 'label': 0}, {'img_path': 'data/train/0_0_3.jpg', 'label': 0}, {'img_path': 'data/train/0_0_4.jpg', 'label': 0}, {'img_path': 'data/train/0_0_5.jpg', 'label': 0}, {'img_path': 'data/train/0_0_6.jpg', 'label': 0}, {'img_path': 'data/train/0_0_7.jpg', 'label': 0}, {'img_path': 'data/train/0_0_8.jpg', 'label': 0}, {'img_path': 'data/train/0_0_9.jpg', 'label': 0}, {'img_path': 'data/train/0_0_10.jpg', 'label': 0}, {'img_path': 'data/train/0_0_11.jpg', 'label': 0}, {'img_path': 'data/train/0_0_12.jpg', 'label': 0}, {'img_path': 'data/train/0_0_13.jpg', 'label': 0}, {'img_path': 'data/train/0_0_14.jpg', 'label': 0}, {'img_path': 'data/train/0_0_15.jpg', 'label': 0}, {'img_path': 'data/train/0_0_16.jpg', 'label': 0}, {'img_path': 'data/train/0_0_17.jpg', 'label': 0}, {'img_path': 'data/train/0_0_18.jpg', 'label': 0}, {'img_path': 'data/train/0_0_19.jpg', 'label': 0}, {'img_path': 'data/train/0_0_20.jpg', 'label': 0}, {'img_path': 'data/train/0_0_21.jpg', 'label': 0}, {'img_path': 'data/train/0_0_22.jpg', 'label': 0}, {'img_path': 'data/train/0_0_23.jpg', 'label': 0}, {'img_path': 'data/train/0_0_24.jpg', 'label': 0}, {'img_path': 'data/train/0_0_25.jpg', 'label': 0}, {'img_path': 'data/train/0_0_26.jpg', 'label': 0}, {'img_path': 'data/train/0_0_27.jpg', 'label': 0}, {'img_path': 'data/train/0_0_28.jpg', 'label': 0}, {'img_path': 'data/train/0_0_29.jpg', 'label': 0}, {'img_path': 'data/train/0_0_30.jpg', 'label': 0}, {'img_path': 'data/train/0_0_31.jpg', 'label': 0}, {'img_path': 'data/train/0_0_32.jpg', 'label': 0}, {'img_path': 'data/train/0_0_33.jpg', 'label': 0}, {'img_path': 'data/train/0_0_34.jpg', 'label': 0}, {'img_path': 'data/train/0_0_35.jpg', 'label': 0}, {'img_path': 'data/train/0_1_0.jpg', 'label': 0}, {'img_path': 'data/train/0_1_1.jpg', 'label': 0}, {'img_path': 'data/train/0_1_2.jpg', 'label': 0}, {'img_path': 'data/train/0_1_3.jpg', 'label': 0}, {'img_path': 'data/train/0_1_4.jpg', 'label': 0}, {'img_path': 'data/train/0_1_5.jpg', 'label': 0}, {'img_path': 'data/train/0_1_6.jpg', 'label': 0}, {'img_path': 'data/train/0_1_7.jpg', 'label': 0}, {'img_path': 'data/train/0_1_8.jpg', 'label': 0}, {'img_path': 'data/train/0_1_9.jpg', 'label': 0}, {'img_path': 'data/train/0_1_10.jpg', 'label': 0}, {'img_path': 'data/train/0_1_11.jpg', 'label': 0}, {'img_path': 'data/train/0_1_12.jpg', 'label': 0}, {'img_path': 'data/train/0_1_13.jpg', 'label': 0}, {'img_path': 'data/train/0_1_14.jpg', 'label': 0}, {'img_path': 'data/train/0_1_15.jpg', 'label': 0}, {'img_path': 'data/train/0_1_16.jpg', 'label': 0}, {'img_path': 'data/train/0_1_17.jpg', 'label': 0}, {'img_path': 'data/train/0_1_18.jpg', 'label': 0}, {'img_path': 'data/train/0_1_19.jpg', 'label': 0}, {'img_path': 'data/train/0_1_20.jpg', 'label': 0}, {'img_path': 'data/train/0_1_21.jpg', 'label': 0}, {'img_path': 'data/train/0_1_22.jpg', 'label': 0}, {'img_path': 'data/train/0_1_23.jpg', 'label': 0}, {'img_path': 'data/train/0_1_24.jpg', 'label': 0}, {'img_path': 'data/train/0_1_25.jpg', 'label': 0}, {'img_path': 'data/train/0_1_26.jpg', 'label': 0}, {'img_path': 'data/train/0_1_27.jpg', 'label': 0}, {'img_path': 'data/train/0_1_28.jpg', 'label': 0}, {'img_path': 'data/train/0_1_29.jpg', 'label': 0}, {'img_path': 'data/train/0_1_30.jpg', 'label': 0}, {'img_path': 'data/train/0_1_31.jpg', 'label': 0}, {'img_path': 'data/train/0_1_32.jpg', 'label': 0}, {'img_path': 'data/train/0_1_33.jpg', 'label': 0}, {'img_path': 'data/train/0_1_34.jpg', 'label': 0}, {'img_path': 'data/train/0_1_35.jpg', 'label': 0}, {'img_path': 'data/train/0_2_0.jpg', 'label': 0}, {'img_path': 'data/train/0_2_1.jpg', 'label': 0}, {'img_path': 'data/train/0_2_2.jpg', 'label': 0}, {'img_path': 'data/train/0_2_3.jpg', 'label': 0}, {'img_path': 'data/train/0_2_4.jpg', 'label': 0}, {'img_path': 'data/train/0_2_5.jpg', 'label': 0}, {'img_path': 'data/train/0_2_6.jpg', 'label': 0}, {'img_path': 'data/train/0_2_7.jpg', 'label': 0}, {'img_path': 'data/train/0_2_8.jpg', 'label': 0}, {'img_path': 'data/train/0_2_9.jpg', 'label': 0}, {'img_path': 'data/train/0_2_10.jpg', 'label': 0}, {'img_path': 'data/train/0_2_11.jpg', 'label': 0}, {'img_path': 'data/train/0_2_12.jpg', 'label': 0}, {'img_path': 'data/train/0_2_13.jpg', 'label': 0}, {'img_path': 'data/train/0_2_14.jpg', 'label': 0}, {'img_path': 'data/train/0_2_15.jpg', 'label': 0}, {'img_path': 'data/train/0_2_16.jpg', 'label': 0}, {'img_path': 'data/train/0_2_17.jpg', 'label': 0}, {'img_path': 'data/train/0_2_18.jpg', 'label': 0}, {'img_path': 'data/train/0_2_19.jpg', 'label': 0}, {'img_path': 'data/train/0_2_20.jpg', 'label': 0}, {'img_path': 'data/train/0_2_21.jpg', 'label': 0}, {'img_path': 'data/train/0_2_22.jpg', 'label': 0}, {'img_path': 'data/train/0_2_23.jpg', 'label': 0}, {'img_path': 'data/train/0_2_24.jpg', 'label': 0}, {'img_path': 'data/train/0_2_25.jpg', 'label': 0}, {'img_path': 'data/train/0_2_26.jpg', 'label': 0}, {'img_path': 'data/train/0_2_27.jpg', 'label': 0}, {'img_path': 'data/train/0_2_28.jpg', 'label': 0}, {'img_path': 'data/train/0_2_29.jpg', 'label': 0}, {'img_path': 'data/train/0_2_30.jpg', 'label': 0}, {'img_path': 'data/train/0_2_31.jpg', 'label': 0}, {'img_path': 'data/train/0_2_32.jpg', 'label': 0}, {'img_path': 'data/train/0_2_33.jpg', 'label': 0}, {'img_path': 'data/train/0_2_34.jpg', 'label': 0}, {'img_path': 'data/train/0_2_35.jpg', 'label': 0}, {'img_path': 'data/train/0_3_0.jpg', 'label': 0}, {'img_path': 'data/train/0_3_1.jpg', 'label': 0}, {'img_path': 'data/train/0_3_2.jpg', 'label': 0}, {'img_path': 'data/train/0_3_3.jpg', 'label': 0}, {'img_path': 'data/train/0_3_4.jpg', 'label': 0}, {'img_path': 'data/train/0_3_5.jpg', 'label': 0}, {'img_path': 'data/train/0_3_6.jpg', 'label': 0}, {'img_path': 'data/train/0_3_7.jpg', 'label': 0}, {'img_path': 'data/train/0_3_8.jpg', 'label': 0}, {'img_path': 'data/train/0_3_9.jpg', 'label': 0}, {'img_path': 'data/train/0_3_10.jpg', 'label': 0}, {'img_path': 'data/train/0_3_11.jpg', 'label': 0}, {'img_path': 'data/train/0_3_12.jpg', 'label': 0}, {'img_path': 'data/train/0_3_13.jpg', 'label': 0}, {'img_path': 'data/train/0_3_14.jpg', 'label': 0}, {'img_path': 'data/train/0_3_15.jpg', 'label': 0}, {'img_path': 'data/train/0_3_16.jpg', 'label': 0}, {'img_path': 'data/train/0_3_17.jpg', 'label': 0}, {'img_path': 'data/train/0_3_18.jpg', 'label': 0}, {'img_path': 'data/train/0_3_19.jpg', 'label': 0}, {'img_path': 'data/train/0_3_20.jpg', 'label': 0}, {'img_path': 'data/train/0_3_21.jpg', 'label': 0}, {'img_path': 'data/train/0_3_22.jpg', 'label': 0}, {'img_path': 'data/train/0_3_23.jpg', 'label': 0}, {'img_path': 'data/train/0_3_24.jpg', 'label': 0}, {'img_path': 'data/train/0_3_25.jpg', 'label': 0}, {'img_path': 'data/train/0_3_26.jpg', 'label': 0}, {'img_path': 'data/train/0_3_27.jpg', 'label': 0}, {'img_path': 'data/train/0_3_28.jpg', 'label': 0}, {'img_path': 'data/train/0_3_29.jpg', 'label': 0}, {'img_path': 'data/train/0_3_30.jpg', 'label': 0}, {'img_path': 'data/train/0_3_31.jpg', 'label': 0}, {'img_path': 'data/train/0_3_32.jpg', 'label': 0}, {'img_path': 'data/train/0_3_33.jpg', 'label': 0}, {'img_path': 'data/train/0_3_34.jpg', 'label': 0}, {'img_path': 'data/train/0_3_35.jpg', 'label': 0}, {'img_path': 'data/train/0_4_0.jpg', 'label': 0}, {'img_path': 'data/train/0_4_1.jpg', 'label': 0}, {'img_path': 'data/train/0_4_2.jpg', 'label': 0}, {'img_path': 'data/train/0_4_3.jpg', 'label': 0}, {'img_path': 'data/train/0_4_4.jpg', 'label': 0}, {'img_path': 'data/train/0_4_5.jpg', 'label': 0}, {'img_path': 'data/train/0_4_6.jpg', 'label': 0}, {'img_path': 'data/train/0_4_7.jpg', 'label': 0}, {'img_path': 'data/train/0_4_8.jpg', 'label': 0}, {'img_path': 'data/train/0_4_9.jpg', 'label': 0}, {'img_path': 'data/train/0_4_10.jpg', 'label': 0}, {'img_path': 'data/train/0_4_11.jpg', 'label': 0}, {'img_path': 'data/train/0_4_12.jpg', 'label': 0}, {'img_path': 'data/train/0_4_13.jpg', 'label': 0}, {'img_path': 'data/train/0_4_14.jpg', 'label': 0}, {'img_path': 'data/train/0_4_15.jpg', 'label': 0}, {'img_path': 'data/train/0_4_16.jpg', 'label': 0}, {'img_path': 'data/train/0_4_17.jpg', 'label': 0}, {'img_path': 'data/train/0_4_18.jpg', 'label': 0}, {'img_path': 'data/train/0_4_19.jpg', 'label': 0}, {'img_path': 'data/train/0_4_20.jpg', 'label': 0}, {'img_path': 'data/train/0_4_21.jpg', 'label': 0}, {'img_path': 'data/train/0_4_22.jpg', 'label': 0}, {'img_path': 'data/train/0_4_23.jpg', 'label': 0}, {'img_path': 'data/train/0_4_24.jpg', 'label': 0}, {'img_path': 'data/train/0_4_25.jpg', 'label': 0}, {'img_path': 'data/train/0_4_26.jpg', 'label': 0}, {'img_path': 'data/train/0_4_27.jpg', 'label': 0}, {'img_path': 'data/train/0_4_28.jpg', 'label': 0}, {'img_path': 'data/train/0_4_29.jpg', 'label': 0}, {'img_path': 'data/train/0_4_30.jpg', 'label': 0}, {'img_path': 'data/train/0_4_31.jpg', 'label': 0}, {'img_path': 'data/train/0_4_32.jpg', 'label': 0}, {'img_path': 'data/train/0_4_33.jpg', 'label': 0}, {'img_path': 'data/train/0_4_34.jpg', 'label': 0}, {'img_path': 'data/train/0_4_35.jpg', 'label': 0}, {'img_path': 'data/train/0_5_0.jpg', 'label': 0}, {'img_path': 'data/train/0_5_1.jpg', 'label': 0}, {'img_path': 'data/train/0_5_2.jpg', 'label': 0}, {'img_path': 'data/train/0_5_3.jpg', 'label': 0}, {'img_path': 'data/train/0_5_4.jpg', 'label': 0}, {'img_path': 'data/train/0_5_5.jpg', 'label': 0}, {'img_path': 'data/train/0_5_6.jpg', 'label': 0}, {'img_path': 'data/train/0_5_7.jpg', 'label': 0}, {'img_path': 'data/train/0_5_8.jpg', 'label': 0}, {'img_path': 'data/train/0_5_9.jpg', 'label': 0}, {'img_path': 'data/train/0_5_10.jpg', 'label': 0}, {'img_path': 'data/train/0_5_11.jpg', 'label': 0}, {'img_path': 'data/train/0_5_12.jpg', 'label': 0}, {'img_path': 'data/train/0_5_13.jpg', 'label': 0}, {'img_path': 'data/train/0_5_14.jpg', 'label': 0}, {'img_path': 'data/train/0_5_15.jpg', 'label': 0}, {'img_path': 'data/train/0_5_16.jpg', 'label': 0}, {'img_path': 'data/train/0_5_17.jpg', 'label': 0}, {'img_path': 'data/train/0_5_18.jpg', 'label': 0}, {'img_path': 'data/train/0_5_19.jpg', 'label': 0}, {'img_path': 'data/train/0_5_20.jpg', 'label': 0}, {'img_path': 'data/train/0_5_21.jpg', 'label': 0}, {'img_path': 'data/train/0_5_22.jpg', 'label': 0}, {'img_path': 'data/train/0_5_23.jpg', 'label': 0}, {'img_path': 'data/train/0_5_24.jpg', 'label': 0}, {'img_path': 'data/train/0_5_25.jpg', 'label': 0}, {'img_path': 'data/train/0_5_26.jpg', 'label': 0}, {'img_path': 'data/train/0_5_27.jpg', 'label': 0}, {'img_path': 'data/train/0_5_28.jpg', 'label': 0}, {'img_path': 'data/train/0_5_29.jpg', 'label': 0}, {'img_path': 'data/train/0_5_30.jpg', 'label': 0}, {'img_path': 'data/train/0_5_31.jpg', 'label': 0}, {'img_path': 'data/train/0_5_32.jpg', 'label': 0}, {'img_path': 'data/train/0_5_33.jpg', 'label': 0}, {'img_path': 'data/train/0_5_34.jpg', 'label': 0}, {'img_path': 'data/train/0_5_35.jpg', 'label': 0}, {'img_path': 'data/train/0_6_0.jpg', 'label': 0}, {'img_path': 'data/train/0_6_1.jpg', 'label': 0}, {'img_path': 'data/train/0_6_2.jpg', 'label': 0}, {'img_path': 'data/train/0_6_3.jpg', 'label': 0}, {'img_path': 'data/train/0_6_4.jpg', 'label': 0}, {'img_path': 'data/train/0_6_5.jpg', 'label': 0}, {'img_path': 'data/train/0_6_6.jpg', 'label': 0}, {'img_path': 'data/train/0_6_7.jpg', 'label': 0}, {'img_path': 'data/train/0_6_8.jpg', 'label': 0}, {'img_path': 'data/train/0_6_9.jpg', 'label': 0}, {'img_path': 'data/train/0_6_10.jpg', 'label': 0}, {'img_path': 'data/train/0_6_11.jpg', 'label': 0}, {'img_path': 'data/train/0_6_12.jpg', 'label': 0}, {'img_path': 'data/train/0_6_13.jpg', 'label': 0}, {'img_path': 'data/train/0_6_14.jpg', 'label': 0}, {'img_path': 'data/train/0_6_15.jpg', 'label': 0}, {'img_path': 'data/train/0_6_16.jpg', 'label': 0}, {'img_path': 'data/train/0_6_17.jpg', 'label': 0}, {'img_path': 'data/train/0_6_18.jpg', 'label': 0}, {'img_path': 'data/train/0_6_19.jpg', 'label': 0}, {'img_path': 'data/train/0_6_20.jpg', 'label': 0}, {'img_path': 'data/train/0_6_21.jpg', 'label': 0}, {'img_path': 'data/train/0_6_22.jpg', 'label': 0}, {'img_path': 'data/train/0_6_23.jpg', 'label': 0}, {'img_path': 'data/train/0_6_24.jpg', 'label': 0}, {'img_path': 'data/train/0_6_25.jpg', 'label': 0}, {'img_path': 'data/train/0_6_26.jpg', 'label': 0}, {'img_path': 'data/train/0_6_27.jpg', 'label': 0}, {'img_path': 'data/train/0_6_28.jpg', 'label': 0}, {'img_path': 'data/train/0_6_29.jpg', 'label': 0}, {'img_path': 'data/train/0_6_30.jpg', 'label': 0}, {'img_path': 'data/train/0_6_31.jpg', 'label': 0}, {'img_path': 'data/train/0_6_32.jpg', 'label': 0}, {'img_path': 'data/train/0_6_33.jpg', 'label': 0}, {'img_path': 'data/train/0_6_34.jpg', 'label': 0}, {'img_path': 'data/train/0_6_35.jpg', 'label': 0}, {'img_path': 'data/train/0_7_0.jpg', 'label': 0}, {'img_path': 'data/train/0_7_1.jpg', 'label': 0}, {'img_path': 'data/train/0_7_2.jpg', 'label': 0}, {'img_path': 'data/train/0_7_3.jpg', 'label': 0}, {'img_path': 'data/train/0_7_4.jpg', 'label': 0}, {'img_path': 'data/train/0_7_5.jpg', 'label': 0}, {'img_path': 'data/train/0_7_6.jpg', 'label': 0}, {'img_path': 'data/train/0_7_7.jpg', 'label': 0}, {'img_path': 'data/train/0_7_8.jpg', 'label': 0}, {'img_path': 'data/train/0_7_9.jpg', 'label': 0}, {'img_path': 'data/train/0_7_10.jpg', 'label': 0}, {'img_path': 'data/train/0_7_11.jpg', 'label': 0}, {'img_path': 'data/train/0_7_12.jpg', 'label': 0}, {'img_path': 'data/train/0_7_13.jpg', 'label': 0}, {'img_path': 'data/train/0_7_14.jpg', 'label': 0}, {'img_path': 'data/train/0_7_15.jpg', 'label': 0}, {'img_path': 'data/train/0_7_16.jpg', 'label': 0}, {'img_path': 'data/train/0_7_17.jpg', 'label': 0}, {'img_path': 'data/train/0_7_18.jpg', 'label': 0}, {'img_path': 'data/train/0_7_19.jpg', 'label': 0}, {'img_path': 'data/train/0_7_20.jpg', 'label': 0}, {'img_path': 'data/train/0_7_21.jpg', 'label': 0}, {'img_path': 'data/train/0_7_22.jpg', 'label': 0}, {'img_path': 'data/train/0_7_23.jpg', 'label': 0}, {'img_path': 'data/train/0_7_24.jpg', 'label': 0}, {'img_path': 'data/train/0_7_25.jpg', 'label': 0}, {'img_path': 'data/train/0_7_26.jpg', 'label': 0}, {'img_path': 'data/train/0_7_27.jpg', 'label': 0}, {'img_path': 'data/train/0_7_28.jpg', 'label': 0}, {'img_path': 'data/train/0_7_29.jpg', 'label': 0}, {'img_path': 'data/train/0_7_30.jpg', 'label': 0}, {'img_path': 'data/train/0_7_31.jpg', 'label': 0}, {'img_path': 'data/train/0_7_32.jpg', 'label': 0}, {'img_path': 'data/train/0_7_33.jpg', 'label': 0}, {'img_path': 'data/train/0_7_34.jpg', 'label': 0}, {'img_path': 'data/train/0_7_35.jpg', 'label': 0}, {'img_path': 'data/train/1_0_0.jpg', 'label': 1}, {'img_path': 'data/train/1_0_1.jpg', 'label': 1}, {'img_path': 'data/train/1_0_2.jpg', 'label': 1}, {'img_path': 'data/train/1_0_3.jpg', 'label': 1}, {'img_path': 'data/train/1_0_4.jpg', 'label': 1}, {'img_path': 'data/train/1_0_5.jpg', 'label': 1}, {'img_path': 'data/train/1_0_6.jpg', 'label': 1}, {'img_path': 'data/train/1_0_7.jpg', 'label': 1}, {'img_path': 'data/train/1_0_8.jpg', 'label': 1}, {'img_path': 'data/train/1_0_9.jpg', 'label': 1}, {'img_path': 'data/train/1_0_10.jpg', 'label': 1}, {'img_path': 'data/train/1_0_11.jpg', 'label': 1}, {'img_path': 'data/train/1_0_12.jpg', 'label': 1}, {'img_path': 'data/train/1_0_13.jpg', 'label': 1}, {'img_path': 'data/train/1_0_14.jpg', 'label': 1}, {'img_path': 'data/train/1_0_15.jpg', 'label': 1}, {'img_path': 'data/train/1_0_16.jpg', 'label': 1}, {'img_path': 'data/train/1_0_17.jpg', 'label': 1}, {'img_path': 'data/train/1_0_18.jpg', 'label': 1}, {'img_path': 'data/train/1_0_19.jpg', 'label': 1}, {'img_path': 'data/train/1_0_20.jpg', 'label': 1}, {'img_path': 'data/train/1_0_21.jpg', 'label': 1}, {'img_path': 'data/train/1_0_22.jpg', 'label': 1}, {'img_path': 'data/train/1_0_23.jpg', 'label': 1}, {'img_path': 'data/train/1_0_24.jpg', 'label': 1}, {'img_path': 'data/train/1_0_25.jpg', 'label': 1}, {'img_path': 'data/train/1_0_26.jpg', 'label': 1}, {'img_path': 'data/train/1_0_27.jpg', 'label': 1}, {'img_path': 'data/train/1_0_28.jpg', 'label': 1}, {'img_path': 'data/train/1_0_29.jpg', 'label': 1}, {'img_path': 'data/train/1_0_30.jpg', 'label': 1}, {'img_path': 'data/train/1_0_31.jpg', 'label': 1}, {'img_path': 'data/train/1_0_32.jpg', 'label': 1}, {'img_path': 'data/train/1_0_33.jpg', 'label': 1}, {'img_path': 'data/train/1_0_34.jpg', 'label': 1}, {'img_path': 'data/train/1_0_35.jpg', 'label': 1}, {'img_path': 'data/train/1_1_0.jpg', 'label': 1}, {'img_path': 'data/train/1_1_1.jpg', 'label': 1}, {'img_path': 'data/train/1_1_2.jpg', 'label': 1}, {'img_path': 'data/train/1_1_3.jpg', 'label': 1}, {'img_path': 'data/train/1_1_4.jpg', 'label': 1}, {'img_path': 'data/train/1_1_5.jpg', 'label': 1}, {'img_path': 'data/train/1_1_6.jpg', 'label': 1}, {'img_path': 'data/train/1_1_7.jpg', 'label': 1}, {'img_path': 'data/train/1_1_8.jpg', 'label': 1}, {'img_path': 'data/train/1_1_9.jpg', 'label': 1}, {'img_path': 'data/train/1_1_10.jpg', 'label': 1}, {'img_path': 'data/train/1_1_11.jpg', 'label': 1}, {'img_path': 'data/train/1_1_12.jpg', 'label': 1}, {'img_path': 'data/train/1_1_13.jpg', 'label': 1}, {'img_path': 'data/train/1_1_14.jpg', 'label': 1}, {'img_path': 'data/train/1_1_15.jpg', 'label': 1}, {'img_path': 'data/train/1_1_16.jpg', 'label': 1}, {'img_path': 'data/train/1_1_17.jpg', 'label': 1}, {'img_path': 'data/train/1_1_18.jpg', 'label': 1}, {'img_path': 'data/train/1_1_19.jpg', 'label': 1}, {'img_path': 'data/train/1_1_20.jpg', 'label': 1}, {'img_path': 'data/train/1_1_21.jpg', 'label': 1}, {'img_path': 'data/train/1_1_22.jpg', 'label': 1}, {'img_path': 'data/train/1_1_23.jpg', 'label': 1}, {'img_path': 'data/train/1_1_24.jpg', 'label': 1}, {'img_path': 'data/train/1_1_25.jpg', 'label': 1}, {'img_path': 'data/train/1_1_26.jpg', 'label': 1}, {'img_path': 'data/train/1_1_27.jpg', 'label': 1}, {'img_path': 'data/train/1_1_28.jpg', 'label': 1}, {'img_path': 'data/train/1_1_29.jpg', 'label': 1}, {'img_path': 'data/train/1_1_30.jpg', 'label': 1}, {'img_path': 'data/train/1_1_31.jpg', 'label': 1}, {'img_path': 'data/train/1_1_32.jpg', 'label': 1}, {'img_path': 'data/train/1_1_33.jpg', 'label': 1}, {'img_path': 'data/train/1_1_34.jpg', 'label': 1}, {'img_path': 'data/train/1_1_35.jpg', 'label': 1}, {'img_path': 'data/train/1_2_0.jpg', 'label': 1}, {'img_path': 'data/train/1_2_1.jpg', 'label': 1}, {'img_path': 'data/train/1_2_2.jpg', 'label': 1}, {'img_path': 'data/train/1_2_3.jpg', 'label': 1}, {'img_path': 'data/train/1_2_4.jpg', 'label': 1}, {'img_path': 'data/train/1_2_5.jpg', 'label': 1}, {'img_path': 'data/train/1_2_6.jpg', 'label': 1}, {'img_path': 'data/train/1_2_7.jpg', 'label': 1}, {'img_path': 'data/train/1_2_8.jpg', 'label': 1}, {'img_path': 'data/train/1_2_9.jpg', 'label': 1}, {'img_path': 'data/train/1_2_10.jpg', 'label': 1}, {'img_path': 'data/train/1_2_11.jpg', 'label': 1}, {'img_path': 'data/train/1_2_12.jpg', 'label': 1}, {'img_path': 'data/train/1_2_13.jpg', 'label': 1}, {'img_path': 'data/train/1_2_14.jpg', 'label': 1}, {'img_path': 'data/train/1_2_15.jpg', 'label': 1}, {'img_path': 'data/train/1_2_16.jpg', 'label': 1}, {'img_path': 'data/train/1_2_17.jpg', 'label': 1}, {'img_path': 'data/train/1_2_18.jpg', 'label': 1}, {'img_path': 'data/train/1_2_19.jpg', 'label': 1}, {'img_path': 'data/train/1_2_20.jpg', 'label': 1}, {'img_path': 'data/train/1_2_21.jpg', 'label': 1}, {'img_path': 'data/train/1_2_22.jpg', 'label': 1}, {'img_path': 'data/train/1_2_23.jpg', 'label': 1}, {'img_path': 'data/train/1_2_24.jpg', 'label': 1}, {'img_path': 'data/train/1_2_25.jpg', 'label': 1}, {'img_path': 'data/train/1_2_26.jpg', 'label': 1}, {'img_path': 'data/train/1_2_27.jpg', 'label': 1}, {'img_path': 'data/train/1_2_28.jpg', 'label': 1}, {'img_path': 'data/train/1_2_29.jpg', 'label': 1}, {'img_path': 'data/train/1_2_30.jpg', 'label': 1}, {'img_path': 'data/train/1_2_31.jpg', 'label': 1}, {'img_path': 'data/train/1_2_32.jpg', 'label': 1}, {'img_path': 'data/train/1_2_33.jpg', 'label': 1}, {'img_path': 'data/train/1_2_34.jpg', 'label': 1}, {'img_path': 'data/train/1_2_35.jpg', 'label': 1}, {'img_path': 'data/train/1_3_0.jpg', 'label': 1}, {'img_path': 'data/train/1_3_1.jpg', 'label': 1}, {'img_path': 'data/train/1_3_2.jpg', 'label': 1}, {'img_path': 'data/train/1_3_3.jpg', 'label': 1}, {'img_path': 'data/train/1_3_4.jpg', 'label': 1}, {'img_path': 'data/train/1_3_5.jpg', 'label': 1}, {'img_path': 'data/train/1_3_6.jpg', 'label': 1}, {'img_path': 'data/train/1_3_7.jpg', 'label': 1}, {'img_path': 'data/train/1_3_8.jpg', 'label': 1}, {'img_path': 'data/train/1_3_9.jpg', 'label': 1}, {'img_path': 'data/train/1_3_10.jpg', 'label': 1}, {'img_path': 'data/train/1_3_11.jpg', 'label': 1}, {'img_path': 'data/train/1_3_12.jpg', 'label': 1}, {'img_path': 'data/train/1_3_13.jpg', 'label': 1}, {'img_path': 'data/train/1_3_14.jpg', 'label': 1}, {'img_path': 'data/train/1_3_15.jpg', 'label': 1}, {'img_path': 'data/train/1_3_16.jpg', 'label': 1}, {'img_path': 'data/train/1_3_17.jpg', 'label': 1}, {'img_path': 'data/train/1_3_18.jpg', 'label': 1}, {'img_path': 'data/train/1_3_19.jpg', 'label': 1}, {'img_path': 'data/train/1_3_20.jpg', 'label': 1}, {'img_path': 'data/train/1_3_21.jpg', 'label': 1}, {'img_path': 'data/train/1_3_22.jpg', 'label': 1}, {'img_path': 'data/train/1_3_23.jpg', 'label': 1}, {'img_path': 'data/train/1_3_24.jpg', 'label': 1}, {'img_path': 'data/train/1_3_25.jpg', 'label': 1}, {'img_path': 'data/train/1_3_26.jpg', 'label': 1}, {'img_path': 'data/train/1_3_27.jpg', 'label': 1}, {'img_path': 'data/train/1_3_28.jpg', 'label': 1}, {'img_path': 'data/train/1_3_29.jpg', 'label': 1}, {'img_path': 'data/train/1_3_30.jpg', 'label': 1}, {'img_path': 'data/train/1_3_31.jpg', 'label': 1}, {'img_path': 'data/train/1_3_32.jpg', 'label': 1}, {'img_path': 'data/train/1_3_33.jpg', 'label': 1}, {'img_path': 'data/train/1_3_34.jpg', 'label': 1}, {'img_path': 'data/train/1_3_35.jpg', 'label': 1}, {'img_path': 'data/train/1_4_0.jpg', 'label': 1}, {'img_path': 'data/train/1_4_1.jpg', 'label': 1}, {'img_path': 'data/train/1_4_2.jpg', 'label': 1}, {'img_path': 'data/train/1_4_3.jpg', 'label': 1}, {'img_path': 'data/train/1_4_4.jpg', 'label': 1}, {'img_path': 'data/train/1_4_5.jpg', 'label': 1}, {'img_path': 'data/train/1_4_6.jpg', 'label': 1}, {'img_path': 'data/train/1_4_7.jpg', 'label': 1}, {'img_path': 'data/train/1_4_8.jpg', 'label': 1}, {'img_path': 'data/train/1_4_9.jpg', 'label': 1}, {'img_path': 'data/train/1_4_10.jpg', 'label': 1}, {'img_path': 'data/train/1_4_11.jpg', 'label': 1}, {'img_path': 'data/train/1_4_12.jpg', 'label': 1}, {'img_path': 'data/train/1_4_13.jpg', 'label': 1}, {'img_path': 'data/train/1_4_14.jpg', 'label': 1}, {'img_path': 'data/train/1_4_15.jpg', 'label': 1}, {'img_path': 'data/train/1_4_16.jpg', 'label': 1}, {'img_path': 'data/train/1_4_17.jpg', 'label': 1}, {'img_path': 'data/train/1_4_18.jpg', 'label': 1}, {'img_path': 'data/train/1_4_19.jpg', 'label': 1}, {'img_path': 'data/train/1_4_20.jpg', 'label': 1}, {'img_path': 'data/train/1_4_21.jpg', 'label': 1}, {'img_path': 'data/train/1_4_22.jpg', 'label': 1}, {'img_path': 'data/train/1_4_23.jpg', 'label': 1}, {'img_path': 'data/train/1_4_24.jpg', 'label': 1}, {'img_path': 'data/train/1_4_25.jpg', 'label': 1}, {'img_path': 'data/train/1_4_26.jpg', 'label': 1}, {'img_path': 'data/train/1_4_27.jpg', 'label': 1}, {'img_path': 'data/train/1_4_28.jpg', 'label': 1}, {'img_path': 'data/train/1_4_29.jpg', 'label': 1}, {'img_path': 'data/train/1_4_30.jpg', 'label': 1}, {'img_path': 'data/train/1_4_31.jpg', 'label': 1}, {'img_path': 'data/train/1_4_32.jpg', 'label': 1}, {'img_path': 'data/train/1_4_33.jpg', 'label': 1}, {'img_path': 'data/train/1_4_34.jpg', 'label': 1}, {'img_path': 'data/train/1_4_35.jpg', 'label': 1}, {'img_path': 'data/train/1_5_0.jpg', 'label': 1}, {'img_path': 'data/train/1_5_1.jpg', 'label': 1}, {'img_path': 'data/train/1_5_2.jpg', 'label': 1}, {'img_path': 'data/train/1_5_3.jpg', 'label': 1}, {'img_path': 'data/train/1_5_4.jpg', 'label': 1}, {'img_path': 'data/train/1_5_5.jpg', 'label': 1}, {'img_path': 'data/train/1_5_6.jpg', 'label': 1}, {'img_path': 'data/train/1_5_7.jpg', 'label': 1}, {'img_path': 'data/train/1_5_8.jpg', 'label': 1}, {'img_path': 'data/train/1_5_9.jpg', 'label': 1}, {'img_path': 'data/train/1_5_10.jpg', 'label': 1}, {'img_path': 'data/train/1_5_11.jpg', 'label': 1}, {'img_path': 'data/train/1_5_12.jpg', 'label': 1}, {'img_path': 'data/train/1_5_13.jpg', 'label': 1}, {'img_path': 'data/train/1_5_14.jpg', 'label': 1}, {'img_path': 'data/train/1_5_15.jpg', 'label': 1}, {'img_path': 'data/train/1_5_16.jpg', 'label': 1}, {'img_path': 'data/train/1_5_17.jpg', 'label': 1}, {'img_path': 'data/train/1_5_18.jpg', 'label': 1}, {'img_path': 'data/train/1_5_19.jpg', 'label': 1}, {'img_path': 'data/train/1_5_20.jpg', 'label': 1}, {'img_path': 'data/train/1_5_21.jpg', 'label': 1}, {'img_path': 'data/train/1_5_22.jpg', 'label': 1}, {'img_path': 'data/train/1_5_23.jpg', 'label': 1}, {'img_path': 'data/train/1_5_24.jpg', 'label': 1}, {'img_path': 'data/train/1_5_25.jpg', 'label': 1}, {'img_path': 'data/train/1_5_26.jpg', 'label': 1}, {'img_path': 'data/train/1_5_27.jpg', 'label': 1}, {'img_path': 'data/train/1_5_28.jpg', 'label': 1}, {'img_path': 'data/train/1_5_29.jpg', 'label': 1}, {'img_path': 'data/train/1_5_30.jpg', 'label': 1}, {'img_path': 'data/train/1_5_31.jpg', 'label': 1}, {'img_path': 'data/train/1_5_32.jpg', 'label': 1}, {'img_path': 'data/train/1_5_33.jpg', 'label': 1}, {'img_path': 'data/train/1_5_34.jpg', 'label': 1}, {'img_path': 'data/train/1_5_35.jpg', 'label': 1}, {'img_path': 'data/train/1_6_0.jpg', 'label': 1}, {'img_path': 'data/train/1_6_1.jpg', 'label': 1}, {'img_path': 'data/train/1_6_2.jpg', 'label': 1}, {'img_path': 'data/train/1_6_3.jpg', 'label': 1}, {'img_path': 'data/train/1_6_4.jpg', 'label': 1}, {'img_path': 'data/train/1_6_5.jpg', 'label': 1}, {'img_path': 'data/train/1_6_6.jpg', 'label': 1}, {'img_path': 'data/train/1_6_7.jpg', 'label': 1}, {'img_path': 'data/train/1_6_8.jpg', 'label': 1}, {'img_path': 'data/train/1_6_9.jpg', 'label': 1}, {'img_path': 'data/train/1_6_10.jpg', 'label': 1}, {'img_path': 'data/train/1_6_11.jpg', 'label': 1}, {'img_path': 'data/train/1_6_12.jpg', 'label': 1}, {'img_path': 'data/train/1_6_13.jpg', 'label': 1}, {'img_path': 'data/train/1_6_14.jpg', 'label': 1}, {'img_path': 'data/train/1_6_15.jpg', 'label': 1}, {'img_path': 'data/train/1_6_16.jpg', 'label': 1}, {'img_path': 'data/train/1_6_17.jpg', 'label': 1}, {'img_path': 'data/train/1_6_18.jpg', 'label': 1}, {'img_path': 'data/train/1_6_19.jpg', 'label': 1}, {'img_path': 'data/train/1_6_20.jpg', 'label': 1}, {'img_path': 'data/train/1_6_21.jpg', 'label': 1}, {'img_path': 'data/train/1_6_22.jpg', 'label': 1}, {'img_path': 'data/train/1_6_23.jpg', 'label': 1}, {'img_path': 'data/train/1_6_24.jpg', 'label': 1}, {'img_path': 'data/train/1_6_25.jpg', 'label': 1}, {'img_path': 'data/train/1_6_26.jpg', 'label': 1}, {'img_path': 'data/train/1_6_27.jpg', 'label': 1}, {'img_path': 'data/train/1_6_28.jpg', 'label': 1}, {'img_path': 'data/train/1_6_29.jpg', 'label': 1}, {'img_path': 'data/train/1_6_30.jpg', 'label': 1}, {'img_path': 'data/train/1_6_31.jpg', 'label': 1}, {'img_path': 'data/train/1_6_32.jpg', 'label': 1}, {'img_path': 'data/train/1_6_33.jpg', 'label': 1}, {'img_path': 'data/train/1_6_34.jpg', 'label': 1}, {'img_path': 'data/train/1_6_35.jpg', 'label': 1}, {'img_path': 'data/train/1_7_0.jpg', 'label': 1}, {'img_path': 'data/train/1_7_1.jpg', 'label': 1}, {'img_path': 'data/train/1_7_2.jpg', 'label': 1}, {'img_path': 'data/train/1_7_3.jpg', 'label': 1}, {'img_path': 'data/train/1_7_4.jpg', 'label': 1}, {'img_path': 'data/train/1_7_5.jpg', 'label': 1}, {'img_path': 'data/train/1_7_6.jpg', 'label': 1}, {'img_path': 'data/train/1_7_7.jpg', 'label': 1}, {'img_path': 'data/train/1_7_8.jpg', 'label': 1}, {'img_path': 'data/train/1_7_9.jpg', 'label': 1}, {'img_path': 'data/train/1_7_10.jpg', 'label': 1}, {'img_path': 'data/train/1_7_11.jpg', 'label': 1}, {'img_path': 'data/train/1_7_12.jpg', 'label': 1}, {'img_path': 'data/train/1_7_13.jpg', 'label': 1}, {'img_path': 'data/train/1_7_14.jpg', 'label': 1}, {'img_path': 'data/train/1_7_15.jpg', 'label': 1}, {'img_path': 'data/train/1_7_16.jpg', 'label': 1}, {'img_path': 'data/train/1_7_17.jpg', 'label': 1}, {'img_path': 'data/train/1_7_18.jpg', 'label': 1}, {'img_path': 'data/train/1_7_19.jpg', 'label': 1}, {'img_path': 'data/train/1_7_20.jpg', 'label': 1}, {'img_path': 'data/train/1_7_21.jpg', 'label': 1}, {'img_path': 'data/train/1_7_22.jpg', 'label': 1}, {'img_path': 'data/train/1_7_23.jpg', 'label': 1}, {'img_path': 'data/train/1_7_24.jpg', 'label': 1}, {'img_path': 'data/train/1_7_25.jpg', 'label': 1}, {'img_path': 'data/train/1_7_26.jpg', 'label': 1}, {'img_path': 'data/train/1_7_27.jpg', 'label': 1}, {'img_path': 'data/train/1_7_28.jpg', 'label': 1}, {'img_path': 'data/train/1_7_29.jpg', 'label': 1}, {'img_path': 'data/train/1_7_30.jpg', 'label': 1}, {'img_path': 'data/train/1_7_31.jpg', 'label': 1}, {'img_path': 'data/train/1_7_32.jpg', 'label': 1}, {'img_path': 'data/train/1_7_33.jpg', 'label': 1}, {'img_path': 'data/train/1_7_34.jpg', 'label': 1}, {'img_path': 'data/train/1_7_35.jpg', 'label': 1}, {'img_path': 'data/train/2_0_0.jpg', 'label': 2}, {'img_path': 'data/train/2_0_1.jpg', 'label': 2}, {'img_path': 'data/train/2_0_2.jpg', 'label': 2}, {'img_path': 'data/train/2_0_3.jpg', 'label': 2}, {'img_path': 'data/train/2_0_4.jpg', 'label': 2}, {'img_path': 'data/train/2_0_5.jpg', 'label': 2}, {'img_path': 'data/train/2_0_6.jpg', 'label': 2}, {'img_path': 'data/train/2_0_7.jpg', 'label': 2}, {'img_path': 'data/train/2_0_8.jpg', 'label': 2}, {'img_path': 'data/train/2_0_9.jpg', 'label': 2}, {'img_path': 'data/train/2_0_10.jpg', 'label': 2}, {'img_path': 'data/train/2_0_11.jpg', 'label': 2}, {'img_path': 'data/train/2_0_12.jpg', 'label': 2}, {'img_path': 'data/train/2_0_13.jpg', 'label': 2}, {'img_path': 'data/train/2_0_14.jpg', 'label': 2}, {'img_path': 'data/train/2_0_15.jpg', 'label': 2}, {'img_path': 'data/train/2_0_16.jpg', 'label': 2}, {'img_path': 'data/train/2_0_17.jpg', 'label': 2}, {'img_path': 'data/train/2_0_18.jpg', 'label': 2}, {'img_path': 'data/train/2_0_19.jpg', 'label': 2}, {'img_path': 'data/train/2_0_20.jpg', 'label': 2}, {'img_path': 'data/train/2_0_21.jpg', 'label': 2}, {'img_path': 'data/train/2_0_22.jpg', 'label': 2}, {'img_path': 'data/train/2_0_23.jpg', 'label': 2}, {'img_path': 'data/train/2_0_24.jpg', 'label': 2}, {'img_path': 'data/train/2_0_25.jpg', 'label': 2}, {'img_path': 'data/train/2_0_26.jpg', 'label': 2}, {'img_path': 'data/train/2_0_27.jpg', 'label': 2}, {'img_path': 'data/train/2_0_28.jpg', 'label': 2}, {'img_path': 'data/train/2_0_29.jpg', 'label': 2}, {'img_path': 'data/train/2_0_30.jpg', 'label': 2}, {'img_path': 'data/train/2_0_31.jpg', 'label': 2}, {'img_path': 'data/train/2_0_32.jpg', 'label': 2}, {'img_path': 'data/train/2_0_33.jpg', 'label': 2}, {'img_path': 'data/train/2_0_34.jpg', 'label': 2}, {'img_path': 'data/train/2_0_35.jpg', 'label': 2}, {'img_path': 'data/train/2_1_0.jpg', 'label': 2}, {'img_path': 'data/train/2_1_1.jpg', 'label': 2}, {'img_path': 'data/train/2_1_2.jpg', 'label': 2}, {'img_path': 'data/train/2_1_3.jpg', 'label': 2}, {'img_path': 'data/train/2_1_4.jpg', 'label': 2}, {'img_path': 'data/train/2_1_5.jpg', 'label': 2}, {'img_path': 'data/train/2_1_6.jpg', 'label': 2}, {'img_path': 'data/train/2_1_7.jpg', 'label': 2}, {'img_path': 'data/train/2_1_8.jpg', 'label': 2}, {'img_path': 'data/train/2_1_9.jpg', 'label': 2}, {'img_path': 'data/train/2_1_10.jpg', 'label': 2}, {'img_path': 'data/train/2_1_11.jpg', 'label': 2}, {'img_path': 'data/train/2_1_12.jpg', 'label': 2}, {'img_path': 'data/train/2_1_13.jpg', 'label': 2}, {'img_path': 'data/train/2_1_14.jpg', 'label': 2}, {'img_path': 'data/train/2_1_15.jpg', 'label': 2}, {'img_path': 'data/train/2_1_16.jpg', 'label': 2}, {'img_path': 'data/train/2_1_17.jpg', 'label': 2}, {'img_path': 'data/train/2_1_18.jpg', 'label': 2}, {'img_path': 'data/train/2_1_19.jpg', 'label': 2}, {'img_path': 'data/train/2_1_20.jpg', 'label': 2}, {'img_path': 'data/train/2_1_21.jpg', 'label': 2}, {'img_path': 'data/train/2_1_22.jpg', 'label': 2}, {'img_path': 'data/train/2_1_23.jpg', 'label': 2}, {'img_path': 'data/train/2_1_24.jpg', 'label': 2}, {'img_path': 'data/train/2_1_25.jpg', 'label': 2}, {'img_path': 'data/train/2_1_26.jpg', 'label': 2}, {'img_path': 'data/train/2_1_27.jpg', 'label': 2}, {'img_path': 'data/train/2_1_28.jpg', 'label': 2}, {'img_path': 'data/train/2_1_29.jpg', 'label': 2}, {'img_path': 'data/train/2_1_30.jpg', 'label': 2}, {'img_path': 'data/train/2_1_31.jpg', 'label': 2}, {'img_path': 'data/train/2_1_32.jpg', 'label': 2}, {'img_path': 'data/train/2_1_33.jpg', 'label': 2}, {'img_path': 'data/train/2_1_34.jpg', 'label': 2}, {'img_path': 'data/train/2_1_35.jpg', 'label': 2}, {'img_path': 'data/train/2_2_0.jpg', 'label': 2}, {'img_path': 'data/train/2_2_1.jpg', 'label': 2}, {'img_path': 'data/train/2_2_2.jpg', 'label': 2}, {'img_path': 'data/train/2_2_3.jpg', 'label': 2}, {'img_path': 'data/train/2_2_4.jpg', 'label': 2}, {'img_path': 'data/train/2_2_5.jpg', 'label': 2}, {'img_path': 'data/train/2_2_6.jpg', 'label': 2}, {'img_path': 'data/train/2_2_7.jpg', 'label': 2}, {'img_path': 'data/train/2_2_8.jpg', 'label': 2}, {'img_path': 'data/train/2_2_9.jpg', 'label': 2}, {'img_path': 'data/train/2_2_10.jpg', 'label': 2}, {'img_path': 'data/train/2_2_11.jpg', 'label': 2}, {'img_path': 'data/train/2_2_12.jpg', 'label': 2}, {'img_path': 'data/train/2_2_13.jpg', 'label': 2}, {'img_path': 'data/train/2_2_14.jpg', 'label': 2}, {'img_path': 'data/train/2_2_15.jpg', 'label': 2}, {'img_path': 'data/train/2_2_16.jpg', 'label': 2}, {'img_path': 'data/train/2_2_17.jpg', 'label': 2}, {'img_path': 'data/train/2_2_18.jpg', 'label': 2}, {'img_path': 'data/train/2_2_19.jpg', 'label': 2}, {'img_path': 'data/train/2_2_20.jpg', 'label': 2}, {'img_path': 'data/train/2_2_21.jpg', 'label': 2}, {'img_path': 'data/train/2_2_22.jpg', 'label': 2}, {'img_path': 'data/train/2_2_23.jpg', 'label': 2}, {'img_path': 'data/train/2_2_24.jpg', 'label': 2}, {'img_path': 'data/train/2_2_25.jpg', 'label': 2}, {'img_path': 'data/train/2_2_26.jpg', 'label': 2}, {'img_path': 'data/train/2_2_27.jpg', 'label': 2}, {'img_path': 'data/train/2_2_28.jpg', 'label': 2}, {'img_path': 'data/train/2_2_29.jpg', 'label': 2}, {'img_path': 'data/train/2_2_30.jpg', 'label': 2}, {'img_path': 'data/train/2_2_31.jpg', 'label': 2}, {'img_path': 'data/train/2_2_32.jpg', 'label': 2}, {'img_path': 'data/train/2_2_33.jpg', 'label': 2}, {'img_path': 'data/train/2_2_34.jpg', 'label': 2}, {'img_path': 'data/train/2_2_35.jpg', 'label': 2}, {'img_path': 'data/train/2_3_0.jpg', 'label': 2}, {'img_path': 'data/train/2_3_1.jpg', 'label': 2}, {'img_path': 'data/train/2_3_2.jpg', 'label': 2}, {'img_path': 'data/train/2_3_3.jpg', 'label': 2}, {'img_path': 'data/train/2_3_4.jpg', 'label': 2}, {'img_path': 'data/train/2_3_5.jpg', 'label': 2}, {'img_path': 'data/train/2_3_6.jpg', 'label': 2}, {'img_path': 'data/train/2_3_7.jpg', 'label': 2}, {'img_path': 'data/train/2_3_8.jpg', 'label': 2}, {'img_path': 'data/train/2_3_9.jpg', 'label': 2}, {'img_path': 'data/train/2_3_10.jpg', 'label': 2}, {'img_path': 'data/train/2_3_11.jpg', 'label': 2}, {'img_path': 'data/train/2_3_12.jpg', 'label': 2}, {'img_path': 'data/train/2_3_13.jpg', 'label': 2}, {'img_path': 'data/train/2_3_14.jpg', 'label': 2}, {'img_path': 'data/train/2_3_15.jpg', 'label': 2}, {'img_path': 'data/train/2_3_16.jpg', 'label': 2}, {'img_path': 'data/train/2_3_17.jpg', 'label': 2}, {'img_path': 'data/train/2_3_18.jpg', 'label': 2}, {'img_path': 'data/train/2_3_19.jpg', 'label': 2}, {'img_path': 'data/train/2_3_20.jpg', 'label': 2}, {'img_path': 'data/train/2_3_21.jpg', 'label': 2}, {'img_path': 'data/train/2_3_22.jpg', 'label': 2}, {'img_path': 'data/train/2_3_23.jpg', 'label': 2}, {'img_path': 'data/train/2_3_24.jpg', 'label': 2}, {'img_path': 'data/train/2_3_25.jpg', 'label': 2}, {'img_path': 'data/train/2_3_26.jpg', 'label': 2}, {'img_path': 'data/train/2_3_27.jpg', 'label': 2}, {'img_path': 'data/train/2_3_28.jpg', 'label': 2}, {'img_path': 'data/train/2_3_29.jpg', 'label': 2}, {'img_path': 'data/train/2_3_30.jpg', 'label': 2}, {'img_path': 'data/train/2_3_31.jpg', 'label': 2}, {'img_path': 'data/train/2_3_32.jpg', 'label': 2}, {'img_path': 'data/train/2_3_33.jpg', 'label': 2}, {'img_path': 'data/train/2_3_34.jpg', 'label': 2}, {'img_path': 'data/train/2_3_35.jpg', 'label': 2}, {'img_path': 'data/train/2_4_0.jpg', 'label': 2}, {'img_path': 'data/train/2_4_1.jpg', 'label': 2}, {'img_path': 'data/train/2_4_2.jpg', 'label': 2}, {'img_path': 'data/train/2_4_3.jpg', 'label': 2}, {'img_path': 'data/train/2_4_4.jpg', 'label': 2}, {'img_path': 'data/train/2_4_5.jpg', 'label': 2}, {'img_path': 'data/train/2_4_6.jpg', 'label': 2}, {'img_path': 'data/train/2_4_7.jpg', 'label': 2}, {'img_path': 'data/train/2_4_8.jpg', 'label': 2}, {'img_path': 'data/train/2_4_9.jpg', 'label': 2}, {'img_path': 'data/train/2_4_10.jpg', 'label': 2}, {'img_path': 'data/train/2_4_11.jpg', 'label': 2}, {'img_path': 'data/train/2_4_12.jpg', 'label': 2}, {'img_path': 'data/train/2_4_13.jpg', 'label': 2}, {'img_path': 'data/train/2_4_14.jpg', 'label': 2}, {'img_path': 'data/train/2_4_15.jpg', 'label': 2}, {'img_path': 'data/train/2_4_16.jpg', 'label': 2}, {'img_path': 'data/train/2_4_17.jpg', 'label': 2}, {'img_path': 'data/train/2_4_18.jpg', 'label': 2}, {'img_path': 'data/train/2_4_19.jpg', 'label': 2}, {'img_path': 'data/train/2_4_20.jpg', 'label': 2}, {'img_path': 'data/train/2_4_21.jpg', 'label': 2}, {'img_path': 'data/train/2_4_22.jpg', 'label': 2}, {'img_path': 'data/train/2_4_23.jpg', 'label': 2}, {'img_path': 'data/train/2_4_24.jpg', 'label': 2}, {'img_path': 'data/train/2_4_25.jpg', 'label': 2}, {'img_path': 'data/train/2_4_26.jpg', 'label': 2}, {'img_path': 'data/train/2_4_27.jpg', 'label': 2}, {'img_path': 'data/train/2_4_28.jpg', 'label': 2}, {'img_path': 'data/train/2_4_29.jpg', 'label': 2}, {'img_path': 'data/train/2_4_30.jpg', 'label': 2}, {'img_path': 'data/train/2_4_31.jpg', 'label': 2}, {'img_path': 'data/train/2_4_32.jpg', 'label': 2}, {'img_path': 'data/train/2_4_33.jpg', 'label': 2}, {'img_path': 'data/train/2_4_34.jpg', 'label': 2}, {'img_path': 'data/train/2_4_35.jpg', 'label': 2}, {'img_path': 'data/train/2_5_0.jpg', 'label': 2}, {'img_path': 'data/train/2_5_1.jpg', 'label': 2}, {'img_path': 'data/train/2_5_2.jpg', 'label': 2}, {'img_path': 'data/train/2_5_3.jpg', 'label': 2}, {'img_path': 'data/train/2_5_4.jpg', 'label': 2}, {'img_path': 'data/train/2_5_5.jpg', 'label': 2}, {'img_path': 'data/train/2_5_6.jpg', 'label': 2}, {'img_path': 'data/train/2_5_7.jpg', 'label': 2}, {'img_path': 'data/train/2_5_8.jpg', 'label': 2}, {'img_path': 'data/train/2_5_9.jpg', 'label': 2}, {'img_path': 'data/train/2_5_10.jpg', 'label': 2}, {'img_path': 'data/train/2_5_11.jpg', 'label': 2}, {'img_path': 'data/train/2_5_12.jpg', 'label': 2}, {'img_path': 'data/train/2_5_13.jpg', 'label': 2}, {'img_path': 'data/train/2_5_14.jpg', 'label': 2}, {'img_path': 'data/train/2_5_15.jpg', 'label': 2}, {'img_path': 'data/train/2_5_16.jpg', 'label': 2}, {'img_path': 'data/train/2_5_17.jpg', 'label': 2}, {'img_path': 'data/train/2_5_18.jpg', 'label': 2}, {'img_path': 'data/train/2_5_19.jpg', 'label': 2}, {'img_path': 'data/train/2_5_20.jpg', 'label': 2}, {'img_path': 'data/train/2_5_21.jpg', 'label': 2}, {'img_path': 'data/train/2_5_22.jpg', 'label': 2}, {'img_path': 'data/train/2_5_23.jpg', 'label': 2}, {'img_path': 'data/train/2_5_24.jpg', 'label': 2}, {'img_path': 'data/train/2_5_25.jpg', 'label': 2}, {'img_path': 'data/train/2_5_26.jpg', 'label': 2}, {'img_path': 'data/train/2_5_27.jpg', 'label': 2}, {'img_path': 'data/train/2_5_28.jpg', 'label': 2}, {'img_path': 'data/train/2_5_29.jpg', 'label': 2}, {'img_path': 'data/train/2_5_30.jpg', 'label': 2}, {'img_path': 'data/train/2_5_31.jpg', 'label': 2}, {'img_path': 'data/train/2_5_32.jpg', 'label': 2}, {'img_path': 'data/train/2_5_33.jpg', 'label': 2}, {'img_path': 'data/train/2_5_34.jpg', 'label': 2}, {'img_path': 'data/train/2_5_35.jpg', 'label': 2}, {'img_path': 'data/train/2_6_0.jpg', 'label': 2}, {'img_path': 'data/train/2_6_1.jpg', 'label': 2}, {'img_path': 'data/train/2_6_2.jpg', 'label': 2}, {'img_path': 'data/train/2_6_3.jpg', 'label': 2}, {'img_path': 'data/train/2_6_4.jpg', 'label': 2}, {'img_path': 'data/train/2_6_5.jpg', 'label': 2}, {'img_path': 'data/train/2_6_6.jpg', 'label': 2}, {'img_path': 'data/train/2_6_7.jpg', 'label': 2}, {'img_path': 'data/train/2_6_8.jpg', 'label': 2}, {'img_path': 'data/train/2_6_9.jpg', 'label': 2}, {'img_path': 'data/train/2_6_10.jpg', 'label': 2}, {'img_path': 'data/train/2_6_11.jpg', 'label': 2}, {'img_path': 'data/train/2_6_12.jpg', 'label': 2}, {'img_path': 'data/train/2_6_13.jpg', 'label': 2}, {'img_path': 'data/train/2_6_14.jpg', 'label': 2}, {'img_path': 'data/train/2_6_15.jpg', 'label': 2}, {'img_path': 'data/train/2_6_16.jpg', 'label': 2}, {'img_path': 'data/train/2_6_17.jpg', 'label': 2}, {'img_path': 'data/train/2_6_18.jpg', 'label': 2}, {'img_path': 'data/train/2_6_19.jpg', 'label': 2}, {'img_path': 'data/train/2_6_20.jpg', 'label': 2}, {'img_path': 'data/train/2_6_21.jpg', 'label': 2}, {'img_path': 'data/train/2_6_22.jpg', 'label': 2}, {'img_path': 'data/train/2_6_23.jpg', 'label': 2}, {'img_path': 'data/train/2_6_24.jpg', 'label': 2}, {'img_path': 'data/train/2_6_25.jpg', 'label': 2}, {'img_path': 'data/train/2_6_26.jpg', 'label': 2}, {'img_path': 'data/train/2_6_27.jpg', 'label': 2}, {'img_path': 'data/train/2_6_28.jpg', 'label': 2}, {'img_path': 'data/train/2_6_29.jpg', 'label': 2}, {'img_path': 'data/train/2_6_30.jpg', 'label': 2}, {'img_path': 'data/train/2_6_31.jpg', 'label': 2}, {'img_path': 'data/train/2_6_32.jpg', 'label': 2}, {'img_path': 'data/train/2_6_33.jpg', 'label': 2}, {'img_path': 'data/train/2_6_34.jpg', 'label': 2}, {'img_path': 'data/train/2_6_35.jpg', 'label': 2}, {'img_path': 'data/train/2_7_0.jpg', 'label': 2}, {'img_path': 'data/train/2_7_1.jpg', 'label': 2}, {'img_path': 'data/train/2_7_2.jpg', 'label': 2}, {'img_path': 'data/train/2_7_3.jpg', 'label': 2}, {'img_path': 'data/train/2_7_4.jpg', 'label': 2}, {'img_path': 'data/train/2_7_5.jpg', 'label': 2}, {'img_path': 'data/train/2_7_6.jpg', 'label': 2}, {'img_path': 'data/train/2_7_7.jpg', 'label': 2}, {'img_path': 'data/train/2_7_8.jpg', 'label': 2}, {'img_path': 'data/train/2_7_9.jpg', 'label': 2}, {'img_path': 'data/train/2_7_10.jpg', 'label': 2}, {'img_path': 'data/train/2_7_11.jpg', 'label': 2}, {'img_path': 'data/train/2_7_12.jpg', 'label': 2}, {'img_path': 'data/train/2_7_13.jpg', 'label': 2}, {'img_path': 'data/train/2_7_14.jpg', 'label': 2}, {'img_path': 'data/train/2_7_15.jpg', 'label': 2}, {'img_path': 'data/train/2_7_16.jpg', 'label': 2}, {'img_path': 'data/train/2_7_17.jpg', 'label': 2}, {'img_path': 'data/train/2_7_18.jpg', 'label': 2}, {'img_path': 'data/train/2_7_19.jpg', 'label': 2}, {'img_path': 'data/train/2_7_20.jpg', 'label': 2}, {'img_path': 'data/train/2_7_21.jpg', 'label': 2}, {'img_path': 'data/train/2_7_22.jpg', 'label': 2}, {'img_path': 'data/train/2_7_23.jpg', 'label': 2}, {'img_path': 'data/train/2_7_24.jpg', 'label': 2}, {'img_path': 'data/train/2_7_25.jpg', 'label': 2}, {'img_path': 'data/train/2_7_26.jpg', 'label': 2}, {'img_path': 'data/train/2_7_27.jpg', 'label': 2}, {'img_path': 'data/train/2_7_28.jpg', 'label': 2}, {'img_path': 'data/train/2_7_29.jpg', 'label': 2}, {'img_path': 'data/train/2_7_30.jpg', 'label': 2}, {'img_path': 'data/train/2_7_31.jpg', 'label': 2}, {'img_path': 'data/train/2_7_32.jpg', 'label': 2}, {'img_path': 'data/train/2_7_33.jpg', 'label': 2}, {'img_path': 'data/train/2_7_34.jpg', 'label': 2}, {'img_path': 'data/train/2_7_35.jpg', 'label': 2}]\n"
     ]
    }
   ],
   "source": [
    "print(img_csv)"
   ]
  },
  {
   "cell_type": "code",
   "execution_count": 11,
   "id": "1f0fb849",
   "metadata": {},
   "outputs": [],
   "source": [
    "import csv\n",
    "with open('data/train.csv', 'w', newline='') as file:\n",
    "    writer = csv.DictWriter(file, fieldnames=['img_path', 'label'])\n",
    "    writer.writeheader()\n",
    "    for row in img_csv:\n",
    "        writer.writerow(row)"
   ]
  },
  {
   "cell_type": "code",
   "execution_count": 17,
   "id": "4e8a9756",
   "metadata": {},
   "outputs": [],
   "source": [
    "import pandas as pd\n",
    "class CustomImageDataset(Dataset):\n",
    "    def __init__(self, annotation_file, **kwargs):\n",
    "        super(CustomImageDataset, self).__init__(**kwargs)\n",
    "        data = pd.read_csv(annotation_file)\n",
    "        self.img_path_list = data['img_path'].tolist()\n",
    "        self.labels = data['label'].tolist()\n",
    "\n",
    "    def __len__(self):\n",
    "        return len(self.labels)\n",
    "\n",
    "    def __getitem__(self, idx):\n",
    "        image = read_image(self.img_path_list[idx])\n",
    "        label = self.labels[idx]\n",
    "        return image / 255, label"
   ]
  },
  {
   "cell_type": "code",
   "execution_count": 18,
   "id": "d0bb4052",
   "metadata": {},
   "outputs": [],
   "source": [
    "training_data = CustomImageDataset(\"data/train.csv\")\n",
    "training_dataloader = DataLoader(training_data, batch_size=32, shuffle=True)"
   ]
  },
  {
   "cell_type": "code",
   "execution_count": 29,
   "id": "a86a020c-0a6e-4f05-99b5-2918751cc0be",
   "metadata": {},
   "outputs": [
    {
     "data": {
      "text/plain": [
       "864"
      ]
     },
     "execution_count": 29,
     "metadata": {},
     "output_type": "execute_result"
    }
   ],
   "source": []
  },
  {
   "cell_type": "code",
   "execution_count": 19,
   "id": "d95ddf38",
   "metadata": {},
   "outputs": [
    {
     "name": "stdout",
     "output_type": "stream",
     "text": [
      "tensor([[[0.0000, 0.0000, 0.0000,  ..., 0.0000, 0.0000, 0.0000],\n",
      "         [0.0000, 0.0000, 0.0000,  ..., 0.0000, 0.0000, 0.0000],\n",
      "         [0.0000, 0.0000, 0.0000,  ..., 0.0000, 0.0000, 0.0000],\n",
      "         ...,\n",
      "         [0.0000, 0.0000, 0.0000,  ..., 0.0000, 0.0000, 0.0000],\n",
      "         [0.0000, 0.0000, 0.0000,  ..., 0.0000, 0.0000, 0.0000],\n",
      "         [0.0000, 0.0000, 0.0000,  ..., 0.0000, 0.0000, 0.0000]],\n",
      "\n",
      "        [[0.0000, 0.0000, 0.0000,  ..., 0.0039, 0.0000, 0.0000],\n",
      "         [0.0000, 0.0000, 0.0000,  ..., 0.0039, 0.0039, 0.0039],\n",
      "         [0.0000, 0.0000, 0.0000,  ..., 0.0000, 0.0039, 0.0039],\n",
      "         ...,\n",
      "         [0.0000, 0.0000, 0.0000,  ..., 0.0039, 0.0039, 0.0039],\n",
      "         [0.0039, 0.0039, 0.0039,  ..., 0.0039, 0.0039, 0.0039],\n",
      "         [0.0039, 0.0039, 0.0039,  ..., 0.0039, 0.0039, 0.0039]],\n",
      "\n",
      "        [[0.0000, 0.0000, 0.0000,  ..., 0.0000, 0.0000, 0.0000],\n",
      "         [0.0000, 0.0000, 0.0000,  ..., 0.0000, 0.0000, 0.0000],\n",
      "         [0.0000, 0.0000, 0.0000,  ..., 0.0000, 0.0000, 0.0000],\n",
      "         ...,\n",
      "         [0.0000, 0.0000, 0.0000,  ..., 0.0000, 0.0078, 0.0078],\n",
      "         [0.0000, 0.0000, 0.0000,  ..., 0.0000, 0.0000, 0.0000],\n",
      "         [0.0000, 0.0000, 0.0000,  ..., 0.0000, 0.0000, 0.0000]]])\n"
     ]
    }
   ],
   "source": [
    "for batch in training_dataloader:\n",
    "    print(batch[0][0])\n",
    "    break"
   ]
  },
  {
   "cell_type": "code",
   "execution_count": 20,
   "id": "a34099bd",
   "metadata": {},
   "outputs": [],
   "source": [
    "class LeNet(nn.Module):\n",
    "    def __init__(self, **kwargs):\n",
    "        super(LeNet, self).__init__(**kwargs)\n",
    "        self.c1 = nn.Conv2d(3, 6, kernel_size=5) # (6, 60, 60)\n",
    "        self.a1 = nn.Sigmoid()\n",
    "        self.p1 = nn.MaxPool2d(kernel_size=2, stride=2) # (6, 30, 30)\n",
    "        self.c2 = nn.Conv2d(6, 16, kernel_size=5) # (16, 26, 26)\n",
    "        self.a2 = nn.Sigmoid()\n",
    "        self.p2 = nn.MaxPool2d(kernel_size=2, stride=2) # (16, 13, 13)\n",
    "        self.flatten = nn.Flatten()\n",
    "        self.f1 = nn.Linear(16 * 13 * 13, 240)\n",
    "        self.a3 = nn.Sigmoid()\n",
    "        self.f2 = nn.Linear(240, 84)\n",
    "        self.a4 = nn.Sigmoid()\n",
    "        self.f3 = nn.Linear(84, 3)\n",
    "    \n",
    "    def forward(self, X):\n",
    "        X = self.c1(X)\n",
    "        X = self.a1(X)\n",
    "        X = self.p1(X)\n",
    "        X = self.c2(X)\n",
    "        X = self.a2(X)\n",
    "        X = self.p2(X)\n",
    "        X = self.flatten(X)\n",
    "        X = self.f1(X)\n",
    "        X = self.a3(X)\n",
    "        X = self.f2(X)\n",
    "        X = self.a4(X)\n",
    "        X = self.f3(X)\n",
    "        return X"
   ]
  },
  {
   "cell_type": "code",
   "execution_count": 85,
   "id": "b617c201",
   "metadata": {},
   "outputs": [],
   "source": [
    "image = torch.randn(1, 3, 64, 64)"
   ]
  },
  {
   "cell_type": "code",
   "execution_count": 23,
   "id": "8ef00c0c",
   "metadata": {},
   "outputs": [],
   "source": [
    "net = LeNet()"
   ]
  },
  {
   "cell_type": "code",
   "execution_count": 87,
   "id": "142465bd",
   "metadata": {},
   "outputs": [],
   "source": [
    "lr = 1e-4\n",
    "max_epoch = 100"
   ]
  },
  {
   "cell_type": "code",
   "execution_count": 90,
   "id": "4d05cd0a",
   "metadata": {},
   "outputs": [],
   "source": [
    "from matplotlib import pyplot as plt\n",
    "import numpy as np\n",
    "def train(net, train_iter, num_epochs, lr, device):\n",
    "    def xavier_init_weights(m):\n",
    "        if type(m) == nn.Linear:\n",
    "            nn.init.xavier_uniform_(m.weight)\n",
    "        if type(m) == nn.GRU:\n",
    "            for param in m._flat_weights_names:\n",
    "                if \"weight\" in param:\n",
    "                    nn.init.xavier_uniform_(m._parameters[param])\n",
    "    net.apply(xavier_init_weights)\n",
    "    net.to(device)\n",
    "    net.train()\n",
    "    optimizer = torch.optim.Adam(net.parameters(), lr=lr)\n",
    "    loss = nn.CrossEntropyLoss()\n",
    "    \n",
    "    loss_history = []\n",
    "    for epoch in range(num_epochs):\n",
    "        loss_value = 0\n",
    "        for i, (X, y) in enumerate(train_iter):\n",
    "            optimizer.zero_grad()\n",
    "            X, y = X.to(device), y.to(device)\n",
    "            y_hat = net(X)\n",
    "            l = loss(y_hat, y)\n",
    "            l.sum().backward()\n",
    "            optimizer.step()\n",
    "            loss_value += l.item()\n",
    "        loss_history.append(loss_value)\n",
    "    plt.plot(np.arange(num_epochs), loss_history)\n",
    "    plt.xlabel('Iterations')\n",
    "    plt.ylabel('Loss')\n",
    "    plt.show()"
   ]
  },
  {
   "cell_type": "code",
   "execution_count": 91,
   "id": "ce125843",
   "metadata": {},
   "outputs": [
    {
     "data": {
      "image/png": "[encoded data removed]",
      "text/plain": [
       "<Figure size 640x480 with 1 Axes>"
      ]
     },
     "metadata": {},
     "output_type": "display_data"
    }
   ],
   "source": [
    "train(net, training_dataloader, max_epoch, lr, device)"
   ]
  },
  {
   "cell_type": "code",
   "execution_count": 35,
   "id": "84c7bdd4",
   "metadata": {},
   "outputs": [],
   "source": [
    "def predict(net, img):\n",
    "    net.eval()\n",
    "    return torch.argmax(net(img),  dim=1)"
   ]
  },
  {
   "cell_type": "code",
   "execution_count": 27,
   "id": "a198ffdf-43b1-4219-94fa-a833b8b309a6",
   "metadata": {},
   "outputs": [
    {
     "name": "stderr",
     "output_type": "stream",
     "text": [
      "C:\\Users\\Yikun\\AppData\\Local\\Temp\\ipykernel_4440\\3329330305.py:1: FutureWarning: You are using `torch.load` with `weights_only=False` (the current default value), which uses the default pickle module implicitly. It is possible to construct malicious pickle data which will execute arbitrary code during unpickling (See https://github.com/pytorch/pytorch/blob/main/SECURITY.md#untrusted-models for more details). In a future release, the default value for `weights_only` will be flipped to `True`. This limits the functions that could be executed during unpickling. Arbitrary objects will no longer be allowed to be loaded via this mode unless they are explicitly allowlisted by the user via `torch.serialization.add_safe_globals`. We recommend you start setting `weights_only=True` for any use case where you don't have full control of the loaded file. Please open an issue on GitHub for any issues related to this experimental feature.\n",
      "  net.load_state_dict(torch.load(\"model/LeNet_serie_100.pth\"))\n"
     ]
    },
    {
     "data": {
      "text/plain": [
       "LeNet(\n",
       "  (c1): Conv2d(3, 6, kernel_size=(5, 5), stride=(1, 1))\n",
       "  (a1): Sigmoid()\n",
       "  (p1): MaxPool2d(kernel_size=2, stride=2, padding=0, dilation=1, ceil_mode=False)\n",
       "  (c2): Conv2d(6, 16, kernel_size=(5, 5), stride=(1, 1))\n",
       "  (a2): Sigmoid()\n",
       "  (p2): MaxPool2d(kernel_size=2, stride=2, padding=0, dilation=1, ceil_mode=False)\n",
       "  (flatten): Flatten(start_dim=1, end_dim=-1)\n",
       "  (f1): Linear(in_features=2704, out_features=240, bias=True)\n",
       "  (a3): Sigmoid()\n",
       "  (f2): Linear(in_features=240, out_features=84, bias=True)\n",
       "  (a4): Sigmoid()\n",
       "  (f3): Linear(in_features=84, out_features=3, bias=True)\n",
       ")"
      ]
     },
     "execution_count": 27,
     "metadata": {},
     "output_type": "execute_result"
    }
   ],
   "source": [
    "net.load_state_dict(torch.load(\"model/LeNet_serie_100.pth\"))\n",
    "net.to(device)"
   ]
  },
  {
   "cell_type": "code",
   "execution_count": 28,
   "id": "aeee3e1a",
   "metadata": {},
   "outputs": [
    {
     "name": "stdout",
     "output_type": "stream",
     "text": [
      "torch.Size([1, 3, 64, 64])\n"
     ]
    },
    {
     "data": {
      "text/plain": [
       "tensor([0], device='cuda:0')"
      ]
     },
     "execution_count": 28,
     "metadata": {},
     "output_type": "execute_result"
    }
   ],
   "source": [
    "predict(net, 'data/train/0_1_1.jpg')"
   ]
  },
  {
   "cell_type": "code",
   "execution_count": 54,
   "id": "274b74f6-3c50-40d4-bf65-92c1ce1fef91",
   "metadata": {},
   "outputs": [],
   "source": [
    "import numpy as np\n",
    "def testModel(net, dataloader, data_len):\n",
    "    same = 0\n",
    "    for X, Y in dataloader:\n",
    "        X = X.to(device)\n",
    "        Y_hat = predict(net, X).cpu().numpy()\n",
    "        same += np.sum(Y_hat == Y.numpy())\n",
    "    print(same / data_len)\n",
    "        "
   ]
  },
  {
   "cell_type": "code",
   "execution_count": 55,
   "id": "04ee473d-d5f7-4e9b-9291-c1ea6d3b1310",
   "metadata": {},
   "outputs": [
    {
     "name": "stdout",
     "output_type": "stream",
     "text": [
      "0.8796296296296297\n"
     ]
    }
   ],
   "source": [
    "testModel(net, training_dataloader, len(training_data))"
   ]
  },
  {
   "cell_type": "code",
   "execution_count": 115,
   "id": "fa224a22",
   "metadata": {},
   "outputs": [],
   "source": [
    "torch.save(net.state_dict(), \"model/LeNet_serie_100.pth\")"
   ]
  },
  {
   "cell_type": "code",
   "execution_count": null,
   "id": "d169cde1",
   "metadata": {},
   "outputs": [],
   "source": []
  }
 ],
 "metadata": {
  "kernelspec": {
   "display_name": "Python 3 (ipykernel)",
   "language": "python",
   "name": "python3"
  },
  "language_info": {
   "codemirror_mode": {
    "name": "ipython",
    "version": 3
   },
   "file_extension": ".py",
   "mimetype": "text/x-python",
   "name": "python",
   "nbconvert_exporter": "python",
   "pygments_lexer": "ipython3",
   "version": "3.9.19"
  }
 },
 "nbformat": 4,
 "nbformat_minor": 5
}
