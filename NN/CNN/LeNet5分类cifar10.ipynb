{
 "cells": [
  {
   "cell_type": "code",
   "execution_count": 1,
   "id": "1f0cfcb0",
   "metadata": {},
   "outputs": [],
   "source": [
    "import os\n",
    "os.environ[\"CUDA_DEVICE_ORDER\"] = \"PCI_BUS_ID\"  \n",
    "os.environ[\"CUDA_VISIBLE_DEVICES\"] = \"-1\"\n",
    "\n",
    "# 准备数据集\n",
    "from keras.datasets import cifar10\n",
    "(x_train, y_train), (x_test, y_test) = cifar10.load_data()\n",
    "x_train, x_test = x_train / 255.0, x_test / 255.0"
   ]
  },
  {
   "cell_type": "code",
   "execution_count": 2,
   "id": "3b9430bb",
   "metadata": {},
   "outputs": [],
   "source": [
    "# 定义仿LeNet模型\n",
    "from keras import Model\n",
    "from keras.layers import Conv2D, BatchNormalization, Activation, MaxPool2D, Dropout, Flatten, Dense\n",
    "class LeNet5(Model):\n",
    "    def __init__(self):\n",
    "        super(LeNet5, self).__init__()\n",
    "        self.c1 = Conv2D(\n",
    "            filters=6,\n",
    "            kernel_size=(5, 5),\n",
    "            strides=1,\n",
    "            activation='sigmoid',\n",
    "            padding='valid',\n",
    "        )\n",
    "        self.p1 = MaxPool2D(\n",
    "            pool_size=(2, 2),\n",
    "            strides=2,\n",
    "            padding='valid',\n",
    "        )\n",
    "        self.c2 = Conv2D(\n",
    "            filters=16,\n",
    "            kernel_size=(5, 5),\n",
    "            strides=1,\n",
    "            activation='sigmoid',\n",
    "            padding='valid',\n",
    "        )\n",
    "        self.p2 = MaxPool2D(\n",
    "            pool_size=(2, 2),\n",
    "            strides=2,\n",
    "            padding='valid',\n",
    "        )\n",
    "        self.flatten = Flatten()\n",
    "        self.f1 = Dense(120, activation='sigmoid')\n",
    "        self.f2 = Dense(84, activation='sigmoid')\n",
    "        self.f3 = Dense(10, activation='softmax')\n",
    "        \n",
    "    def call(self, x):\n",
    "        x = self.c1(x)\n",
    "        x = self.p1(x)\n",
    "        x = self.c2(x)\n",
    "        x = self.p2(x)\n",
    "        x = self.flatten(x)\n",
    "        x = self.f1(x)\n",
    "        x = self.f2(x)\n",
    "        y = self.f3(x)\n",
    "        return y"
   ]
  },
  {
   "cell_type": "code",
   "execution_count": 13,
   "id": "b0a2c377",
   "metadata": {},
   "outputs": [],
   "source": [
    "from keras.optimizers import Adam\n",
    "from tensorflow.keras.losses import SparseCategoricalCrossentropy\n",
    "from keras.callbacks import ModelCheckpoint\n",
    "model = LeNet5()\n",
    "model.compile(\n",
    "    optimizer=Adam(learning_rate=0.05, beta_1=0.9, beta_2=0.999, decay=0.03),\n",
    "    loss = SparseCategoricalCrossentropy(from_logits=False),\n",
    "    metrics=['sparse_categorical_accuracy']\n",
    ")\n",
    "model_path = \"./model/cifar10_LeNet\"\n",
    "cp_callback = ModelCheckpoint(\n",
    "    filepath=model_path,\n",
    "    save_weights_only=True,\n",
    "    save_best_only=True,\n",
    ")\n",
    "# model.load_weights(model_path)"
   ]
  },
  {
   "cell_type": "code",
   "execution_count": null,
   "id": "5d829799",
   "metadata": {},
   "outputs": [
    {
     "name": "stdout",
     "output_type": "stream",
     "text": [
      "Epoch 1/100\n",
      "662/665 [============================>.] - ETA: 0s - loss: 2.3229 - sparse_categorical_accuracy: 0.0979WARNING:tensorflow:Can save best model only with val_loss available, skipping.\n",
      "665/665 [==============================] - 7s 11ms/step - loss: 2.3228 - sparse_categorical_accuracy: 0.0979\n",
      "Epoch 2/100\n",
      "660/665 [============================>.] - ETA: 0s - loss: 2.3043 - sparse_categorical_accuracy: 0.1008WARNING:tensorflow:Can save best model only with val_loss available, skipping.\n",
      "665/665 [==============================] - 7s 11ms/step - loss: 2.3043 - sparse_categorical_accuracy: 0.1007\n",
      "Epoch 3/100\n",
      "363/665 [===============>..............] - ETA: 3s - loss: 2.3035 - sparse_categorical_accuracy: 0.1001"
     ]
    }
   ],
   "source": [
    "history = model.fit(\n",
    "    x_train,\n",
    "    y_train,\n",
    "    batch_size=64,\n",
    "    epochs=100,\n",
    "    validation_split=0.15,\n",
    "    validation_freq=20,\n",
    "    callbacks=[cp_callback],\n",
    ")"
   ]
  },
  {
   "cell_type": "code",
   "execution_count": 12,
   "id": "1c72df9f",
   "metadata": {},
   "outputs": [
    {
     "name": "stdout",
     "output_type": "stream",
     "text": [
      "Model: \"le_net5_3\"\n",
      "_________________________________________________________________\n",
      " Layer (type)                Output Shape              Param #   \n",
      "=================================================================\n",
      " conv2d_6 (Conv2D)           multiple                  456       \n",
      "                                                                 \n",
      " max_pooling2d_6 (MaxPooling  multiple                 0         \n",
      " 2D)                                                             \n",
      "                                                                 \n",
      " conv2d_7 (Conv2D)           multiple                  2416      \n",
      "                                                                 \n",
      " max_pooling2d_7 (MaxPooling  multiple                 0         \n",
      " 2D)                                                             \n",
      "                                                                 \n",
      " flatten_3 (Flatten)         multiple                  0         \n",
      "                                                                 \n",
      " dense_9 (Dense)             multiple                  48120     \n",
      "                                                                 \n",
      " dense_10 (Dense)            multiple                  10164     \n",
      "                                                                 \n",
      " dense_11 (Dense)            multiple                  850       \n",
      "                                                                 \n",
      "=================================================================\n",
      "Total params: 62,006\n",
      "Trainable params: 62,006\n",
      "Non-trainable params: 0\n",
      "_________________________________________________________________\n"
     ]
    }
   ],
   "source": [
    "model.summary()"
   ]
  },
  {
   "cell_type": "code",
   "execution_count": 7,
   "id": "22556eac",
   "metadata": {},
   "outputs": [
    {
     "name": "stdout",
     "output_type": "stream",
     "text": [
      "313/313 [==============================] - 1s 3ms/step - loss: 1.7768 - sparse_categorical_accuracy: 0.3461\n",
      "test loss, test acc:  [1.7768033742904663, 0.34610000252723694]\n"
     ]
    },
    {
     "data": {
      "text/plain": [
       "[<matplotlib.lines.Line2D at 0x1610878aee0>]"
      ]
     },
     "execution_count": 7,
     "metadata": {},
     "output_type": "execute_result"
    },
    {
     "data": {
      "image/png": "[encoded data removed]",
      "text/plain": [
       "<Figure size 640x480 with 2 Axes>"
      ]
     },
     "metadata": {},
     "output_type": "display_data"
    }
   ],
   "source": [
    "import matplotlib.pyplot as plt\n",
    "import numpy as np\n",
    "evaluate_result = model.evaluate(x_test, y_test, batch_size=32)\n",
    "print(\"test loss, test acc: \", evaluate_result)\n",
    "\n",
    "acc_history = history.history['sparse_categorical_accuracy']\n",
    "loss_history = history.history['loss']\n",
    "\n",
    "plt.subplot(1, 2, 1)\n",
    "plt.title('loss')\n",
    "plt.plot(np.arange(len(loss_history)), loss_history)\n",
    "\n",
    "plt.subplot(1, 2, 2)\n",
    "plt.title('acc')\n",
    "plt.plot(np.arange(len(acc_history)), acc_history)"
   ]
  },
  {
   "cell_type": "code",
   "execution_count": null,
   "id": "8884c0e8-a418-45f2-924f-41116bf0dd05",
   "metadata": {},
   "outputs": [],
   "source": []
  }
 ],
 "metadata": {
  "kernelspec": {
   "display_name": "Python 3 (ipykernel)",
   "language": "python",
   "name": "python3"
  },
  "language_info": {
   "codemirror_mode": {
    "name": "ipython",
    "version": 3
   },
   "file_extension": ".py",
   "mimetype": "text/x-python",
   "name": "python",
   "nbconvert_exporter": "python",
   "pygments_lexer": "ipython3",
   "version": "3.9.7"
  }
 },
 "nbformat": 4,
 "nbformat_minor": 5
}