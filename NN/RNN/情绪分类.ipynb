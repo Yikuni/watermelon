{
 "cells": [
  {
   "cell_type": "code",
   "execution_count": 1,
   "id": "78464efc",
   "metadata": {},
   "outputs": [],
   "source": [
    "import tensorflow_datasets as tfds\n",
    "import tensorflow as tf"
   ]
  },
  {
   "cell_type": "code",
   "execution_count": 101,
   "id": "50b6b839",
   "metadata": {},
   "outputs": [],
   "source": [
    "from tensorflow.keras import layers\n",
    "\n",
    "embedding_layer = layers.Embedding(10000, 12)"
   ]
  },
  {
   "cell_type": "code",
   "execution_count": 106,
   "id": "48f5d1f4",
   "metadata": {},
   "outputs": [
    {
     "name": "stdout",
     "output_type": "stream",
     "text": [
      "[[8510 8510 8510 8510 8510 8510    0    0    0    0    0    0    0    0\n",
      "     0    0    0    0    0    0]\n",
      " [ 351  351  351  351    0    0    0    0    0    0    0    0    0    0\n",
      "     0    0    0    0    0    0]]\n"
     ]
    }
   ],
   "source": [
    "from tensorflow.keras.preprocessing.text import one_hot\n",
    "from tensorflow.keras.preprocessing.sequence import pad_sequences\n",
    "from tensorflow.keras.preprocessing.sequence import pad_sequences\n",
    "\n",
    "max_token = 20\n",
    "sentences = ['good, good, good, good, good, good.', 'bad, bad, bad, bad.']\n",
    "onehot_doc = [one_hot(words, 10000) for words in sentences]\n",
    "padded_doc = pad_sequences(onehot_doc, padding='post', maxlen=max_token) \n",
    "print(padded_doc)"
   ]
  },
  {
   "cell_type": "code",
   "execution_count": 107,
   "id": "2b4f7239",
   "metadata": {},
   "outputs": [
    {
     "name": "stdout",
     "output_type": "stream",
     "text": [
      "tf.Tensor(\n",
      "[[-0.04718008  0.02061793  0.04944015 -0.00976275  0.01708926  0.01455525\n",
      "  -0.02224588  0.03275308 -0.03622893 -0.02034378  0.00332244  0.01385231]\n",
      " [-0.04718008  0.02061793  0.04944015 -0.00976275  0.01708926  0.01455525\n",
      "  -0.02224588  0.03275308 -0.03622893 -0.02034378  0.00332244  0.01385231]\n",
      " [-0.04718008  0.02061793  0.04944015 -0.00976275  0.01708926  0.01455525\n",
      "  -0.02224588  0.03275308 -0.03622893 -0.02034378  0.00332244  0.01385231]\n",
      " [-0.04718008  0.02061793  0.04944015 -0.00976275  0.01708926  0.01455525\n",
      "  -0.02224588  0.03275308 -0.03622893 -0.02034378  0.00332244  0.01385231]\n",
      " [ 0.03725061 -0.0207202   0.04307157  0.01822284 -0.01160808  0.04317104\n",
      "  -0.00441823 -0.01572945 -0.02374216 -0.03544183  0.02747141 -0.01246964]\n",
      " [ 0.03725061 -0.0207202   0.04307157  0.01822284 -0.01160808  0.04317104\n",
      "  -0.00441823 -0.01572945 -0.02374216 -0.03544183  0.02747141 -0.01246964]\n",
      " [ 0.03725061 -0.0207202   0.04307157  0.01822284 -0.01160808  0.04317104\n",
      "  -0.00441823 -0.01572945 -0.02374216 -0.03544183  0.02747141 -0.01246964]\n",
      " [ 0.03725061 -0.0207202   0.04307157  0.01822284 -0.01160808  0.04317104\n",
      "  -0.00441823 -0.01572945 -0.02374216 -0.03544183  0.02747141 -0.01246964]\n",
      " [ 0.03725061 -0.0207202   0.04307157  0.01822284 -0.01160808  0.04317104\n",
      "  -0.00441823 -0.01572945 -0.02374216 -0.03544183  0.02747141 -0.01246964]\n",
      " [ 0.03725061 -0.0207202   0.04307157  0.01822284 -0.01160808  0.04317104\n",
      "  -0.00441823 -0.01572945 -0.02374216 -0.03544183  0.02747141 -0.01246964]\n",
      " [ 0.03725061 -0.0207202   0.04307157  0.01822284 -0.01160808  0.04317104\n",
      "  -0.00441823 -0.01572945 -0.02374216 -0.03544183  0.02747141 -0.01246964]\n",
      " [ 0.03725061 -0.0207202   0.04307157  0.01822284 -0.01160808  0.04317104\n",
      "  -0.00441823 -0.01572945 -0.02374216 -0.03544183  0.02747141 -0.01246964]\n",
      " [ 0.03725061 -0.0207202   0.04307157  0.01822284 -0.01160808  0.04317104\n",
      "  -0.00441823 -0.01572945 -0.02374216 -0.03544183  0.02747141 -0.01246964]\n",
      " [ 0.03725061 -0.0207202   0.04307157  0.01822284 -0.01160808  0.04317104\n",
      "  -0.00441823 -0.01572945 -0.02374216 -0.03544183  0.02747141 -0.01246964]\n",
      " [ 0.03725061 -0.0207202   0.04307157  0.01822284 -0.01160808  0.04317104\n",
      "  -0.00441823 -0.01572945 -0.02374216 -0.03544183  0.02747141 -0.01246964]\n",
      " [ 0.03725061 -0.0207202   0.04307157  0.01822284 -0.01160808  0.04317104\n",
      "  -0.00441823 -0.01572945 -0.02374216 -0.03544183  0.02747141 -0.01246964]\n",
      " [ 0.03725061 -0.0207202   0.04307157  0.01822284 -0.01160808  0.04317104\n",
      "  -0.00441823 -0.01572945 -0.02374216 -0.03544183  0.02747141 -0.01246964]\n",
      " [ 0.03725061 -0.0207202   0.04307157  0.01822284 -0.01160808  0.04317104\n",
      "  -0.00441823 -0.01572945 -0.02374216 -0.03544183  0.02747141 -0.01246964]\n",
      " [ 0.03725061 -0.0207202   0.04307157  0.01822284 -0.01160808  0.04317104\n",
      "  -0.00441823 -0.01572945 -0.02374216 -0.03544183  0.02747141 -0.01246964]\n",
      " [ 0.03725061 -0.0207202   0.04307157  0.01822284 -0.01160808  0.04317104\n",
      "  -0.00441823 -0.01572945 -0.02374216 -0.03544183  0.02747141 -0.01246964]], shape=(20, 12), dtype=float32)\n"
     ]
    },
    {
     "data": {
      "text/plain": [
       "<tf.Tensor: shape=(20, 12), dtype=float32, numpy=\n",
       "array([[-0.04219323,  0.04507263, -0.0065819 ,  0.02417305, -0.02760483,\n",
       "         0.03791821,  0.03434188, -0.02377048,  0.03544331,  0.01382473,\n",
       "        -0.02071376, -0.02122244],\n",
       "       [-0.04219323,  0.04507263, -0.0065819 ,  0.02417305, -0.02760483,\n",
       "         0.03791821,  0.03434188, -0.02377048,  0.03544331,  0.01382473,\n",
       "        -0.02071376, -0.02122244],\n",
       "       [-0.04219323,  0.04507263, -0.0065819 ,  0.02417305, -0.02760483,\n",
       "         0.03791821,  0.03434188, -0.02377048,  0.03544331,  0.01382473,\n",
       "        -0.02071376, -0.02122244],\n",
       "       [-0.04219323,  0.04507263, -0.0065819 ,  0.02417305, -0.02760483,\n",
       "         0.03791821,  0.03434188, -0.02377048,  0.03544331,  0.01382473,\n",
       "        -0.02071376, -0.02122244],\n",
       "       [-0.04219323,  0.04507263, -0.0065819 ,  0.02417305, -0.02760483,\n",
       "         0.03791821,  0.03434188, -0.02377048,  0.03544331,  0.01382473,\n",
       "        -0.02071376, -0.02122244],\n",
       "       [-0.04219323,  0.04507263, -0.0065819 ,  0.02417305, -0.02760483,\n",
       "         0.03791821,  0.03434188, -0.02377048,  0.03544331,  0.01382473,\n",
       "        -0.02071376, -0.02122244],\n",
       "       [ 0.03725061, -0.0207202 ,  0.04307157,  0.01822284, -0.01160808,\n",
       "         0.04317104, -0.00441823, -0.01572945, -0.02374216, -0.03544183,\n",
       "         0.02747141, -0.01246964],\n",
       "       [ 0.03725061, -0.0207202 ,  0.04307157,  0.01822284, -0.01160808,\n",
       "         0.04317104, -0.00441823, -0.01572945, -0.02374216, -0.03544183,\n",
       "         0.02747141, -0.01246964],\n",
       "       [ 0.03725061, -0.0207202 ,  0.04307157,  0.01822284, -0.01160808,\n",
       "         0.04317104, -0.00441823, -0.01572945, -0.02374216, -0.03544183,\n",
       "         0.02747141, -0.01246964],\n",
       "       [ 0.03725061, -0.0207202 ,  0.04307157,  0.01822284, -0.01160808,\n",
       "         0.04317104, -0.00441823, -0.01572945, -0.02374216, -0.03544183,\n",
       "         0.02747141, -0.01246964],\n",
       "       [ 0.03725061, -0.0207202 ,  0.04307157,  0.01822284, -0.01160808,\n",
       "         0.04317104, -0.00441823, -0.01572945, -0.02374216, -0.03544183,\n",
       "         0.02747141, -0.01246964],\n",
       "       [ 0.03725061, -0.0207202 ,  0.04307157,  0.01822284, -0.01160808,\n",
       "         0.04317104, -0.00441823, -0.01572945, -0.02374216, -0.03544183,\n",
       "         0.02747141, -0.01246964],\n",
       "       [ 0.03725061, -0.0207202 ,  0.04307157,  0.01822284, -0.01160808,\n",
       "         0.04317104, -0.00441823, -0.01572945, -0.02374216, -0.03544183,\n",
       "         0.02747141, -0.01246964],\n",
       "       [ 0.03725061, -0.0207202 ,  0.04307157,  0.01822284, -0.01160808,\n",
       "         0.04317104, -0.00441823, -0.01572945, -0.02374216, -0.03544183,\n",
       "         0.02747141, -0.01246964],\n",
       "       [ 0.03725061, -0.0207202 ,  0.04307157,  0.01822284, -0.01160808,\n",
       "         0.04317104, -0.00441823, -0.01572945, -0.02374216, -0.03544183,\n",
       "         0.02747141, -0.01246964],\n",
       "       [ 0.03725061, -0.0207202 ,  0.04307157,  0.01822284, -0.01160808,\n",
       "         0.04317104, -0.00441823, -0.01572945, -0.02374216, -0.03544183,\n",
       "         0.02747141, -0.01246964],\n",
       "       [ 0.03725061, -0.0207202 ,  0.04307157,  0.01822284, -0.01160808,\n",
       "         0.04317104, -0.00441823, -0.01572945, -0.02374216, -0.03544183,\n",
       "         0.02747141, -0.01246964],\n",
       "       [ 0.03725061, -0.0207202 ,  0.04307157,  0.01822284, -0.01160808,\n",
       "         0.04317104, -0.00441823, -0.01572945, -0.02374216, -0.03544183,\n",
       "         0.02747141, -0.01246964],\n",
       "       [ 0.03725061, -0.0207202 ,  0.04307157,  0.01822284, -0.01160808,\n",
       "         0.04317104, -0.00441823, -0.01572945, -0.02374216, -0.03544183,\n",
       "         0.02747141, -0.01246964],\n",
       "       [ 0.03725061, -0.0207202 ,  0.04307157,  0.01822284, -0.01160808,\n",
       "         0.04317104, -0.00441823, -0.01572945, -0.02374216, -0.03544183,\n",
       "         0.02747141, -0.01246964]], dtype=float32)>"
      ]
     },
     "execution_count": 107,
     "metadata": {},
     "output_type": "execute_result"
    }
   ],
   "source": [
    "result = embedding_layer([padded_doc[0]])\n",
    "print(embedding_layer(padded_doc[1]))\n",
    "result"
   ]
  },
  {
   "cell_type": "code",
   "execution_count": 100,
   "id": "0e948bd2",
   "metadata": {},
   "outputs": [],
   "source": [
    "x_train = tf.constant(padded_doc)\n",
    "y_train = tf.constant([1, 0])\n",
    "\n",
    "x_test = x_train\n",
    "y_test = y_train"
   ]
  },
  {
   "cell_type": "code",
   "execution_count": 60,
   "id": "8355c639",
   "metadata": {},
   "outputs": [],
   "source": [
    "model = tf.keras.Sequential([\n",
    "    embedding_layer,\n",
    "    tf.keras.layers.Bidirectional(tf.keras.layers.LSTM(64)),\n",
    "    tf.keras.layers.Dense(32, activation='relu'),\n",
    "    tf.keras.layers.Dense(1, activation='sigmoid')\n",
    "])"
   ]
  },
  {
   "cell_type": "code",
   "execution_count": 61,
   "id": "da17f96f",
   "metadata": {},
   "outputs": [],
   "source": [
    "model.compile(loss=tf.keras.losses.BinaryCrossentropy(from_logits=False),\n",
    "              optimizer=tf.keras.optimizers.Adam(1e-4),\n",
    "              metrics=['accuracy'])"
   ]
  },
  {
   "cell_type": "code",
   "execution_count": 69,
   "id": "da4c50b5",
   "metadata": {},
   "outputs": [
    {
     "name": "stdout",
     "output_type": "stream",
     "text": [
      "Epoch 1/100\n",
      "1/1 [==============================] - 0s 18ms/step - loss: 0.6876 - accuracy: 0.5000\n",
      "Epoch 2/100\n",
      "1/1 [==============================] - 0s 14ms/step - loss: 0.6870 - accuracy: 1.0000\n",
      "Epoch 3/100\n",
      "1/1 [==============================] - 0s 14ms/step - loss: 0.6863 - accuracy: 1.0000\n",
      "Epoch 4/100\n",
      "1/1 [==============================] - 0s 15ms/step - loss: 0.6856 - accuracy: 1.0000\n",
      "Epoch 5/100\n",
      "1/1 [==============================] - 0s 15ms/step - loss: 0.6848 - accuracy: 1.0000\n",
      "Epoch 6/100\n",
      "1/1 [==============================] - 0s 15ms/step - loss: 0.6839 - accuracy: 1.0000\n",
      "Epoch 7/100\n",
      "1/1 [==============================] - 0s 14ms/step - loss: 0.6830 - accuracy: 1.0000\n",
      "Epoch 8/100\n",
      "1/1 [==============================] - 0s 15ms/step - loss: 0.6820 - accuracy: 1.0000\n",
      "Epoch 9/100\n",
      "1/1 [==============================] - 0s 14ms/step - loss: 0.6810 - accuracy: 1.0000\n",
      "Epoch 10/100\n",
      "1/1 [==============================] - 0s 14ms/step - loss: 0.6802 - accuracy: 1.0000\n",
      "Epoch 11/100\n",
      "1/1 [==============================] - 0s 16ms/step - loss: 0.6794 - accuracy: 1.0000\n",
      "Epoch 12/100\n",
      "1/1 [==============================] - 0s 14ms/step - loss: 0.6785 - accuracy: 1.0000\n",
      "Epoch 13/100\n",
      "1/1 [==============================] - 0s 14ms/step - loss: 0.6776 - accuracy: 1.0000\n",
      "Epoch 14/100\n",
      "1/1 [==============================] - 0s 13ms/step - loss: 0.6767 - accuracy: 1.0000\n",
      "Epoch 15/100\n",
      "1/1 [==============================] - 0s 12ms/step - loss: 0.6757 - accuracy: 1.0000\n",
      "Epoch 16/100\n",
      "1/1 [==============================] - 0s 13ms/step - loss: 0.6747 - accuracy: 1.0000\n",
      "Epoch 17/100\n",
      "1/1 [==============================] - 0s 11ms/step - loss: 0.6736 - accuracy: 1.0000\n",
      "Epoch 18/100\n",
      "1/1 [==============================] - 0s 11ms/step - loss: 0.6726 - accuracy: 1.0000\n",
      "Epoch 19/100\n",
      "1/1 [==============================] - 0s 11ms/step - loss: 0.6713 - accuracy: 1.0000\n",
      "Epoch 20/100\n",
      "1/1 [==============================] - 0s 11ms/step - loss: 0.6700 - accuracy: 1.0000\n",
      "Epoch 21/100\n",
      "1/1 [==============================] - 0s 11ms/step - loss: 0.6687 - accuracy: 1.0000\n",
      "Epoch 22/100\n",
      "1/1 [==============================] - 0s 10ms/step - loss: 0.6673 - accuracy: 1.0000\n",
      "Epoch 23/100\n",
      "1/1 [==============================] - 0s 11ms/step - loss: 0.6657 - accuracy: 1.0000\n",
      "Epoch 24/100\n",
      "1/1 [==============================] - 0s 10ms/step - loss: 0.6643 - accuracy: 1.0000\n",
      "Epoch 25/100\n",
      "1/1 [==============================] - 0s 11ms/step - loss: 0.6627 - accuracy: 1.0000\n",
      "Epoch 26/100\n",
      "1/1 [==============================] - 0s 10ms/step - loss: 0.6610 - accuracy: 1.0000\n",
      "Epoch 27/100\n",
      "1/1 [==============================] - 0s 10ms/step - loss: 0.6592 - accuracy: 1.0000\n",
      "Epoch 28/100\n",
      "1/1 [==============================] - 0s 10ms/step - loss: 0.6574 - accuracy: 1.0000\n",
      "Epoch 29/100\n",
      "1/1 [==============================] - 0s 10ms/step - loss: 0.6553 - accuracy: 1.0000\n",
      "Epoch 30/100\n",
      "1/1 [==============================] - 0s 10ms/step - loss: 0.6531 - accuracy: 1.0000\n",
      "Epoch 31/100\n",
      "1/1 [==============================] - 0s 10ms/step - loss: 0.6509 - accuracy: 1.0000\n",
      "Epoch 32/100\n",
      "1/1 [==============================] - 0s 11ms/step - loss: 0.6485 - accuracy: 1.0000\n",
      "Epoch 33/100\n",
      "1/1 [==============================] - 0s 11ms/step - loss: 0.6460 - accuracy: 1.0000\n",
      "Epoch 34/100\n",
      "1/1 [==============================] - 0s 10ms/step - loss: 0.6433 - accuracy: 1.0000\n",
      "Epoch 35/100\n",
      "1/1 [==============================] - 0s 10ms/step - loss: 0.6405 - accuracy: 1.0000\n",
      "Epoch 36/100\n",
      "1/1 [==============================] - 0s 10ms/step - loss: 0.6375 - accuracy: 1.0000\n",
      "Epoch 37/100\n",
      "1/1 [==============================] - 0s 11ms/step - loss: 0.6343 - accuracy: 1.0000\n",
      "Epoch 38/100\n",
      "1/1 [==============================] - 0s 11ms/step - loss: 0.6310 - accuracy: 1.0000\n",
      "Epoch 39/100\n",
      "1/1 [==============================] - 0s 11ms/step - loss: 0.6274 - accuracy: 1.0000\n",
      "Epoch 40/100\n",
      "1/1 [==============================] - 0s 10ms/step - loss: 0.6235 - accuracy: 1.0000\n",
      "Epoch 41/100\n",
      "1/1 [==============================] - 0s 11ms/step - loss: 0.6195 - accuracy: 1.0000\n",
      "Epoch 42/100\n",
      "1/1 [==============================] - 0s 10ms/step - loss: 0.6151 - accuracy: 1.0000\n",
      "Epoch 43/100\n",
      "1/1 [==============================] - 0s 10ms/step - loss: 0.6104 - accuracy: 1.0000\n",
      "Epoch 44/100\n",
      "1/1 [==============================] - 0s 10ms/step - loss: 0.6054 - accuracy: 1.0000\n",
      "Epoch 45/100\n",
      "1/1 [==============================] - 0s 11ms/step - loss: 0.6001 - accuracy: 1.0000\n",
      "Epoch 46/100\n",
      "1/1 [==============================] - 0s 10ms/step - loss: 0.5944 - accuracy: 1.0000\n",
      "Epoch 47/100\n",
      "1/1 [==============================] - 0s 10ms/step - loss: 0.5882 - accuracy: 1.0000\n",
      "Epoch 48/100\n",
      "1/1 [==============================] - 0s 10ms/step - loss: 0.5818 - accuracy: 1.0000\n",
      "Epoch 49/100\n",
      "1/1 [==============================] - 0s 11ms/step - loss: 0.5747 - accuracy: 1.0000\n",
      "Epoch 50/100\n",
      "1/1 [==============================] - 0s 11ms/step - loss: 0.5670 - accuracy: 1.0000\n",
      "Epoch 51/100\n",
      "1/1 [==============================] - 0s 10ms/step - loss: 0.5588 - accuracy: 1.0000\n",
      "Epoch 52/100\n",
      "1/1 [==============================] - 0s 10ms/step - loss: 0.5500 - accuracy: 1.0000\n",
      "Epoch 53/100\n",
      "1/1 [==============================] - 0s 13ms/step - loss: 0.5405 - accuracy: 1.0000\n",
      "Epoch 54/100\n",
      "1/1 [==============================] - 0s 10ms/step - loss: 0.5303 - accuracy: 1.0000\n",
      "Epoch 55/100\n",
      "1/1 [==============================] - 0s 10ms/step - loss: 0.5193 - accuracy: 1.0000\n",
      "Epoch 56/100\n",
      "1/1 [==============================] - 0s 10ms/step - loss: 0.5077 - accuracy: 1.0000\n",
      "Epoch 57/100\n",
      "1/1 [==============================] - 0s 11ms/step - loss: 0.4954 - accuracy: 1.0000\n",
      "Epoch 58/100\n",
      "1/1 [==============================] - 0s 10ms/step - loss: 0.4821 - accuracy: 1.0000\n",
      "Epoch 59/100\n",
      "1/1 [==============================] - 0s 10ms/step - loss: 0.4678 - accuracy: 1.0000\n",
      "Epoch 60/100\n",
      "1/1 [==============================] - 0s 11ms/step - loss: 0.4528 - accuracy: 1.0000\n",
      "Epoch 61/100\n",
      "1/1 [==============================] - 0s 10ms/step - loss: 0.4372 - accuracy: 1.0000\n",
      "Epoch 62/100\n",
      "1/1 [==============================] - 0s 10ms/step - loss: 0.4211 - accuracy: 1.0000\n",
      "Epoch 63/100\n",
      "1/1 [==============================] - 0s 10ms/step - loss: 0.4047 - accuracy: 1.0000\n",
      "Epoch 64/100\n",
      "1/1 [==============================] - 0s 10ms/step - loss: 0.3882 - accuracy: 1.0000\n",
      "Epoch 65/100\n",
      "1/1 [==============================] - 0s 10ms/step - loss: 0.3715 - accuracy: 1.0000\n",
      "Epoch 66/100\n",
      "1/1 [==============================] - 0s 11ms/step - loss: 0.3548 - accuracy: 1.0000\n",
      "Epoch 67/100\n",
      "1/1 [==============================] - 0s 10ms/step - loss: 0.3379 - accuracy: 1.0000\n",
      "Epoch 68/100\n",
      "1/1 [==============================] - 0s 10ms/step - loss: 0.3209 - accuracy: 1.0000\n",
      "Epoch 69/100\n",
      "1/1 [==============================] - 0s 10ms/step - loss: 0.3037 - accuracy: 1.0000\n",
      "Epoch 70/100\n",
      "1/1 [==============================] - 0s 10ms/step - loss: 0.2864 - accuracy: 1.0000\n",
      "Epoch 71/100\n",
      "1/1 [==============================] - 0s 10ms/step - loss: 0.2693 - accuracy: 1.0000\n",
      "Epoch 72/100\n",
      "1/1 [==============================] - 0s 10ms/step - loss: 0.2525 - accuracy: 1.0000\n",
      "Epoch 73/100\n",
      "1/1 [==============================] - 0s 10ms/step - loss: 0.2362 - accuracy: 1.0000\n",
      "Epoch 74/100\n",
      "1/1 [==============================] - 0s 10ms/step - loss: 0.2205 - accuracy: 1.0000\n",
      "Epoch 75/100\n",
      "1/1 [==============================] - 0s 10ms/step - loss: 0.2056 - accuracy: 1.0000\n",
      "Epoch 76/100\n",
      "1/1 [==============================] - 0s 10ms/step - loss: 0.1915 - accuracy: 1.0000\n",
      "Epoch 77/100\n",
      "1/1 [==============================] - 0s 10ms/step - loss: 0.1784 - accuracy: 1.0000\n",
      "Epoch 78/100\n",
      "1/1 [==============================] - 0s 10ms/step - loss: 0.1660 - accuracy: 1.0000\n",
      "Epoch 79/100\n",
      "1/1 [==============================] - 0s 10ms/step - loss: 0.1545 - accuracy: 1.0000\n",
      "Epoch 80/100\n",
      "1/1 [==============================] - 0s 11ms/step - loss: 0.1438 - accuracy: 1.0000\n",
      "Epoch 81/100\n",
      "1/1 [==============================] - 0s 10ms/step - loss: 0.1338 - accuracy: 1.0000\n",
      "Epoch 82/100\n",
      "1/1 [==============================] - 0s 10ms/step - loss: 0.1244 - accuracy: 1.0000\n",
      "Epoch 83/100\n",
      "1/1 [==============================] - 0s 11ms/step - loss: 0.1156 - accuracy: 1.0000\n",
      "Epoch 84/100\n",
      "1/1 [==============================] - 0s 11ms/step - loss: 0.1073 - accuracy: 1.0000\n",
      "Epoch 85/100\n",
      "1/1 [==============================] - 0s 10ms/step - loss: 0.0995 - accuracy: 1.0000\n",
      "Epoch 86/100\n",
      "1/1 [==============================] - 0s 11ms/step - loss: 0.0922 - accuracy: 1.0000\n",
      "Epoch 87/100\n",
      "1/1 [==============================] - 0s 11ms/step - loss: 0.0853 - accuracy: 1.0000\n",
      "Epoch 88/100\n",
      "1/1 [==============================] - 0s 10ms/step - loss: 0.0787 - accuracy: 1.0000\n",
      "Epoch 89/100\n",
      "1/1 [==============================] - 0s 11ms/step - loss: 0.0725 - accuracy: 1.0000\n",
      "Epoch 90/100\n",
      "1/1 [==============================] - 0s 10ms/step - loss: 0.0668 - accuracy: 1.0000\n",
      "Epoch 91/100\n",
      "1/1 [==============================] - 0s 11ms/step - loss: 0.0613 - accuracy: 1.0000\n",
      "Epoch 92/100\n",
      "1/1 [==============================] - 0s 10ms/step - loss: 0.0562 - accuracy: 1.0000\n",
      "Epoch 93/100\n",
      "1/1 [==============================] - 0s 11ms/step - loss: 0.0514 - accuracy: 1.0000\n",
      "Epoch 94/100\n",
      "1/1 [==============================] - 0s 10ms/step - loss: 0.0468 - accuracy: 1.0000\n",
      "Epoch 95/100\n",
      "1/1 [==============================] - 0s 10ms/step - loss: 0.0425 - accuracy: 1.0000\n",
      "Epoch 96/100\n",
      "1/1 [==============================] - 0s 11ms/step - loss: 0.0385 - accuracy: 1.0000\n",
      "Epoch 97/100\n",
      "1/1 [==============================] - 0s 11ms/step - loss: 0.0348 - accuracy: 1.0000\n",
      "Epoch 98/100\n",
      "1/1 [==============================] - 0s 11ms/step - loss: 0.0314 - accuracy: 1.0000\n",
      "Epoch 99/100\n",
      "1/1 [==============================] - 0s 12ms/step - loss: 0.0282 - accuracy: 1.0000\n",
      "Epoch 100/100\n",
      "1/1 [==============================] - 0s 11ms/step - loss: 0.0254 - accuracy: 1.0000\n"
     ]
    }
   ],
   "source": [
    "history = model.fit(x_train, y_train, epochs=100,\n",
    "                    batch_size=2)"
   ]
  },
  {
   "cell_type": "code",
   "execution_count": 79,
   "id": "f3eb84ea",
   "metadata": {},
   "outputs": [
    {
     "name": "stdout",
     "output_type": "stream",
     "text": [
      "1/1 [==============================] - 0s 33ms/step\n",
      "[[0.987483]]\n"
     ]
    }
   ],
   "source": [
    "print(model.predict(tf.expand_dims(padded_doc[0], 0)))"
   ]
  },
  {
   "cell_type": "code",
   "execution_count": 81,
   "id": "13240163",
   "metadata": {},
   "outputs": [
    {
     "name": "stdout",
     "output_type": "stream",
     "text": [
      "1/1 [==============================] - 0s 32ms/step\n",
      "[[0.03087204]]\n"
     ]
    }
   ],
   "source": [
    "print(model.predict(tf.expand_dims(padded_doc[1], 0)))"
   ]
  },
  {
   "cell_type": "code",
   "execution_count": 80,
   "id": "69fe3361",
   "metadata": {},
   "outputs": [
    {
     "name": "stdout",
     "output_type": "stream",
     "text": [
      "Model: \"sequential_4\"\n",
      "_________________________________________________________________\n",
      " Layer (type)                Output Shape              Param #   \n",
      "=================================================================\n",
      " embedding_6 (Embedding)     (None, None, 12)          120000    \n",
      "                                                                 \n",
      " bidirectional_4 (Bidirecti  (None, 128)               39424     \n",
      " onal)                                                           \n",
      "                                                                 \n",
      " dense_8 (Dense)             (None, 32)                4128      \n",
      "                                                                 \n",
      " dense_9 (Dense)             (None, 1)                 33        \n",
      "                                                                 \n",
      "=================================================================\n",
      "Total params: 163585 (639.00 KB)\n",
      "Trainable params: 163585 (639.00 KB)\n",
      "Non-trainable params: 0 (0.00 Byte)\n",
      "_________________________________________________________________\n"
     ]
    }
   ],
   "source": [
    "model.summary()"
   ]
  },
  {
   "cell_type": "code",
   "execution_count": 73,
   "id": "9c3f32fa",
   "metadata": {},
   "outputs": [],
   "source": [
    "import matplotlib.pyplot as plt\n",
    "\n",
    "def plot_graphs(history, metric):\n",
    "  plt.plot(history.history[metric])\n",
    "  plt.plot(history.history['val_'+metric], '')\n",
    "  plt.xlabel(\"Epochs\")\n",
    "  plt.ylabel(metric)\n",
    "  plt.legend([metric, 'val_'+metric])\n",
    "  plt.show()"
   ]
  },
  {
   "cell_type": "code",
   "execution_count": 74,
   "id": "52ddd898",
   "metadata": {},
   "outputs": [
    {
     "ename": "KeyError",
     "evalue": "'val_accuracy'",
     "output_type": "error",
     "traceback": [
      "\u001b[0;31m---------------------------------------------------------------------------\u001b[0m",
      "\u001b[0;31mKeyError\u001b[0m                                  Traceback (most recent call last)",
      "Cell \u001b[0;32mIn[74], line 1\u001b[0m\n\u001b[0;32m----> 1\u001b[0m \u001b[43mplot_graphs\u001b[49m\u001b[43m(\u001b[49m\u001b[43mhistory\u001b[49m\u001b[43m,\u001b[49m\u001b[43m \u001b[49m\u001b[38;5;124;43m'\u001b[39;49m\u001b[38;5;124;43maccuracy\u001b[39;49m\u001b[38;5;124;43m'\u001b[39;49m\u001b[43m)\u001b[49m\n",
      "Cell \u001b[0;32mIn[73], line 5\u001b[0m, in \u001b[0;36mplot_graphs\u001b[0;34m(history, metric)\u001b[0m\n\u001b[1;32m      3\u001b[0m \u001b[38;5;28;01mdef\u001b[39;00m \u001b[38;5;21mplot_graphs\u001b[39m(history, metric):\n\u001b[1;32m      4\u001b[0m   plt\u001b[38;5;241m.\u001b[39mplot(history\u001b[38;5;241m.\u001b[39mhistory[metric])\n\u001b[0;32m----> 5\u001b[0m   plt\u001b[38;5;241m.\u001b[39mplot(\u001b[43mhistory\u001b[49m\u001b[38;5;241;43m.\u001b[39;49m\u001b[43mhistory\u001b[49m\u001b[43m[\u001b[49m\u001b[38;5;124;43m'\u001b[39;49m\u001b[38;5;124;43mval_\u001b[39;49m\u001b[38;5;124;43m'\u001b[39;49m\u001b[38;5;241;43m+\u001b[39;49m\u001b[43mmetric\u001b[49m\u001b[43m]\u001b[49m, \u001b[38;5;124m'\u001b[39m\u001b[38;5;124m'\u001b[39m)\n\u001b[1;32m      6\u001b[0m   plt\u001b[38;5;241m.\u001b[39mxlabel(\u001b[38;5;124m\"\u001b[39m\u001b[38;5;124mEpochs\u001b[39m\u001b[38;5;124m\"\u001b[39m)\n\u001b[1;32m      7\u001b[0m   plt\u001b[38;5;241m.\u001b[39mylabel(metric)\n",
      "\u001b[0;31mKeyError\u001b[0m: 'val_accuracy'"
     ]
    },
    {
     "data": {
      "image/png": "[encoded data removed]",
      "text/plain": [
       "<Figure size 640x480 with 1 Axes>"
      ]
     },
     "metadata": {},
     "output_type": "display_data"
    }
   ],
   "source": [
    "plot_graphs(history, 'accuracy')"
   ]
  },
  {
   "cell_type": "code",
   "execution_count": 75,
   "id": "3cd2f501",
   "metadata": {},
   "outputs": [
    {
     "ename": "KeyError",
     "evalue": "'val_loss'",
     "output_type": "error",
     "traceback": [
      "\u001b[0;31m---------------------------------------------------------------------------\u001b[0m",
      "\u001b[0;31mKeyError\u001b[0m                                  Traceback (most recent call last)",
      "Cell \u001b[0;32mIn[75], line 1\u001b[0m\n\u001b[0;32m----> 1\u001b[0m \u001b[43mplot_graphs\u001b[49m\u001b[43m(\u001b[49m\u001b[43mhistory\u001b[49m\u001b[43m,\u001b[49m\u001b[43m \u001b[49m\u001b[38;5;124;43m'\u001b[39;49m\u001b[38;5;124;43mloss\u001b[39;49m\u001b[38;5;124;43m'\u001b[39;49m\u001b[43m)\u001b[49m\n",
      "Cell \u001b[0;32mIn[73], line 5\u001b[0m, in \u001b[0;36mplot_graphs\u001b[0;34m(history, metric)\u001b[0m\n\u001b[1;32m      3\u001b[0m \u001b[38;5;28;01mdef\u001b[39;00m \u001b[38;5;21mplot_graphs\u001b[39m(history, metric):\n\u001b[1;32m      4\u001b[0m   plt\u001b[38;5;241m.\u001b[39mplot(history\u001b[38;5;241m.\u001b[39mhistory[metric])\n\u001b[0;32m----> 5\u001b[0m   plt\u001b[38;5;241m.\u001b[39mplot(\u001b[43mhistory\u001b[49m\u001b[38;5;241;43m.\u001b[39;49m\u001b[43mhistory\u001b[49m\u001b[43m[\u001b[49m\u001b[38;5;124;43m'\u001b[39;49m\u001b[38;5;124;43mval_\u001b[39;49m\u001b[38;5;124;43m'\u001b[39;49m\u001b[38;5;241;43m+\u001b[39;49m\u001b[43mmetric\u001b[49m\u001b[43m]\u001b[49m, \u001b[38;5;124m'\u001b[39m\u001b[38;5;124m'\u001b[39m)\n\u001b[1;32m      6\u001b[0m   plt\u001b[38;5;241m.\u001b[39mxlabel(\u001b[38;5;124m\"\u001b[39m\u001b[38;5;124mEpochs\u001b[39m\u001b[38;5;124m\"\u001b[39m)\n\u001b[1;32m      7\u001b[0m   plt\u001b[38;5;241m.\u001b[39mylabel(metric)\n",
      "\u001b[0;31mKeyError\u001b[0m: 'val_loss'"
     ]
    },
    {
     "data": {
      "image/png": "[encoded data removed]",
      "text/plain": [
       "<Figure size 640x480 with 1 Axes>"
      ]
     },
     "metadata": {},
     "output_type": "display_data"
    }
   ],
   "source": [
    "plot_graphs(history, 'loss')"
   ]
  },
  {
   "cell_type": "code",
   "execution_count": null,
   "id": "13603b94",
   "metadata": {},
   "outputs": [],
   "source": []
  }
 ],
 "metadata": {
  "kernelspec": {
   "display_name": "Python 3 (ipykernel)",
   "language": "python",
   "name": "python3"
  },
  "language_info": {
   "codemirror_mode": {
    "name": "ipython",
    "version": 3
   },
   "file_extension": ".py",
   "mimetype": "text/x-python",
   "name": "python",
   "nbconvert_exporter": "python",
   "pygments_lexer": "ipython3",
   "version": "3.9.7"
  }
 },
 "nbformat": 4,
 "nbformat_minor": 5
}
