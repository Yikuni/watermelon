{
 "cells": [
  {
   "cell_type": "code",
   "execution_count": 1,
   "id": "d344c873-1344-44f3-af54-a9bb4ad17483",
   "metadata": {},
   "outputs": [],
   "source": [
    "import torch\n",
    "from torch import nn, optim\n",
    "from torchvision import datasets\n",
    "from torchvision.transforms import ToTensor"
   ]
  },
  {
   "cell_type": "code",
   "execution_count": 2,
   "id": "1c19901d-3ff9-441a-ae13-6a2053b04f29",
   "metadata": {},
   "outputs": [
    {
     "name": "stdout",
     "output_type": "stream",
     "text": [
      "GPU is available\n"
     ]
    }
   ],
   "source": [
    "gpu = False\n",
    "if torch.cuda.is_available():\n",
    "    device = torch.device(\"cuda\")\n",
    "    gpu = True\n",
    "    print(\"GPU is available\")\n",
    "else:\n",
    "    device = torch.device(\"cpu\")\n",
    "    print(\"GPU is not available\")"
   ]
  },
  {
   "cell_type": "code",
   "execution_count": 3,
   "id": "1b5cffaa-be6d-4c79-8323-5c61d5dbdb38",
   "metadata": {},
   "outputs": [],
   "source": [
    "training_data = datasets.MNIST(\n",
    "    root=\"data\",\n",
    "    train=True,\n",
    "    download=True,\n",
    "    transform=ToTensor()\n",
    ")\n",
    "\n",
    "test_data = datasets.MNIST(\n",
    "    root=\"data\",\n",
    "    train=False,\n",
    "    download=True,\n",
    "    transform=ToTensor(),\n",
    ")\n",
    "batch_size = 512\n",
    "train_dataloader = torch.utils.data.DataLoader(training_data, batch_size=batch_size, shuffle=True, num_workers=12, pin_memory=True)\n",
    "test_dataloader = torch.utils.data.DataLoader(test_data, batch_size=128, shuffle=True, num_workers=4)"
   ]
  },
  {
   "cell_type": "code",
   "execution_count": 4,
   "id": "f97aa18e-25ad-4b93-833a-7ceb1ca9d48d",
   "metadata": {},
   "outputs": [
    {
     "name": "stdout",
     "output_type": "stream",
     "text": [
      "torch.Size([512, 1, 28, 28])\n",
      "torch.Size([512])\n",
      "tensor(0)\n"
     ]
    },
    {
     "data": {
      "image/png": "[encoded data removed]",
      "text/plain": [
       "<Figure size 640x480 with 1 Axes>"
      ]
     },
     "metadata": {},
     "output_type": "display_data"
    },
    {
     "data": {
      "text/plain": [
       "(28, 28)"
      ]
     },
     "execution_count": 4,
     "metadata": {},
     "output_type": "execute_result"
    }
   ],
   "source": [
    "from matplotlib import pyplot as plt\n",
    "for batch in train_dataloader:\n",
    "    img, label = batch\n",
    "    print(img.shape)\n",
    "    print(label.shape)\n",
    "    print(label[0])\n",
    "    plt.imshow(img[0, 0, :, :].numpy(), cmap='gray')\n",
    "    plt.axis('off')\n",
    "    plt.show()\n",
    "    img_w = img.shape[2]\n",
    "    img_h = img.shape[3]\n",
    "    break;\n",
    "img_w, img_h"
   ]
  },
  {
   "cell_type": "code",
   "execution_count": 5,
   "id": "b96af90e-d371-4ba4-9ed9-8e947f5972db",
   "metadata": {},
   "outputs": [],
   "source": [
    "class GANGenerator(nn.Module):\n",
    "    def __init__(self, latent_size, hidden_size , output_size, **kwargs):\n",
    "        super(GANGenerator, self).__init__(**kwargs)\n",
    "        self.l1 = nn.Linear(latent_size, hidden_size)\n",
    "        self.a1 = nn.Sigmoid()\n",
    "        self.l2 = nn.Linear(hidden_size, output_size)\n",
    "        self.a2 = nn.Sigmoid()\n",
    "\n",
    "    def forward(self, X):\n",
    "        X = self.l1(X)\n",
    "        X = self.a1(X)\n",
    "        X = self.l2(X)\n",
    "        X = self.a2(X)\n",
    "        return X"
   ]
  },
  {
   "cell_type": "code",
   "execution_count": 6,
   "id": "6570c4b6-d4b0-40f8-9bf3-e14630cfd74b",
   "metadata": {},
   "outputs": [],
   "source": [
    "class GANDiscriminator(nn.Module):\n",
    "    def __init__(self, output_size, hidden_size, **kwargs):\n",
    "        super(GANDiscriminator, self).__init__(**kwargs)\n",
    "        self.l1 = nn.Linear(output_size, hidden_size)\n",
    "        self.a1 = nn.Sigmoid()\n",
    "        self.l2 = nn.Linear(hidden_size, 1)\n",
    "        self.a2 = nn.Sigmoid()\n",
    "\n",
    "    def forward(self, X):\n",
    "        X = self.l1(X)\n",
    "        X = self.a1(X)\n",
    "        X = self.l2(X)\n",
    "        X = self.a2(X)\n",
    "        return X"
   ]
  },
  {
   "cell_type": "code",
   "execution_count": 7,
   "id": "778abac3-e469-4477-9eed-e57125ad2790",
   "metadata": {},
   "outputs": [],
   "source": [
    "lr = 5e-4\n",
    "decay = 0.001\n",
    "latent_size = 64\n",
    "net_g = GANGenerator(latent_size, 64, img_w*img_h).to(device)\n",
    "net_d = GANDiscriminator(img_w*img_h, 128).to(device)\n",
    "optim_g = optim.AdamW(net_g.parameters(), lr=lr, weight_decay=decay)\n",
    "optim_d = optim.AdamW(net_d.parameters(), lr=lr, weight_decay=decay)"
   ]
  },
  {
   "cell_type": "code",
   "execution_count": 8,
   "id": "d6b5a20c-2d7e-434c-9e92-05fb74f86a68",
   "metadata": {},
   "outputs": [
    {
     "data": {
      "text/plain": [
       "GANDiscriminator(\n",
       "  (l1): Linear(in_features=784, out_features=128, bias=True)\n",
       "  (a1): Sigmoid()\n",
       "  (l2): Linear(in_features=128, out_features=1, bias=True)\n",
       "  (a2): Sigmoid()\n",
       ")"
      ]
     },
     "execution_count": 8,
     "metadata": {},
     "output_type": "execute_result"
    }
   ],
   "source": [
    "def xavier_init_weights(m):\n",
    "        if type(m) == nn.Linear:\n",
    "            nn.init.xavier_uniform_(m.weight)\n",
    "        if type(m) == nn.GRU:\n",
    "            for param in m._flat_weights_names:\n",
    "                if \"weight\" in param:\n",
    "                    nn.init.xavier_uniform_(m._parameters[param])\n",
    "net_g.apply(xavier_init_weights)\n",
    "net_d.apply(xavier_init_weights)"
   ]
  },
  {
   "cell_type": "code",
   "execution_count": 9,
   "id": "8ab7a950-4b59-4285-b866-80bcf0f92f33",
   "metadata": {},
   "outputs": [],
   "source": [
    "from IPython import display\n",
    "import numpy as np\n",
    "max_epoch = 200\n",
    "def train(data_iter):\n",
    "    loss_fn = nn.BCELoss()\n",
    "    label_ones = torch.ones(batch_size, 1).to(device)\n",
    "    label_zeros = torch.zeros(batch_size, 1).to(device)\n",
    "    net_d.train()\n",
    "    net_g.train()\n",
    "\n",
    "    # 训练历史\n",
    "    loss_history_g = []\n",
    "    loss_history_d = []\n",
    "\n",
    "    for epoch in range(max_epoch):\n",
    "        # 计算每一轮loss的和\n",
    "        loss_g_value, loss_d_value = 0, 0\n",
    "        for X, Y in data_iter:\n",
    "            optim_g.zero_grad()\n",
    "            optim_d.zero_grad()\n",
    "            X = X.to(device)\n",
    "            X = X.reshape(X.shape[0], X.shape[1], -1)\n",
    "            latent = torch.rand(batch_size, latent_size).to(device)\n",
    "            X_fake = net_g(latent)\n",
    "            fake_loss = torch.abs(X_fake - X).mean()\n",
    "            g_loss = fake_loss * 0.05 + loss_fn(net_d(X_fake), label_ones)\n",
    "            g_loss.backward()\n",
    "            optim_g.step()\n",
    "\n",
    "            loss_d_fake = loss_fn(net_d(X_fake.detach()), label_zeros)\n",
    "            loss_d_real = loss_fn(net_d(X).reshape(-1, 1), label_ones[:X.shape[0]])\n",
    "            loss_d = (loss_d_fake + loss_d_real) / 2\n",
    "            loss_d.backward()\n",
    "            optim_d.step()\n",
    "\n",
    "            # 更改loss和\n",
    "            loss_g_value += g_loss.item()\n",
    "            loss_d_value += loss_d.item()\n",
    "\n",
    "        # 统计每一轮的loss\n",
    "        loss_history_g.append(loss_g_value)\n",
    "        loss_history_d.append(loss_d_value)\n",
    "\n",
    "        # 绘图\n",
    "        plt.subplot(2, 1, 1)\n",
    "        plt.plot(np.arange(len(loss_history_g)), loss_history_g)\n",
    "        plt.subplot(2, 1, 2)\n",
    "        plt.plot(np.arange(len(loss_history_d)), loss_history_d)\n",
    "        display.display(plt.gcf())\n",
    "        display.clear_output(wait=True)"
   ]
  },
  {
   "cell_type": "code",
   "execution_count": null,
   "id": "0ba751f5-4e4c-4993-806a-c89aa3ecd12e",
   "metadata": {},
   "outputs": [
    {
     "data": {
      "image/png": "[encoded data removed]",
      "text/plain": [
       "<Figure size 640x480 with 2 Axes>"
      ]
     },
     "metadata": {},
     "output_type": "display_data"
    }
   ],
   "source": [
    "train(train_dataloader)"
   ]
  },
  {
   "cell_type": "code",
   "execution_count": null,
   "id": "2d97c360-b683-4669-b18e-79e19793a924",
   "metadata": {},
   "outputs": [],
   "source": [
    "def predict(net, latent_size, device):\n",
    "    net.eval()\n",
    "    sample = torch.randn(1, latent_size).to(device)\n",
    "    generate = net(sample).cpu().detach().numpy().reshape(28, 28)\n",
    "    plt.imshow(generate, cmap='gray')\n",
    "    plt.axis('off')\n",
    "    plt.show()"
   ]
  },
  {
   "cell_type": "code",
   "execution_count": null,
   "id": "f55ed3e4-0405-48f7-97f2-a69f4c0c38c2",
   "metadata": {},
   "outputs": [],
   "source": [
    "predict(net_g, latent_size, device)"
   ]
  },
  {
   "cell_type": "code",
   "execution_count": null,
   "id": "4acfe527-a42c-48be-b4de-30a12f5da3cc",
   "metadata": {},
   "outputs": [],
   "source": []
  }
 ],
 "metadata": {
  "kernelspec": {
   "display_name": "Python 3 (ipykernel)",
   "language": "python",
   "name": "python3"
  },
  "language_info": {
   "codemirror_mode": {
    "name": "ipython",
    "version": 3
   },
   "file_extension": ".py",
   "mimetype": "text/x-python",
   "name": "python",
   "nbconvert_exporter": "python",
   "pygments_lexer": "ipython3",
   "version": "3.9.19"
  }
 },
 "nbformat": 4,
 "nbformat_minor": 5
}
