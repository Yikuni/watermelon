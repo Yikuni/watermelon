{
 "cells": [
  {
   "cell_type": "code",
   "execution_count": 1,
   "id": "8d0cec28",
   "metadata": {},
   "outputs": [],
   "source": [
    "import torch\n",
    "from torch import nn, optim\n",
    "from torchvision import datasets\n",
    "from torchvision.transforms import ToTensor"
   ]
  },
  {
   "cell_type": "code",
   "execution_count": 2,
   "id": "d6d51d9c",
   "metadata": {},
   "outputs": [
    {
     "name": "stdout",
     "output_type": "stream",
     "text": [
      "GPU is available\n"
     ]
    }
   ],
   "source": [
    "gpu = False\n",
    "if torch.cuda.is_available():\n",
    "    device = torch.device(\"cuda\")\n",
    "    gpu = True\n",
    "    print(\"GPU is available\")\n",
    "else:\n",
    "    device = torch.device(\"cpu\")\n",
    "    print(\"GPU is not available\")"
   ]
  },
  {
   "cell_type": "code",
   "execution_count": 3,
   "id": "6729c089",
   "metadata": {},
   "outputs": [],
   "source": [
    "training_data = datasets.MNIST(\n",
    "    root=\"data\",\n",
    "    train=True,\n",
    "    download=True,\n",
    "    transform=ToTensor()\n",
    ")\n",
    "\n",
    "test_data = datasets.MNIST(\n",
    "    root=\"data\",\n",
    "    train=False,\n",
    "    download=True,\n",
    "    transform=ToTensor(),\n",
    ")\n",
    "train_dataloader = torch.utils.data.DataLoader(training_data, batch_size=512, shuffle=True, num_workers=12, pin_memory=True)\n",
    "test_dataloader = torch.utils.data.DataLoader(test_data, batch_size=128, shuffle=True, num_workers=8)"
   ]
  },
  {
   "cell_type": "code",
   "execution_count": 4,
   "id": "d69ce451",
   "metadata": {},
   "outputs": [],
   "source": [
    "from matplotlib import pyplot as plt"
   ]
  },
  {
   "cell_type": "code",
   "execution_count": 5,
   "id": "4aa8f305",
   "metadata": {},
   "outputs": [
    {
     "name": "stdout",
     "output_type": "stream",
     "text": [
      "torch.Size([512, 1, 28, 28])\n",
      "torch.Size([512])\n",
      "tensor(2)\n"
     ]
    },
    {
     "data": {
      "image/png": "[encoded data removed]",
      "text/plain": [
       "<Figure size 640x480 with 1 Axes>"
      ]
     },
     "metadata": {},
     "output_type": "display_data"
    }
   ],
   "source": [
    "for batch in train_dataloader:\n",
    "    img, label = batch\n",
    "    print(img.shape)\n",
    "    print(label.shape)\n",
    "    print(label[0])\n",
    "    plt.imshow(img[0, 0, :, :].numpy(), cmap='gray')\n",
    "    plt.axis('off')\n",
    "    plt.show()\n",
    "    break;"
   ]
  },
  {
   "cell_type": "code",
   "execution_count": 6,
   "id": "48fbf111",
   "metadata": {},
   "outputs": [],
   "source": [
    "class VAEEncoder(nn.Module):\n",
    "    def __init__(self, input_size, hidden_size, latent_size, hidden_size2=256, **kwargs):\n",
    "        super(VAEEncoder, self).__init__(**kwargs)\n",
    "        self.linear = nn.Linear(input_size, hidden_size)\n",
    "        self.relu = nn.ReLU()\n",
    "        self.linear2 = nn.Linear(hidden_size, hidden_size2)\n",
    "        self.relu2 = nn.ReLU()\n",
    "        self.mu = nn.Linear(hidden_size2, latent_size)\n",
    "        self.sigma = nn.Linear(hidden_size2, latent_size)\n",
    "    \n",
    "    def forward(self, X):\n",
    "        X = self.linear(X)\n",
    "        X = self.relu(X)\n",
    "        X = self.linear2(X)\n",
    "        X = self.relu2(X)\n",
    "        return self.mu(X), self.sigma(X)"
   ]
  },
  {
   "cell_type": "code",
   "execution_count": 7,
   "id": "7e76d063",
   "metadata": {},
   "outputs": [],
   "source": [
    "class VAEDecoder(nn.Module):\n",
    "    def __init__(self, latent_size, hidden_size, output_size, hidden_size2=256, **kwargs):\n",
    "        super(VAEDecoder, self).__init__(**kwargs)\n",
    "        self.linear1 = nn.Linear(latent_size, hidden_size)\n",
    "        self.a1 = nn.ReLU()\n",
    "        self.linear2 = nn.Linear(hidden_size, hidden_size2)\n",
    "        self.a2 = nn.ReLU()\n",
    "        self.linear3 = nn.Linear(hidden_size2, output_size)\n",
    "        self.a3 = nn.Sigmoid()\n",
    "    \n",
    "    def forward(self, X):\n",
    "        X = self.linear1(X)\n",
    "        X = self.a1(X)\n",
    "        X = self.linear2(X)\n",
    "        X = self.a2(X)\n",
    "        X = self.linear3(X)\n",
    "        return self.a3(X)"
   ]
  },
  {
   "cell_type": "code",
   "execution_count": 8,
   "id": "26d11259",
   "metadata": {},
   "outputs": [],
   "source": [
    "class VAE(nn.Module):\n",
    "    def __init__(self, input_size, output_size, latent_size, hidden_size, **kwargs):\n",
    "        super(VAE, self).__init__(**kwargs)\n",
    "        self.encoder = VAEEncoder(input_size, hidden_size, latent_size)\n",
    "        self.decoder = VAEDecoder(latent_size, hidden_size, output_size)\n",
    "    \n",
    "    def forward(self, X):\n",
    "        mu, sigma = self.encoder(X)\n",
    "        eps = torch.randn_like(mu)\n",
    "        Z = mu + eps * sigma # 使用平均分布而非正态分布\n",
    "        return self.decoder(Z)"
   ]
  },
  {
   "cell_type": "code",
   "execution_count": 9,
   "id": "d32b6c14",
   "metadata": {},
   "outputs": [],
   "source": [
    "latent_size, hidden_size = 32, 128\n",
    "input_size = 28 * 28\n",
    "output_size = input_size"
   ]
  },
  {
   "cell_type": "code",
   "execution_count": 10,
   "id": "0e35ecd6",
   "metadata": {},
   "outputs": [],
   "source": [
    "lr = 1e-4\n",
    "num_epochs = 6000"
   ]
  },
  {
   "cell_type": "code",
   "execution_count": 11,
   "id": "c484f19d",
   "metadata": {},
   "outputs": [],
   "source": [
    "from matplotlib import pyplot as plt\n",
    "import numpy as np"
   ]
  },
  {
   "cell_type": "code",
   "execution_count": 12,
   "id": "b08dadfe",
   "metadata": {},
   "outputs": [],
   "source": [
    "net = VAE(input_size, output_size, latent_size, hidden_size)"
   ]
  },
  {
   "cell_type": "code",
   "execution_count": 13,
   "id": "edc86748-b873-4a13-9ba7-d55b741e8802",
   "metadata": {},
   "outputs": [],
   "source": [
    "def xavier_init_weights(m):\n",
    "        if type(m) == nn.Linear:\n",
    "            nn.init.xavier_uniform_(m.weight)\n",
    "        if type(m) == nn.GRU:\n",
    "            for param in m._flat_weights_names:\n",
    "                if \"weight\" in param:\n",
    "                    nn.init.xavier_uniform_(m._parameters[param])\n",
    "net.apply(xavier_init_weights)\n",
    "optimizer = optim.AdamW(net.parameters(), lr=lr, weight_decay=1e-3)"
   ]
  },
  {
   "cell_type": "code",
   "execution_count": 18,
   "id": "30e288c8-767d-4ad8-8df4-c84cf4fcee3a",
   "metadata": {},
   "outputs": [
    {
     "name": "stdout",
     "output_type": "stream",
     "text": [
      "no model to load, skip.\n"
     ]
    }
   ],
   "source": [
    "import os\n",
    "def load_model():\n",
    "    if os.path.exists('data/vae.pth'):\n",
    "        net.load_state_dict('data/vae.pth')\n",
    "        optimizer.load_state_dict('data/vae_optim.pth')\n",
    "        print(\"model loaded\")\n",
    "    else:\n",
    "        print(\"no model to load, skip.\")\n",
    "load_model()"
   ]
  },
  {
   "cell_type": "code",
   "execution_count": 25,
   "id": "0ff6b292",
   "metadata": {},
   "outputs": [],
   "source": [
    "from IPython import display\n",
    "def train(net, data_iter, num_epochs, lr, device):\n",
    "    net.to(device)\n",
    "    net.train()\n",
    "    loss = nn.BCELoss()\n",
    "    \n",
    "    \n",
    "    loss_history = []\n",
    "    for epoch in range(num_epochs):\n",
    "        loss_value = 0\n",
    "        for (X,Y ) in data_iter:\n",
    "            optimizer.zero_grad()\n",
    "            X, Y = X.to(device), Y.to(device)\n",
    "            X = X.reshape(X.shape[0], X.shape[1], -1)\n",
    "            X_re = net(X)\n",
    "            l = loss(X_re, X)\n",
    "            l.sum().backward()\n",
    "            optimizer.step()\n",
    "            loss_value += l.item()\n",
    "        loss_history.append(loss_value)\n",
    "        plt.plot(np.arange(epoch+1), loss_history)\n",
    "        plt.xlabel('Iterations')\n",
    "        plt.ylabel('Loss')\n",
    "        display.display(plt.gcf())\n",
    "        display.clear_output(wait=True)\n",
    "    plt.plot(np.arange(num_epochs+1), loss_history)\n",
    "    plt.xlabel('Iterations')\n",
    "    plt.ylabel('Loss')\n",
    "    display.display(plt.gcf())\n",
    "    display.clear_output(wait=True)"
   ]
  },
  {
   "cell_type": "code",
   "execution_count": null,
   "id": "d95b950e",
   "metadata": {},
   "outputs": [
    {
     "data": {
      "image/png": "[encoded data removed]",
      "text/plain": [
       "<Figure size 640x480 with 1 Axes>"
      ]
     },
     "metadata": {},
     "output_type": "display_data"
    }
   ],
   "source": [
    "train(net, train_dataloader, num_epochs, lr, device)"
   ]
  },
  {
   "cell_type": "code",
   "execution_count": null,
   "id": "81c3fce7-8080-4f71-bb1f-228344568c74",
   "metadata": {},
   "outputs": [],
   "source": [
    "def save_model():\n",
    "    torch.save(net.state_dict(), 'data/vae.pth')\n",
    "    torch.save(optimizer.state_dict(), 'data/vae_optim.pth')\n",
    "save_model()"
   ]
  },
  {
   "cell_type": "code",
   "execution_count": 21,
   "id": "1c5c04c6",
   "metadata": {},
   "outputs": [],
   "source": [
    "def predict(net, latent_size, device):\n",
    "    net.eval()\n",
    "    sample = torch.randn(1, latent_size).to(device)\n",
    "    generate = net.decoder(sample).cpu().detach().numpy().reshape(28, 28)\n",
    "    plt.imshow(generate, cmap='gray')\n",
    "    plt.axis('off')\n",
    "    plt.show()"
   ]
  },
  {
   "cell_type": "code",
   "execution_count": 22,
   "id": "d35d2355",
   "metadata": {},
   "outputs": [
    {
     "data": {
      "image/png": "[encoded data removed]",
      "text/plain": [
       "<Figure size 640x480 with 1 Axes>"
      ]
     },
     "metadata": {},
     "output_type": "display_data"
    }
   ],
   "source": [
    "predict(net, latent_size, device)"
   ]
  },
  {
   "cell_type": "code",
   "execution_count": null,
   "id": "590b7bce",
   "metadata": {},
   "outputs": [],
   "source": []
  }
 ],
 "metadata": {
  "kernelspec": {
   "display_name": "Python 3 (ipykernel)",
   "language": "python",
   "name": "python3"
  },
  "language_info": {
   "codemirror_mode": {
    "name": "ipython",
    "version": 3
   },
   "file_extension": ".py",
   "mimetype": "text/x-python",
   "name": "python",
   "nbconvert_exporter": "python",
   "pygments_lexer": "ipython3",
   "version": "3.9.19"
  }
 },
 "nbformat": 4,
 "nbformat_minor": 5
}
