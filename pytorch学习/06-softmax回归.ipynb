{
 "cells": [
  {
   "cell_type": "code",
   "execution_count": 1,
   "id": "96445757-a50a-4c74-9012-9b50f2ec5421",
   "metadata": {},
   "outputs": [],
   "source": [
    "import torch\n",
    "from matplotlib import pyplot as plt\n",
    "from sklearn.datasets import load_iris\n",
    "import numpy as np\n",
    "%matplotlib inline"
   ]
  },
  {
   "cell_type": "code",
   "execution_count": 2,
   "id": "77e1df00-ce82-4f5b-8297-8fef42d71f10",
   "metadata": {},
   "outputs": [],
   "source": [
    "iris = load_iris()\n",
    "X = torch.tensor(iris.data, dtype=torch.float32)\n",
    "Y = torch.tensor(iris.target, dtype=torch.int32)\n",
    "dataset = torch.utils.data.TensorDataset(X, Y)\n",
    "data_iter = torch.utils.data.DataLoader(dataset, 30, shuffle=True)"
   ]
  },
  {
   "cell_type": "code",
   "execution_count": 3,
   "id": "aa442923-5deb-40ed-8fa3-a6fab122ea84",
   "metadata": {},
   "outputs": [],
   "source": [
    "def softmax(X):\n",
    "    X_exp = torch.exp(X)\n",
    "    return X_exp / X_exp.sum(1, keepdim=True) "
   ]
  },
  {
   "cell_type": "code",
   "execution_count": 4,
   "id": "d318a70c-07d0-4a72-a0a8-2fcda4794d36",
   "metadata": {},
   "outputs": [
    {
     "data": {
      "text/plain": [
       "(tensor([[0.3006, 0.2208, 0.4534, 0.0253],\n",
       "         [0.2512, 0.2476, 0.4434, 0.0578],\n",
       "         [0.1174, 0.6071, 0.1002, 0.1753]]),\n",
       " tensor([1.0000, 1.0000, 1.0000]))"
      ]
     },
     "execution_count": 4,
     "metadata": {},
     "output_type": "execute_result"
    }
   ],
   "source": [
    "x = torch.normal(0, 1, (3, 4))\n",
    "x_prob = softmax(x)\n",
    "x_prob, x_prob.sum(1)"
   ]
  },
  {
   "cell_type": "code",
   "execution_count": 5,
   "id": "87e2360d-fc1e-4cb3-a3ef-3e04910196c8",
   "metadata": {},
   "outputs": [],
   "source": [
    "num_inputs = 4\n",
    "num_outputs = 3\n",
    "W = torch.normal(0, 0.01, size=(num_inputs, num_outputs), requires_grad=True)\n",
    "b = torch.zeros(num_outputs, requires_grad=True)"
   ]
  },
  {
   "cell_type": "code",
   "execution_count": 8,
   "id": "30297d96-70d8-4024-ad71-58755aa1df3a",
   "metadata": {},
   "outputs": [],
   "source": [
    "def softmax_forward(X):\n",
    "    global W, b\n",
    "    return softmax(torch.matmul(X, W) + b)"
   ]
  },
  {
   "cell_type": "code",
   "execution_count": 9,
   "id": "458cd6fb-2c0b-4246-9f07-24b12f9e2d31",
   "metadata": {},
   "outputs": [
    {
     "data": {
      "text/plain": [
       "tensor([[0.3541, 0.3147, 0.3312],\n",
       "        [0.3532, 0.3149, 0.3320],\n",
       "        [0.3525, 0.3161, 0.3314],\n",
       "        [0.3525, 0.3159, 0.3316],\n",
       "        [0.3538, 0.3152, 0.3310],\n",
       "        [0.3563, 0.3130, 0.3307],\n",
       "        [0.3527, 0.3163, 0.3310],\n",
       "        [0.3539, 0.3147, 0.3313],\n",
       "        [0.3516, 0.3166, 0.3318],\n",
       "        [0.3532, 0.3149, 0.3318],\n",
       "        [0.3553, 0.3136, 0.3311],\n",
       "        [0.3536, 0.3152, 0.3312],\n",
       "        [0.3527, 0.3154, 0.3319],\n",
       "        [0.3505, 0.3180, 0.3315],\n",
       "        [0.3560, 0.3132, 0.3308],\n",
       "        [0.3571, 0.3130, 0.3300],\n",
       "        [0.3554, 0.3140, 0.3306],\n",
       "        [0.3543, 0.3146, 0.3312],\n",
       "        [0.3569, 0.3120, 0.3311],\n",
       "        [0.3547, 0.3147, 0.3307],\n",
       "        [0.3556, 0.3128, 0.3316],\n",
       "        [0.3548, 0.3144, 0.3308],\n",
       "        [0.3518, 0.3176, 0.3306],\n",
       "        [0.3552, 0.3133, 0.3315],\n",
       "        [0.3542, 0.3145, 0.3313],\n",
       "        [0.3539, 0.3140, 0.3321],\n",
       "        [0.3546, 0.3142, 0.3313],\n",
       "        [0.3546, 0.3141, 0.3313],\n",
       "        [0.3543, 0.3142, 0.3315],\n",
       "        [0.3531, 0.3154, 0.3315],\n",
       "        [0.3534, 0.3149, 0.3317],\n",
       "        [0.3555, 0.3129, 0.3315],\n",
       "        [0.3548, 0.3150, 0.3303],\n",
       "        [0.3557, 0.3141, 0.3302],\n",
       "        [0.3534, 0.3148, 0.3318],\n",
       "        [0.3531, 0.3152, 0.3316],\n",
       "        [0.3551, 0.3135, 0.3315],\n",
       "        [0.3533, 0.3157, 0.3309],\n",
       "        [0.3514, 0.3170, 0.3316],\n",
       "        [0.3542, 0.3144, 0.3314],\n",
       "        [0.3538, 0.3152, 0.3311],\n",
       "        [0.3515, 0.3156, 0.3329],\n",
       "        [0.3516, 0.3172, 0.3312],\n",
       "        [0.3550, 0.3139, 0.3310],\n",
       "        [0.3558, 0.3135, 0.3307],\n",
       "        [0.3531, 0.3151, 0.3318],\n",
       "        [0.3547, 0.3146, 0.3307],\n",
       "        [0.3524, 0.3162, 0.3314],\n",
       "        [0.3550, 0.3140, 0.3310],\n",
       "        [0.3536, 0.3149, 0.3315],\n",
       "        [0.3694, 0.2976, 0.3330],\n",
       "        [0.3674, 0.3001, 0.3326],\n",
       "        [0.3697, 0.2972, 0.3331],\n",
       "        [0.3625, 0.3038, 0.3336],\n",
       "        [0.3676, 0.2990, 0.3333],\n",
       "        [0.3646, 0.3025, 0.3329],\n",
       "        [0.3678, 0.2999, 0.3323],\n",
       "        [0.3586, 0.3083, 0.3331],\n",
       "        [0.3676, 0.2991, 0.3333],\n",
       "        [0.3619, 0.3054, 0.3327],\n",
       "        [0.3591, 0.3070, 0.3339],\n",
       "        [0.3651, 0.3024, 0.3326],\n",
       "        [0.3634, 0.3024, 0.3342],\n",
       "        [0.3665, 0.3005, 0.3330],\n",
       "        [0.3623, 0.3051, 0.3326],\n",
       "        [0.3678, 0.2993, 0.3329],\n",
       "        [0.3648, 0.3027, 0.3324],\n",
       "        [0.3633, 0.3035, 0.3332],\n",
       "        [0.3661, 0.2997, 0.3342],\n",
       "        [0.3623, 0.3043, 0.3334],\n",
       "        [0.3671, 0.3007, 0.3322],\n",
       "        [0.3647, 0.3022, 0.3331],\n",
       "        [0.3675, 0.2987, 0.3338],\n",
       "        [0.3660, 0.3007, 0.3332],\n",
       "        [0.3663, 0.3006, 0.3332],\n",
       "        [0.3674, 0.2995, 0.3331],\n",
       "        [0.3687, 0.2977, 0.3336],\n",
       "        [0.3697, 0.2973, 0.3331],\n",
       "        [0.3660, 0.3012, 0.3329],\n",
       "        [0.3616, 0.3051, 0.3333],\n",
       "        [0.3617, 0.3048, 0.3335],\n",
       "        [0.3613, 0.3052, 0.3335],\n",
       "        [0.3633, 0.3036, 0.3331],\n",
       "        [0.3674, 0.2994, 0.3333],\n",
       "        [0.3642, 0.3035, 0.3323],\n",
       "        [0.3665, 0.3016, 0.3319],\n",
       "        [0.3686, 0.2984, 0.3329],\n",
       "        [0.3658, 0.3000, 0.3342],\n",
       "        [0.3635, 0.3040, 0.3325],\n",
       "        [0.3627, 0.3041, 0.3333],\n",
       "        [0.3634, 0.3034, 0.3332],\n",
       "        [0.3663, 0.3009, 0.3328],\n",
       "        [0.3634, 0.3033, 0.3333],\n",
       "        [0.3589, 0.3078, 0.3333],\n",
       "        [0.3635, 0.3034, 0.3330],\n",
       "        [0.3638, 0.3036, 0.3326],\n",
       "        [0.3640, 0.3033, 0.3327],\n",
       "        [0.3657, 0.3013, 0.3330],\n",
       "        [0.3588, 0.3082, 0.3329],\n",
       "        [0.3637, 0.3034, 0.3329],\n",
       "        [0.3725, 0.2954, 0.3321],\n",
       "        [0.3674, 0.2996, 0.3330],\n",
       "        [0.3737, 0.2931, 0.3332],\n",
       "        [0.3699, 0.2970, 0.3331],\n",
       "        [0.3719, 0.2953, 0.3328],\n",
       "        [0.3768, 0.2897, 0.3336],\n",
       "        [0.3628, 0.3044, 0.3328],\n",
       "        [0.3745, 0.2918, 0.3337],\n",
       "        [0.3713, 0.2947, 0.3340],\n",
       "        [0.3757, 0.2923, 0.3321],\n",
       "        [0.3700, 0.2975, 0.3325],\n",
       "        [0.3696, 0.2970, 0.3334],\n",
       "        [0.3719, 0.2951, 0.3330],\n",
       "        [0.3669, 0.2998, 0.3332],\n",
       "        [0.3685, 0.2989, 0.3326],\n",
       "        [0.3708, 0.2969, 0.3323],\n",
       "        [0.3704, 0.2967, 0.3330],\n",
       "        [0.3780, 0.2898, 0.3322],\n",
       "        [0.3779, 0.2879, 0.3342],\n",
       "        [0.3666, 0.2992, 0.3342],\n",
       "        [0.3732, 0.2941, 0.3326],\n",
       "        [0.3666, 0.3007, 0.3326],\n",
       "        [0.3769, 0.2891, 0.3340],\n",
       "        [0.3682, 0.2984, 0.3333],\n",
       "        [0.3722, 0.2953, 0.3325],\n",
       "        [0.3737, 0.2932, 0.3331],\n",
       "        [0.3678, 0.2991, 0.3331],\n",
       "        [0.3678, 0.2995, 0.3327],\n",
       "        [0.3708, 0.2961, 0.3332],\n",
       "        [0.3727, 0.2938, 0.3335],\n",
       "        [0.3745, 0.2917, 0.3338],\n",
       "        [0.3775, 0.2901, 0.3323],\n",
       "        [0.3710, 0.2959, 0.3331],\n",
       "        [0.3681, 0.2986, 0.3333],\n",
       "        [0.3683, 0.2981, 0.3336],\n",
       "        [0.3764, 0.2902, 0.3335],\n",
       "        [0.3715, 0.2966, 0.3319],\n",
       "        [0.3701, 0.2971, 0.3327],\n",
       "        [0.3673, 0.3001, 0.3326],\n",
       "        [0.3720, 0.2951, 0.3329],\n",
       "        [0.3725, 0.2948, 0.3327],\n",
       "        [0.3718, 0.2954, 0.3328],\n",
       "        [0.3674, 0.2996, 0.3330],\n",
       "        [0.3733, 0.2940, 0.3326],\n",
       "        [0.3731, 0.2946, 0.3323],\n",
       "        [0.3714, 0.2958, 0.3328],\n",
       "        [0.3685, 0.2978, 0.3336],\n",
       "        [0.3701, 0.2970, 0.3329],\n",
       "        [0.3706, 0.2976, 0.3319],\n",
       "        [0.3677, 0.2997, 0.3326]], grad_fn=<DivBackward0>)"
      ]
     },
     "execution_count": 9,
     "metadata": {},
     "output_type": "execute_result"
    }
   ],
   "source": [
    "softmax_forward(X)"
   ]
  },
  {
   "cell_type": "code",
   "execution_count": 10,
   "id": "2a5f1278-2c31-424c-9cb6-7b106645bc5d",
   "metadata": {},
   "outputs": [],
   "source": [
    "def cross_entropy(y_hat, y):\n",
    "    return - torch.log(y_hat[range(len(y_hat)), y]).mean()"
   ]
  },
  {
   "cell_type": "code",
   "execution_count": 11,
   "id": "e7e360f6-a0be-407a-9e02-5d9973136fff",
   "metadata": {},
   "outputs": [
    {
     "data": {
      "text/plain": [
       "(tensor([0.1000, 0.5000]), tensor(1.4979))"
      ]
     },
     "execution_count": 11,
     "metadata": {},
     "output_type": "execute_result"
    }
   ],
   "source": [
    "y = torch.tensor([0, 2])\n",
    "y_hat = torch.tensor([[0.1, 0.3, 0.6], [0.3, 0.2, 0.5]])\n",
    "y_hat[[0, 1], y], cross_entropy(y_hat, y)"
   ]
  },
  {
   "cell_type": "code",
   "execution_count": 12,
   "id": "0b746e32-acc4-4e6e-8ce5-38ee73a2bb1e",
   "metadata": {},
   "outputs": [],
   "source": [
    "def sgd():\n",
    "    global W, b, lr, batch_size\n",
    "\n",
    "    with torch.no_grad():\n",
    "        # 更新参数时不更新梯度, 所以是no_grad\n",
    "        W -= lr * W.grad\n",
    "        b -= lr * b.grad\n",
    "        W.grad.zero_()\n",
    "        b.grad.zero_()"
   ]
  },
  {
   "cell_type": "code",
   "execution_count": 13,
   "id": "36782021-7e9b-4fb5-a630-fbae337aed08",
   "metadata": {},
   "outputs": [],
   "source": [
    "lr = 0.01"
   ]
  },
  {
   "cell_type": "code",
   "execution_count": 14,
   "id": "b5a641a7-5ece-4228-a3c7-de8a958e899d",
   "metadata": {},
   "outputs": [
    {
     "name": "stdout",
     "output_type": "stream",
     "text": [
      " epoch 99 loss = 0.43188348412513733"
     ]
    }
   ],
   "source": [
    "loss_history = []\n",
    "for epoch in range(100):\n",
    "    for X, y in data_iter:\n",
    "        y_hat = softmax_forward(X)\n",
    "        loss = cross_entropy(y_hat, y)\n",
    "        loss.backward()\n",
    "        sgd()\n",
    "        print(f\"\\r epoch {epoch} loss = {loss}\", end='')\n",
    "        loss_history.append(loss.detach().numpy())"
   ]
  },
  {
   "cell_type": "code",
   "execution_count": 26,
   "id": "92e1ca01-6714-49a6-9ebd-7e35dd20f2b3",
   "metadata": {},
   "outputs": [
    {
     "data": {
      "image/png": "[encoded data removed]",
      "text/plain": [
       "<Figure size 640x480 with 1 Axes>"
      ]
     },
     "metadata": {},
     "output_type": "display_data"
    }
   ],
   "source": [
    "plt.plot(np.arange(len(loss_history)), loss_history)\n",
    "plt.show()"
   ]
  },
  {
   "cell_type": "code",
   "execution_count": 35,
   "id": "a2e497db-ffb4-4062-a72c-484d375e2b24",
   "metadata": {},
   "outputs": [
    {
     "data": {
      "text/plain": [
       "tensor([[9.5828e-01, 4.1598e-02, 1.2196e-04],\n",
       "        [9.1682e-01, 8.2795e-02, 3.8941e-04],\n",
       "        [9.4435e-01, 5.5388e-02, 2.5723e-04],\n",
       "        [9.1191e-01, 8.7468e-02, 6.2454e-04],\n",
       "        [9.6321e-01, 3.6674e-02, 1.1428e-04],\n",
       "        [9.5934e-01, 4.0517e-02, 1.4034e-04],\n",
       "        [9.4789e-01, 5.1790e-02, 3.2262e-04],\n",
       "        [9.4325e-01, 5.6527e-02, 2.2275e-04],\n",
       "        [9.0015e-01, 9.9002e-02, 8.5291e-04],\n",
       "        [9.1727e-01, 8.2367e-02, 3.6340e-04],\n",
       "        [9.6383e-01, 3.6088e-02, 7.8481e-05],\n",
       "        [9.3199e-01, 6.7633e-02, 3.8068e-04],\n",
       "        [9.1849e-01, 8.1146e-02, 3.6767e-04],\n",
       "        [9.4656e-01, 5.3156e-02, 2.8028e-04],\n",
       "        [9.8611e-01, 1.3879e-02, 1.1126e-05],\n",
       "        [9.8587e-01, 1.4107e-02, 2.0831e-05],\n",
       "        [9.7896e-01, 2.0999e-02, 4.2470e-05],\n",
       "        [9.5692e-01, 4.2930e-02, 1.4600e-04],\n",
       "        [9.5632e-01, 4.3586e-02, 9.8079e-05],\n",
       "        [9.6636e-01, 3.3530e-02, 1.1224e-04],\n",
       "        [9.2529e-01, 7.4459e-02, 2.4628e-04],\n",
       "        [9.6015e-01, 3.9688e-02, 1.6202e-04],\n",
       "        [9.8014e-01, 1.9806e-02, 5.6187e-05],\n",
       "        [9.0364e-01, 9.5634e-02, 7.2413e-04],\n",
       "        [8.9155e-01, 1.0754e-01, 9.0620e-04],\n",
       "        [8.8808e-01, 1.1131e-01, 6.1309e-04],\n",
       "        [9.2912e-01, 7.0450e-02, 4.2727e-04],\n",
       "        [9.5147e-01, 4.8389e-02, 1.4525e-04],\n",
       "        [9.5272e-01, 4.7150e-02, 1.3007e-04],\n",
       "        [9.1061e-01, 8.8775e-02, 6.1722e-04],\n",
       "        [8.9938e-01, 9.9965e-02, 6.5394e-04],\n",
       "        [9.4210e-01, 5.7707e-02, 1.9623e-04],\n",
       "        [9.7942e-01, 2.0545e-02, 3.9362e-05],\n",
       "        [9.8485e-01, 1.5129e-02, 2.0034e-05],\n",
       "        [9.1468e-01, 8.4886e-02, 4.3440e-04],\n",
       "        [9.5416e-01, 4.5710e-02, 1.3300e-04],\n",
       "        [9.6607e-01, 3.3878e-02, 5.5690e-05],\n",
       "        [9.6399e-01, 3.5907e-02, 1.0779e-04],\n",
       "        [9.2496e-01, 7.4503e-02, 5.3365e-04],\n",
       "        [9.4386e-01, 5.5945e-02, 1.9729e-04],\n",
       "        [9.6300e-01, 3.6875e-02, 1.2250e-04],\n",
       "        [8.1633e-01, 1.8175e-01, 1.9191e-03],\n",
       "        [9.4250e-01, 5.7134e-02, 3.7022e-04],\n",
       "        [9.3388e-01, 6.5614e-02, 5.0922e-04],\n",
       "        [9.3364e-01, 6.5920e-02, 4.3835e-04],\n",
       "        [9.1329e-01, 8.6182e-02, 5.2537e-04],\n",
       "        [9.6163e-01, 3.8243e-02, 1.2626e-04],\n",
       "        [9.3400e-01, 6.5610e-02, 3.8950e-04],\n",
       "        [9.6344e-01, 3.6473e-02, 8.8630e-05],\n",
       "        [9.4471e-01, 5.5092e-02, 1.9952e-04],\n",
       "        [3.7198e-02, 7.9733e-01, 1.6547e-01],\n",
       "        [4.1835e-02, 7.0553e-01, 2.5264e-01],\n",
       "        [1.9749e-02, 7.1546e-01, 2.6479e-01],\n",
       "        [2.3036e-02, 6.1862e-01, 3.5835e-01],\n",
       "        [1.9414e-02, 6.7723e-01, 3.0336e-01],\n",
       "        [1.9081e-02, 5.7448e-01, 4.0644e-01],\n",
       "        [2.8699e-02, 6.1564e-01, 3.5566e-01],\n",
       "        [1.0272e-01, 7.0759e-01, 1.8969e-01],\n",
       "        [2.7053e-02, 7.5810e-01, 2.1484e-01],\n",
       "        [4.1815e-02, 5.7353e-01, 3.8465e-01],\n",
       "        [4.1061e-02, 6.9306e-01, 2.6588e-01],\n",
       "        [4.5862e-02, 6.5323e-01, 3.0091e-01],\n",
       "        [2.9862e-02, 7.9259e-01, 1.7755e-01],\n",
       "        [1.6395e-02, 5.9427e-01, 3.8933e-01],\n",
       "        [1.2439e-01, 7.1531e-01, 1.6030e-01],\n",
       "        [5.1315e-02, 7.8837e-01, 1.6032e-01],\n",
       "        [2.0402e-02, 4.9923e-01, 4.8036e-01],\n",
       "        [4.8249e-02, 7.6197e-01, 1.8978e-01],\n",
       "        [7.9940e-03, 5.7079e-01, 4.2122e-01],\n",
       "        [4.6268e-02, 7.3100e-01, 2.2274e-01],\n",
       "        [1.2293e-02, 4.0192e-01, 5.8579e-01],\n",
       "        [6.1676e-02, 7.6187e-01, 1.7646e-01],\n",
       "        [5.5514e-03, 5.0398e-01, 4.9046e-01],\n",
       "        [1.6627e-02, 6.5039e-01, 3.3298e-01],\n",
       "        [4.4827e-02, 7.7256e-01, 1.8261e-01],\n",
       "        [4.3135e-02, 7.7235e-01, 1.8452e-01],\n",
       "        [1.5767e-02, 7.2252e-01, 2.6171e-01],\n",
       "        [1.0482e-02, 5.6616e-01, 4.2336e-01],\n",
       "        [2.1975e-02, 5.9315e-01, 3.8487e-01],\n",
       "        [1.1721e-01, 7.8084e-01, 1.0195e-01],\n",
       "        [4.6711e-02, 7.2608e-01, 2.2721e-01],\n",
       "        [5.9911e-02, 7.6069e-01, 1.7939e-01],\n",
       "        [6.2114e-02, 7.4669e-01, 1.9120e-01],\n",
       "        [3.3972e-03, 3.4790e-01, 6.4870e-01],\n",
       "        [1.7836e-02, 4.4615e-01, 5.3602e-01],\n",
       "        [4.3980e-02, 6.0285e-01, 3.5317e-01],\n",
       "        [2.7239e-02, 7.1890e-01, 2.5386e-01],\n",
       "        [1.4454e-02, 6.9990e-01, 2.8564e-01],\n",
       "        [5.7162e-02, 6.6510e-01, 2.7774e-01],\n",
       "        [3.1444e-02, 6.3552e-01, 3.3303e-01],\n",
       "        [1.6953e-02, 5.6630e-01, 4.1675e-01],\n",
       "        [2.3807e-02, 6.3196e-01, 3.4423e-01],\n",
       "        [4.4504e-02, 7.3052e-01, 2.2498e-01],\n",
       "        [9.2298e-02, 7.2487e-01, 1.8283e-01],\n",
       "        [2.9559e-02, 6.2400e-01, 3.4644e-01],\n",
       "        [5.2489e-02, 6.9234e-01, 2.5518e-01],\n",
       "        [4.2058e-02, 6.6089e-01, 2.9705e-01],\n",
       "        [4.1986e-02, 7.3970e-01, 2.1831e-01],\n",
       "        [1.9194e-01, 6.9768e-01, 1.1038e-01],\n",
       "        [4.4233e-02, 6.7636e-01, 2.7940e-01],\n",
       "        [2.8139e-04, 7.3421e-02, 9.2630e-01],\n",
       "        [1.8641e-03, 2.1543e-01, 7.8271e-01],\n",
       "        [9.4284e-04, 2.5532e-01, 7.4374e-01],\n",
       "        [1.2841e-03, 2.3855e-01, 7.6017e-01],\n",
       "        [5.8665e-04, 1.4806e-01, 8.5135e-01],\n",
       "        [2.2544e-04, 1.8910e-01, 8.1067e-01],\n",
       "        [3.7553e-03, 2.1574e-01, 7.8051e-01],\n",
       "        [4.9708e-04, 2.7074e-01, 7.2877e-01],\n",
       "        [5.3168e-04, 2.3416e-01, 7.6531e-01],\n",
       "        [9.8099e-04, 1.7930e-01, 8.1972e-01],\n",
       "        [7.2847e-03, 3.9583e-01, 5.9689e-01],\n",
       "        [1.9100e-03, 2.8994e-01, 7.0815e-01],\n",
       "        [2.0812e-03, 2.9584e-01, 7.0208e-01],\n",
       "        [1.3284e-03, 1.7993e-01, 8.1874e-01],\n",
       "        [1.0237e-03, 1.2101e-01, 8.7797e-01],\n",
       "        [2.6390e-03, 2.2457e-01, 7.7279e-01],\n",
       "        [2.4010e-03, 3.1955e-01, 6.7805e-01],\n",
       "        [6.9550e-04, 2.2663e-01, 7.7268e-01],\n",
       "        [3.6824e-05, 9.5764e-02, 9.0420e-01],\n",
       "        [2.0895e-03, 3.5573e-01, 6.4218e-01],\n",
       "        [1.4367e-03, 2.2784e-01, 7.7073e-01],\n",
       "        [2.7385e-03, 2.0671e-01, 7.9055e-01],\n",
       "        [1.5269e-04, 1.9293e-01, 8.0692e-01],\n",
       "        [5.5542e-03, 4.1891e-01, 5.7553e-01],\n",
       "        [1.9017e-03, 2.5039e-01, 7.4770e-01],\n",
       "        [1.6913e-03, 3.6585e-01, 6.3246e-01],\n",
       "        [7.8045e-03, 4.3586e-01, 5.5634e-01],\n",
       "        [7.9591e-03, 4.0065e-01, 5.9139e-01],\n",
       "        [7.5258e-04, 1.7596e-01, 8.2329e-01],\n",
       "        [2.4944e-03, 4.7834e-01, 5.1917e-01],\n",
       "        [6.7339e-04, 3.0798e-01, 6.9135e-01],\n",
       "        [2.3588e-03, 4.2351e-01, 5.7413e-01],\n",
       "        [6.4349e-04, 1.5549e-01, 8.4387e-01],\n",
       "        [5.7040e-03, 4.7442e-01, 5.1988e-01],\n",
       "        [1.1022e-03, 2.8100e-01, 7.1789e-01],\n",
       "        [7.2364e-04, 2.7494e-01, 7.2434e-01],\n",
       "        [1.2752e-03, 1.4185e-01, 8.5687e-01],\n",
       "        [2.6247e-03, 3.0640e-01, 6.9098e-01],\n",
       "        [9.4416e-03, 4.0566e-01, 5.8489e-01],\n",
       "        [3.4992e-03, 3.6029e-01, 6.3621e-01],\n",
       "        [1.1134e-03, 1.8152e-01, 8.1737e-01],\n",
       "        [5.8086e-03, 3.8432e-01, 6.0987e-01],\n",
       "        [1.8641e-03, 2.1543e-01, 7.8271e-01],\n",
       "        [7.4685e-04, 1.6803e-01, 8.3122e-01],\n",
       "        [1.0383e-03, 1.5596e-01, 8.4300e-01],\n",
       "        [3.1903e-03, 2.9463e-01, 7.0218e-01],\n",
       "        [2.6959e-03, 3.3076e-01, 6.6654e-01],\n",
       "        [4.0063e-03, 3.4263e-01, 6.5336e-01],\n",
       "        [2.3618e-03, 1.8316e-01, 8.1448e-01],\n",
       "        [4.0425e-03, 2.9190e-01, 7.0406e-01]], grad_fn=<DivBackward0>)"
      ]
     },
     "execution_count": 35,
     "metadata": {},
     "output_type": "execute_result"
    }
   ],
   "source": [
    "Y_hat = softmax_forward(torch.tensor(iris.data, dtype=torch.float32))\n",
    "Y_hat"
   ]
  },
  {
   "cell_type": "markdown",
   "id": "a914692b-851b-4a29-8874-d9fa377791c0",
   "metadata": {},
   "source": [
    "> 1223"
   ]
  },
  {
   "cell_type": "code",
   "execution_count": 36,
   "id": "39134ac3-2818-48b4-979c-3f73a285f960",
   "metadata": {},
   "outputs": [
    {
     "data": {
      "text/plain": [
       "tensor([0, 0, 0, 0, 0, 0, 0, 0, 0, 0, 0, 0, 0, 0, 0, 0, 0, 0, 0, 0, 0, 0, 0, 0,\n",
       "        0, 0, 0, 0, 0, 0, 0, 0, 0, 0, 0, 0, 0, 0, 0, 0, 0, 0, 0, 0, 0, 0, 0, 0,\n",
       "        0, 0, 1, 1, 1, 1, 1, 1, 1, 1, 1, 1, 1, 1, 1, 1, 1, 1, 1, 1, 1, 1, 2, 1,\n",
       "        1, 1, 1, 1, 1, 1, 1, 1, 1, 1, 1, 2, 2, 1, 1, 1, 1, 1, 1, 1, 1, 1, 1, 1,\n",
       "        1, 1, 1, 1, 2, 2, 2, 2, 2, 2, 2, 2, 2, 2, 2, 2, 2, 2, 2, 2, 2, 2, 2, 2,\n",
       "        2, 2, 2, 2, 2, 2, 2, 2, 2, 2, 2, 2, 2, 2, 2, 2, 2, 2, 2, 2, 2, 2, 2, 2,\n",
       "        2, 2, 2, 2, 2, 2])"
      ]
     },
     "execution_count": 36,
     "metadata": {},
     "output_type": "execute_result"
    }
   ],
   "source": [
    "result = torch.argmax(Y_hat, 1)\n",
    "result"
   ]
  },
  {
   "cell_type": "code",
   "execution_count": 38,
   "id": "a5df2d55-710d-4db6-b673-407fa4a2faf3",
   "metadata": {},
   "outputs": [
    {
     "data": {
      "image/png": "[encoded data removed]",
      "text/plain": [
       "<Figure size 640x480 with 1 Axes>"
      ]
     },
     "metadata": {},
     "output_type": "display_data"
    }
   ],
   "source": [
    "colors = np.where(result == 0, 'r', 'g')\n",
    "colors = np.where(result == 1, 'g', colors)\n",
    "colors = np.where(result == 2, 'b', colors)\n",
    "data = np.array(iris.data)\n",
    "plt.scatter(data[:, 0], data[:, 1], color=colors)\n",
    "plt.show()"
   ]
  },
  {
   "cell_type": "code",
   "execution_count": 42,
   "id": "970ca110-fb77-4158-9905-a4c1cbec6c78",
   "metadata": {},
   "outputs": [
    {
     "data": {
      "text/plain": [
       "0.98"
      ]
     },
     "execution_count": 42,
     "metadata": {},
     "output_type": "execute_result"
    }
   ],
   "source": [
    "accuracy = np.sum(np.where(result.numpy() == iris.target, 1, 0)) / 150\n",
    "accuracy"
   ]
  },
  {
   "cell_type": "code",
   "execution_count": null,
   "id": "9f1e778e-1f51-4f77-960c-99f3b55df48b",
   "metadata": {},
   "outputs": [],
   "source": []
  }
 ],
 "metadata": {
  "kernelspec": {
   "display_name": "Python 3 (ipykernel)",
   "language": "python",
   "name": "python3"
  },
  "language_info": {
   "codemirror_mode": {
    "name": "ipython",
    "version": 3
   },
   "file_extension": ".py",
   "mimetype": "text/x-python",
   "name": "python",
   "nbconvert_exporter": "python",
   "pygments_lexer": "ipython3",
   "version": "3.9.7"
  }
 },
 "nbformat": 4,
 "nbformat_minor": 5
}
