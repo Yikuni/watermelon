{
 "cells": [
  {
   "cell_type": "code",
   "execution_count": 1,
   "id": "96445757-a50a-4c74-9012-9b50f2ec5421",
   "metadata": {},
   "outputs": [],
   "source": [
    "import torch\n",
    "from matplotlib import pyplot as plt\n",
    "from sklearn.datasets import load_iris\n",
    "import numpy as np\n",
    "from torchvision import transforms\n",
    "from torchvision.datasets import FashionMNIST\n",
    "%matplotlib inline"
   ]
  },
  {
   "cell_type": "code",
   "execution_count": 2,
   "id": "1c40071a-bad1-479c-8ddf-6e3c593554bf",
   "metadata": {},
   "outputs": [],
   "source": [
    "import os\n",
    "os.environ['http.proxy'] = 'http://yikuni.com:13128'\n",
    "os.environ['https.proxy'] = 'http://yikuni.com:13128'"
   ]
  },
  {
   "cell_type": "code",
   "execution_count": 3,
   "id": "77e1df00-ce82-4f5b-8297-8fef42d71f10",
   "metadata": {},
   "outputs": [
    {
     "name": "stdout",
     "output_type": "stream",
     "text": [
      "Downloading http://fashion-mnist.s3-website.eu-central-1.amazonaws.com/train-images-idx3-ubyte.gz\n",
      "Using downloaded and verified file: ./data\\FashionMNIST\\raw\\train-images-idx3-ubyte.gz\n",
      "Extracting ./data\\FashionMNIST\\raw\\train-images-idx3-ubyte.gz to ./data\\FashionMNIST\\raw\n",
      "\n",
      "Downloading http://fashion-mnist.s3-website.eu-central-1.amazonaws.com/train-labels-idx1-ubyte.gz\n",
      "Using downloaded and verified file: ./data\\FashionMNIST\\raw\\train-labels-idx1-ubyte.gz\n",
      "Extracting ./data\\FashionMNIST\\raw\\train-labels-idx1-ubyte.gz to ./data\\FashionMNIST\\raw\n",
      "\n",
      "Downloading http://fashion-mnist.s3-website.eu-central-1.amazonaws.com/t10k-images-idx3-ubyte.gz\n",
      "Using downloaded and verified file: ./data\\FashionMNIST\\raw\\t10k-images-idx3-ubyte.gz\n",
      "Extracting ./data\\FashionMNIST\\raw\\t10k-images-idx3-ubyte.gz to ./data\\FashionMNIST\\raw\n",
      "\n",
      "Downloading http://fashion-mnist.s3-website.eu-central-1.amazonaws.com/t10k-labels-idx1-ubyte.gz\n",
      "Downloading http://fashion-mnist.s3-website.eu-central-1.amazonaws.com/t10k-labels-idx1-ubyte.gz to ./data\\FashionMNIST\\raw\\t10k-labels-idx1-ubyte.gz\n"
     ]
    },
    {
     "name": "stderr",
     "output_type": "stream",
     "text": [
      "100%|████████████████████████████████████████████████████████████████████████████████████████████████████████████████████████████████████████████████████████████████████████████████████████████████████████████████████████████████████████| 5148/5148 [00:00<?, ?it/s]"
     ]
    },
    {
     "name": "stdout",
     "output_type": "stream",
     "text": [
      "Extracting ./data\\FashionMNIST\\raw\\t10k-labels-idx1-ubyte.gz to ./data\\FashionMNIST\\raw\n",
      "\n"
     ]
    },
    {
     "name": "stderr",
     "output_type": "stream",
     "text": [
      "\n"
     ]
    }
   ],
   "source": [
    "trans = transforms.ToTensor()\n",
    "mnist_train = FashionMNIST(\n",
    "    root=\"./data\",\n",
    "    train=True,\n",
    "    transform=trans,\n",
    "    download=True\n",
    ")\n",
    "mnist_test = FashionMNIST(\n",
    "    root=\"./data\",\n",
    "    train=False,\n",
    "    transform=trans,\n",
    "    download=True\n",
    ")"
   ]
  },
  {
   "cell_type": "code",
   "execution_count": 5,
   "id": "800c0e00-d5df-42b3-b742-439e19edd125",
   "metadata": {},
   "outputs": [
    {
     "data": {
      "text/plain": [
       "(60000, 10000)"
      ]
     },
     "execution_count": 5,
     "metadata": {},
     "output_type": "execute_result"
    }
   ],
   "source": [
    "len(mnist_train), len(mnist_test)"
   ]
  },
  {
   "cell_type": "code",
   "execution_count": 8,
   "id": "02431b4c-28ca-49a6-ab67-5c55dc3966a2",
   "metadata": {},
   "outputs": [],
   "source": [
    "train_dataloader = torch.utils.data.DataLoader(mnist_train, batch_size=64, shuffle=True, num_workers=4)\n",
    "test_dataloader = torch.utils.data.DataLoader(mnist_test, batch_size=64, shuffle=True, num_workers=4)"
   ]
  },
  {
   "cell_type": "code",
   "execution_count": 13,
   "id": "aa442923-5deb-40ed-8fa3-a6fab122ea84",
   "metadata": {},
   "outputs": [],
   "source": [
    "def softmax(X):\n",
    "    X_exp = torch.exp(X)\n",
    "    return X_exp / X_exp.sum(1, keepdim=True) "
   ]
  },
  {
   "cell_type": "code",
   "execution_count": 21,
   "id": "d318a70c-07d0-4a72-a0a8-2fcda4794d36",
   "metadata": {},
   "outputs": [
    {
     "data": {
      "text/plain": [
       "(tensor([[0.3584, 0.4386, 0.0239, 0.1791],\n",
       "         [0.2746, 0.2152, 0.1982, 0.3119],\n",
       "         [0.0268, 0.1300, 0.8130, 0.0301]]),\n",
       " tensor([1., 1., 1.]))"
      ]
     },
     "execution_count": 21,
     "metadata": {},
     "output_type": "execute_result"
    }
   ],
   "source": [
    "X = torch.normal(0, 1, (3, 4))\n",
    "X_prob = softmax(X)\n",
    "X_prob, X_prob.sum(1)"
   ]
  },
  {
   "cell_type": "code",
   "execution_count": 17,
   "id": "87e2360d-fc1e-4cb3-a3ef-3e04910196c8",
   "metadata": {},
   "outputs": [],
   "source": [
    "num_inputs = 4\n",
    "num_outputs = 3\n",
    "W = torch.normal(0, 0.01, size=(num_inputs, num_outputs), requires_grad=True)\n",
    "b = torch.zeros(num_outputs, requires_grad=True)"
   ]
  },
  {
   "cell_type": "code",
   "execution_count": 20,
   "id": "30297d96-70d8-4024-ad71-58755aa1df3a",
   "metadata": {},
   "outputs": [],
   "source": [
    "def softmax_forward(X):\n",
    "    global W, b\n",
    "    return softmax(torch.matmul(X, W) + b)"
   ]
  },
  {
   "cell_type": "code",
   "execution_count": 22,
   "id": "458cd6fb-2c0b-4246-9f07-24b12f9e2d31",
   "metadata": {},
   "outputs": [
    {
     "data": {
      "text/plain": [
       "tensor([[0.3279, 0.3414, 0.3307],\n",
       "        [0.3321, 0.3357, 0.3322],\n",
       "        [0.3411, 0.3249, 0.3340]], grad_fn=<DivBackward0>)"
      ]
     },
     "execution_count": 22,
     "metadata": {},
     "output_type": "execute_result"
    }
   ],
   "source": [
    "softmax_forward(X)"
   ]
  },
  {
   "cell_type": "code",
   "execution_count": 23,
   "id": "2a5f1278-2c31-424c-9cb6-7b106645bc5d",
   "metadata": {},
   "outputs": [],
   "source": [
    "def cross_entropy(y_hat, y):\n",
    "    return - torch.log(y_hat[range(len(y_hat)), y])"
   ]
  },
  {
   "cell_type": "code",
   "execution_count": null,
   "id": "b5a641a7-5ece-4228-a3c7-de8a958e899d",
   "metadata": {},
   "outputs": [],
   "source": [
    "loss_history = []\n",
    "for epoch in range(100):\n",
    "    for X, y in train_dataloader:\n",
    "        y_hat = softmax_forward(X)\n",
    "        loss = cross_entropy(y_hat, y)\n",
    "        x"
   ]
  }
 ],
 "metadata": {
  "kernelspec": {
   "display_name": "Python 3 (ipykernel)",
   "language": "python",
   "name": "python3"
  },
  "language_info": {
   "codemirror_mode": {
    "name": "ipython",
    "version": 3
   },
   "file_extension": ".py",
   "mimetype": "text/x-python",
   "name": "python",
   "nbconvert_exporter": "python",
   "pygments_lexer": "ipython3",
   "version": "3.9.7"
  }
 },
 "nbformat": 4,
 "nbformat_minor": 5
}
