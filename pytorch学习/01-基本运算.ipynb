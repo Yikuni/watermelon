{
 "cells": [
  {
   "cell_type": "code",
   "execution_count": 1,
   "id": "92201e1c-40ab-4f64-85e3-87b4c661d00b",
   "metadata": {},
   "outputs": [],
   "source": [
    "import torch"
   ]
  },
  {
   "cell_type": "markdown",
   "id": "fd19a3a0-45e3-41c9-8638-76b9c939c368",
   "metadata": {},
   "source": [
    "## 创建张量"
   ]
  },
  {
   "cell_type": "code",
   "execution_count": 5,
   "id": "7f484322-ed1a-4681-a205-47ed36aa992c",
   "metadata": {},
   "outputs": [
    {
     "data": {
      "text/plain": [
       "tensor([ 1,  3,  5,  7,  9, 11])"
      ]
     },
     "execution_count": 5,
     "metadata": {},
     "output_type": "execute_result"
    }
   ],
   "source": [
    "x = torch.arange(1, 12, 2)\n",
    "x"
   ]
  },
  {
   "cell_type": "markdown",
   "id": "4593aae5-96a2-4f7e-ae8f-529db4972e60",
   "metadata": {},
   "source": [
    "> torch.arange(起始点, 结束点, 步长)"
   ]
  },
  {
   "cell_type": "code",
   "execution_count": 7,
   "id": "bd693231-6d5a-406d-ae22-5f5d4bad4ad2",
   "metadata": {},
   "outputs": [
    {
     "data": {
      "text/plain": [
       "tensor([[0., 0., 0., 0.],\n",
       "        [0., 0., 0., 0.],\n",
       "        [0., 0., 0., 0.]])"
      ]
     },
     "execution_count": 7,
     "metadata": {},
     "output_type": "execute_result"
    }
   ],
   "source": [
    "x = torch.zeros((3, 4))\n",
    "x"
   ]
  },
  {
   "cell_type": "code",
   "execution_count": 8,
   "id": "5c980105-7e6e-493a-a3b8-73c4054e67df",
   "metadata": {},
   "outputs": [
    {
     "data": {
      "text/plain": [
       "tensor([[1., 1., 1., 1.],\n",
       "        [1., 1., 1., 1.],\n",
       "        [1., 1., 1., 1.]])"
      ]
     },
     "execution_count": 8,
     "metadata": {},
     "output_type": "execute_result"
    }
   ],
   "source": [
    "x = torch.ones((3, 4))\n",
    "x"
   ]
  },
  {
   "cell_type": "code",
   "execution_count": 18,
   "id": "8f1ebdb9-4eef-4b9c-bd8a-07f8035fddc7",
   "metadata": {},
   "outputs": [
    {
     "data": {
      "text/plain": [
       "tensor([[1, 2, 3],\n",
       "        [2, 3, 4]])"
      ]
     },
     "execution_count": 18,
     "metadata": {},
     "output_type": "execute_result"
    }
   ],
   "source": [
    "x = torch.tensor([[1, 2, 3], [2, 3, 4]])\n",
    "x"
   ]
  },
  {
   "cell_type": "markdown",
   "id": "1d9ec404-8a9a-4d14-a99e-b4c2bfabb3cb",
   "metadata": {},
   "source": [
    "## 张量运算"
   ]
  },
  {
   "cell_type": "code",
   "execution_count": 22,
   "id": "1d63bc0e-9853-4f5b-874c-951dd40153cd",
   "metadata": {},
   "outputs": [
    {
     "data": {
      "text/plain": [
       "tensor([[ 1,  4,  9],\n",
       "        [ 2,  6, 12]])"
      ]
     },
     "execution_count": 22,
     "metadata": {},
     "output_type": "execute_result"
    }
   ],
   "source": [
    "y = torch.tensor([[1, 2, 3]])\n",
    "x * y"
   ]
  },
  {
   "cell_type": "code",
   "execution_count": 24,
   "id": "f15ac30f-c2ba-4310-9c83-67b5ec1a41d9",
   "metadata": {},
   "outputs": [
    {
     "data": {
      "text/plain": [
       "tensor([[1, 2, 3],\n",
       "        [2, 3, 4],\n",
       "        [1, 2, 3]])"
      ]
     },
     "execution_count": 24,
     "metadata": {},
     "output_type": "execute_result"
    }
   ],
   "source": [
    "torch.cat((x, y), dim=0)"
   ]
  },
  {
   "cell_type": "markdown",
   "id": "8681eaf9-21c1-478a-9a59-3573a40926d0",
   "metadata": {},
   "source": [
    "### 广播机制"
   ]
  },
  {
   "cell_type": "code",
   "execution_count": 26,
   "id": "e48a7b04-7c44-47fd-b08f-1ad15f01723e",
   "metadata": {},
   "outputs": [
    {
     "data": {
      "text/plain": [
       "(tensor([[0],\n",
       "         [1],\n",
       "         [2]]),\n",
       " tensor([[0, 1]]),\n",
       " tensor([[0, 1],\n",
       "         [1, 2],\n",
       "         [2, 3]]))"
      ]
     },
     "execution_count": 26,
     "metadata": {},
     "output_type": "execute_result"
    }
   ],
   "source": [
    "a = torch.arange(3).reshape((3, 1))\n",
    "b = torch.arange(2).reshape((1, 2))\n",
    "a, b, a+b"
   ]
  },
  {
   "cell_type": "code",
   "execution_count": 41,
   "id": "add648bd-69de-4ac6-8e3c-68fdfd32f2a2",
   "metadata": {},
   "outputs": [
    {
     "data": {
      "text/plain": [
       "(tensor([[0, 1, 2, 3, 4],\n",
       "         [5, 6, 7, 8, 9]]),\n",
       " tensor([[10],\n",
       "         [35]]),\n",
       " tensor([[0.0000, 0.1000, 0.2000, 0.3000, 0.4000],\n",
       "         [0.1429, 0.1714, 0.2000, 0.2286, 0.2571]]))"
      ]
     },
     "execution_count": 41,
     "metadata": {},
     "output_type": "execute_result"
    }
   ],
   "source": [
    "a = torch.arange(10).reshape((2, 5))\n",
    "b = a.sum(axis=1, keepdims=True)\n",
    "a, b, a / b"
   ]
  },
  {
   "cell_type": "markdown",
   "id": "092fefe4-eed0-4332-b559-86646ae32284",
   "metadata": {},
   "source": [
    "### 避免复制浪费算力"
   ]
  },
  {
   "cell_type": "code",
   "execution_count": 33,
   "id": "ac2e6514-75b9-4c76-a4c2-a60ca88714fc",
   "metadata": {},
   "outputs": [
    {
     "data": {
      "text/plain": [
       "False"
      ]
     },
     "execution_count": 33,
     "metadata": {},
     "output_type": "execute_result"
    }
   ],
   "source": [
    "a = torch.arange(3).reshape((1, 3))\n",
    "b = torch.arange(3).reshape((1, 3))\n",
    "before = id(a)\n",
    "a = a + b\n",
    "before == id(a)"
   ]
  },
  {
   "cell_type": "code",
   "execution_count": 31,
   "id": "16272765-bee2-4f37-85b0-7622de850219",
   "metadata": {},
   "outputs": [
    {
     "data": {
      "text/plain": [
       "True"
      ]
     },
     "execution_count": 31,
     "metadata": {},
     "output_type": "execute_result"
    }
   ],
   "source": [
    "a = torch.arange(3).reshape((1, 3))\n",
    "b = torch.arange(3).reshape((1, 3))\n",
    "before = id(a)\n",
    "a += b\n",
    "before == id(a)"
   ]
  },
  {
   "cell_type": "code",
   "execution_count": 32,
   "id": "2769c6d9-a943-4a6d-a3cc-8c0dd228d616",
   "metadata": {},
   "outputs": [
    {
     "data": {
      "text/plain": [
       "True"
      ]
     },
     "execution_count": 32,
     "metadata": {},
     "output_type": "execute_result"
    }
   ],
   "source": [
    "a = torch.arange(3).reshape((1, 3))\n",
    "b = torch.arange(3).reshape((1, 3))\n",
    "before = id(a)\n",
    "a[:] = a + b\n",
    "before == id(a)"
   ]
  },
  {
   "cell_type": "markdown",
   "id": "54a6a386-eec8-4269-a1c9-ed364ab65887",
   "metadata": {},
   "source": [
    "### 矩阵乘法"
   ]
  },
  {
   "cell_type": "code",
   "execution_count": 54,
   "id": "ad2e2523-853d-48b2-b492-c7a179259af1",
   "metadata": {},
   "outputs": [
    {
     "data": {
      "text/plain": [
       "(tensor([[ 0,  1,  2,  3,  4],\n",
       "         [ 5,  6,  7,  8,  9],\n",
       "         [10, 11, 12, 13, 14],\n",
       "         [15, 16, 17, 18, 19]]),\n",
       " tensor([[ 0,  1,  2,  3],\n",
       "         [ 4,  5,  6,  7],\n",
       "         [ 8,  9, 10, 11],\n",
       "         [12, 13, 14, 15],\n",
       "         [16, 17, 18, 19]]))"
      ]
     },
     "execution_count": 54,
     "metadata": {},
     "output_type": "execute_result"
    }
   ],
   "source": [
    "a = torch.arange(20).reshape((4, 5))\n",
    "b = torch.arange(20).reshape((5, 4))\n",
    "a, b"
   ]
  },
  {
   "cell_type": "code",
   "execution_count": 47,
   "id": "0277ea2d-0a46-4d0f-b470-2b3dc0008ec8",
   "metadata": {},
   "outputs": [
    {
     "data": {
      "text/plain": [
       "tensor([[120, 130, 140, 150],\n",
       "        [320, 355, 390, 425],\n",
       "        [520, 580, 640, 700],\n",
       "        [720, 805, 890, 975]])"
      ]
     },
     "execution_count": 47,
     "metadata": {},
     "output_type": "execute_result"
    }
   ],
   "source": [
    "torch.matmul(a, b)"
   ]
  },
  {
   "cell_type": "code",
   "execution_count": 60,
   "id": "1ea2a1ae-709d-42d1-8f38-83d1aa3d9f57",
   "metadata": {},
   "outputs": [
    {
     "data": {
      "text/plain": [
       "tensor(13.0384)"
      ]
     },
     "execution_count": 60,
     "metadata": {},
     "output_type": "execute_result"
    }
   ],
   "source": [
    "x = torch.tensor([[1., 2, 3], [2, 3, 4], [3, 4, 5], [4, 5, 6]])\n",
    "x.norm()"
   ]
  },
  {
   "cell_type": "code",
   "execution_count": null,
   "id": "9b2a69e6-0615-450c-b8b1-41d715cabd44",
   "metadata": {},
   "outputs": [],
   "source": []
  },
  {
   "cell_type": "code",
   "execution_count": null,
   "id": "15458911-5796-4af0-8284-5c98527609db",
   "metadata": {},
   "outputs": [],
   "source": []
  }
 ],
 "metadata": {
  "kernelspec": {
   "display_name": "Python 3 (ipykernel)",
   "language": "python",
   "name": "python3"
  },
  "language_info": {
   "codemirror_mode": {
    "name": "ipython",
    "version": 3
   },
   "file_extension": ".py",
   "mimetype": "text/x-python",
   "name": "python",
   "nbconvert_exporter": "python",
   "pygments_lexer": "ipython3",
   "version": "3.9.7"
  }
 },
 "nbformat": 4,
 "nbformat_minor": 5
}
