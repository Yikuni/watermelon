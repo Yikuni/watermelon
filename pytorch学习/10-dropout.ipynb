{
 "cells": [
  {
   "cell_type": "code",
   "execution_count": 1,
   "id": "716f3451-d704-4726-bb77-205d504d248d",
   "metadata": {},
   "outputs": [],
   "source": [
    "import torch\n",
    "from torch import nn\n",
    "import numpy as np\n",
    "import matplotlib.pyplot as plt\n",
    "from torch.utils.data import Dataset\n",
    "from torchvision import datasets\n",
    "from torchvision.transforms import ToTensor"
   ]
  },
  {
   "cell_type": "code",
   "execution_count": 2,
   "id": "f994358a-1a99-46e6-baa1-8341b29c6df0",
   "metadata": {},
   "outputs": [
    {
     "name": "stdout",
     "output_type": "stream",
     "text": [
      "Running on the GPU\n"
     ]
    }
   ],
   "source": [
    "# torch.set_default_dtype(torch.float32)\n",
    "if torch.cuda.is_available():\n",
    "    device = torch.device(\"cuda:0\")  # you can continue going on here, like cuda:1 cuda:2....etc. \n",
    "    print(\"Running on the GPU\")\n",
    "    torch.set_default_device(device)"
   ]
  },
  {
   "cell_type": "code",
   "execution_count": 3,
   "id": "2b7b80ac-593b-4b06-93d0-7d45c99e1946",
   "metadata": {},
   "outputs": [],
   "source": [
    "training_data = datasets.FashionMNIST(\n",
    "    root=\"data\",\n",
    "    train=True,\n",
    "    download=True,\n",
    "    transform=ToTensor()\n",
    ")\n",
    "\n",
    "test_data = datasets.FashionMNIST(\n",
    "    root=\"data\",\n",
    "    train=False,\n",
    "    download=True,\n",
    "    transform=ToTensor()\n",
    ")"
   ]
  },
  {
   "cell_type": "markdown",
   "id": "1a7238aa-e87d-449c-ab3d-089f44a4b039",
   "metadata": {},
   "source": [
    "> 这是自定义的数据集"
   ]
  },
  {
   "cell_type": "code",
   "execution_count": 4,
   "id": "e022c989-faf5-4fc4-9142-eebdad4d6e86",
   "metadata": {},
   "outputs": [],
   "source": [
    "train_dataloader = torch.utils.data.DataLoader(training_data, batch_size=128, shuffle=True, generator=torch.Generator(device), num_workers=8)\n",
    "test_dataloader = torch.utils.data.DataLoader(test_data, batch_size=128, shuffle=True, generator=torch.Generator(device), num_workers=8)"
   ]
  },
  {
   "cell_type": "code",
   "execution_count": 5,
   "id": "cbe35e2c-4869-4ecc-afbe-9160d37666e6",
   "metadata": {},
   "outputs": [
    {
     "name": "stdout",
     "output_type": "stream",
     "text": [
      "tensor([[[[0.0000, 0.0000, 0.0000,  ..., 0.0000, 0.0000, 0.0000],\n",
      "          [0.0000, 0.0000, 0.0000,  ..., 0.0000, 0.0000, 0.0000],\n",
      "          [0.0000, 0.0000, 0.0000,  ..., 0.0000, 0.0000, 0.0000],\n",
      "          ...,\n",
      "          [0.0000, 0.0000, 0.0000,  ..., 0.0000, 0.0000, 0.0000],\n",
      "          [0.0000, 0.0000, 0.0000,  ..., 0.0000, 0.0000, 0.0000],\n",
      "          [0.0000, 0.0000, 0.0000,  ..., 0.0000, 0.0000, 0.0000]]],\n",
      "\n",
      "\n",
      "        [[[0.0000, 0.0000, 0.0000,  ..., 0.0000, 0.0000, 0.0000],\n",
      "          [0.0000, 0.0000, 0.0000,  ..., 0.0000, 0.0000, 0.0000],\n",
      "          [0.0000, 0.0000, 0.0000,  ..., 0.0000, 0.0000, 0.0000],\n",
      "          ...,\n",
      "          [0.0000, 0.0000, 0.0000,  ..., 0.0000, 0.0000, 0.0000],\n",
      "          [0.0000, 0.0000, 0.0000,  ..., 0.0000, 0.0000, 0.0000],\n",
      "          [0.0000, 0.0000, 0.0000,  ..., 0.0000, 0.0000, 0.0000]]],\n",
      "\n",
      "\n",
      "        [[[0.0000, 0.0000, 0.0000,  ..., 0.0000, 0.0000, 0.0000],\n",
      "          [0.0000, 0.0000, 0.0000,  ..., 0.0000, 0.0000, 0.0000],\n",
      "          [0.0000, 0.0000, 0.0000,  ..., 0.0000, 0.0000, 0.0000],\n",
      "          ...,\n",
      "          [0.0000, 0.0000, 0.0000,  ..., 0.1608, 0.1255, 0.0078],\n",
      "          [0.0000, 0.0000, 0.0000,  ..., 0.0000, 0.0000, 0.0000],\n",
      "          [0.0000, 0.0000, 0.0000,  ..., 0.0000, 0.0000, 0.0000]]],\n",
      "\n",
      "\n",
      "        ...,\n",
      "\n",
      "\n",
      "        [[[0.0000, 0.0000, 0.0000,  ..., 0.0000, 0.0000, 0.0000],\n",
      "          [0.0000, 0.0000, 0.0000,  ..., 0.0000, 0.0000, 0.0000],\n",
      "          [0.0000, 0.0000, 0.0000,  ..., 0.0000, 0.0000, 0.0000],\n",
      "          ...,\n",
      "          [0.0000, 0.0000, 0.0000,  ..., 0.0000, 0.0000, 0.0000],\n",
      "          [0.0000, 0.0000, 0.0000,  ..., 0.0000, 0.0000, 0.0000],\n",
      "          [0.0000, 0.0000, 0.0000,  ..., 0.0000, 0.0000, 0.0000]]],\n",
      "\n",
      "\n",
      "        [[[0.0000, 0.0000, 0.0000,  ..., 0.0000, 0.0000, 0.0000],\n",
      "          [0.0000, 0.0000, 0.0000,  ..., 0.0000, 0.0000, 0.0000],\n",
      "          [0.0000, 0.0000, 0.0000,  ..., 0.0000, 0.0000, 0.0000],\n",
      "          ...,\n",
      "          [0.0000, 0.0000, 0.0000,  ..., 0.0000, 0.0000, 0.0000],\n",
      "          [0.0000, 0.0000, 0.0000,  ..., 0.0000, 0.0000, 0.0000],\n",
      "          [0.0000, 0.0000, 0.0000,  ..., 0.0000, 0.0000, 0.0000]]],\n",
      "\n",
      "\n",
      "        [[[0.0000, 0.0000, 0.0000,  ..., 0.0000, 0.0000, 0.0000],\n",
      "          [0.0000, 0.0000, 0.0000,  ..., 0.0000, 0.0000, 0.0000],\n",
      "          [0.0000, 0.0000, 0.0000,  ..., 0.0000, 0.0000, 0.0000],\n",
      "          ...,\n",
      "          [0.0000, 0.0000, 0.0000,  ..., 0.0000, 0.0000, 0.0000],\n",
      "          [0.0000, 0.0000, 0.0000,  ..., 0.0000, 0.0000, 0.0000],\n",
      "          [0.0000, 0.0000, 0.0000,  ..., 0.0000, 0.0000, 0.0000]]]]) tensor([2, 1, 9, 2, 6, 9, 1, 1, 3, 0, 9, 9, 6, 0, 6, 3, 6, 8, 1, 9, 2, 5, 2, 3,\n",
      "        2, 1, 8, 8, 2, 9, 3, 0, 3, 5, 2, 6, 7, 6, 4, 6, 5, 9, 9, 7, 4, 9, 5, 0,\n",
      "        8, 3, 6, 9, 1, 7, 1, 5, 5, 1, 5, 1, 6, 3, 7, 8, 1, 0, 8, 3, 0, 6, 0, 1,\n",
      "        4, 9, 0, 3, 0, 8, 3, 4, 9, 2, 0, 4, 3, 3, 0, 0, 6, 3, 1, 8, 4, 0, 0, 9,\n",
      "        2, 7, 3, 4, 9, 3, 6, 9, 8, 8, 0, 6, 3, 2, 4, 3, 9, 8, 1, 3, 0, 8, 9, 4,\n",
      "        3, 6, 8, 3, 1, 5, 9, 7])\n",
      "torch.float32\n"
     ]
    }
   ],
   "source": [
    "for x, y in train_dataloader:\n",
    "    print(x, y)\n",
    "    print(x.dtype)\n",
    "    break;"
   ]
  },
  {
   "cell_type": "markdown",
   "id": "79d0a46f-6a8d-40e0-a0f2-9aa9ed8f0bbf",
   "metadata": {},
   "source": [
    "> Q: 如何以float32形式读取数据?\n",
    "> A: 自定义数据集getItem函数返回np.array dtype=np.float32"
   ]
  },
  {
   "cell_type": "code",
   "execution_count": 12,
   "id": "5ba8909b-b61a-4629-bf87-d9e31d7b2379",
   "metadata": {},
   "outputs": [],
   "source": [
    "\n",
    "model = nn.Sequential(\n",
    "    nn.Flatten(),\n",
    "    nn.Linear(784, 256),\n",
    "    nn.ReLU(),\n",
    "    nn.Dropout(0.2),\n",
    "    nn.Linear(256, 128),\n",
    "    nn.ReLU(),\n",
    "    nn.Dropout(0.2),\n",
    "    nn.Linear(128, 10)\n",
    ").cuda()\n",
    "# def init_weights 这里省略, 因为默认会init的"
   ]
  },
  {
   "cell_type": "code",
   "execution_count": 13,
   "id": "b533cc1e-c381-406f-867b-80d46f7cf4e8",
   "metadata": {},
   "outputs": [],
   "source": [
    "lr = 0.001\n",
    "max_epochs = 20\n",
    "lambd = 0.01"
   ]
  },
  {
   "cell_type": "code",
   "execution_count": 14,
   "id": "00d530af-bc3e-4fc7-902b-cf286725e548",
   "metadata": {},
   "outputs": [],
   "source": [
    "loss = nn.CrossEntropyLoss().cuda()\n",
    "optimizer = torch.optim.Adam(params=model.parameters(), lr=lr, weight_decay=0.02, betas=(0.9, 0.99))"
   ]
  },
  {
   "cell_type": "code",
   "execution_count": 15,
   "id": "09f06332-f59d-41b8-998b-f3911959d765",
   "metadata": {},
   "outputs": [
    {
     "name": "stdout",
     "output_type": "stream",
     "text": [
      " epoch 0 loss = 0.66034901142120367\n",
      " epoch 1 loss = 0.70630949735641483\n",
      " epoch 2 loss = 0.54352074861526493\n",
      " epoch 3 loss = 0.78621166944503785\n",
      " epoch 4 loss = 0.54051274061203187\n",
      " epoch 5 loss = 0.52439886331558237\n",
      " epoch 6 loss = 0.65418583154678344\n",
      " epoch 7 loss = 0.63215011358261115\n",
      " epoch 8 loss = 0.59643036127090456\n",
      " epoch 9 loss = 0.71630209684371954\n",
      " epoch 10 loss = 0.71540600061416634\n",
      " epoch 11 loss = 0.64970773458480834\n",
      " epoch 12 loss = 0.75852149724960333\n",
      " epoch 13 loss = 0.63635736703872684\n",
      " epoch 14 loss = 0.48871478438377385\n",
      " epoch 15 loss = 0.55355161428451547\n",
      " epoch 16 loss = 0.50898075103759776\n",
      " epoch 17 loss = 0.52587383985519416\n",
      " epoch 18 loss = 0.54543846845626834\n",
      " epoch 19 loss = 0.51790100336074837\n"
     ]
    }
   ],
   "source": [
    "history = []\n",
    "for epoch in range(max_epochs):\n",
    "    l = None\n",
    "    for x, y in train_dataloader:\n",
    "        l = loss(model(x.to(device)), y.to(device))\n",
    "        optimizer.zero_grad()\n",
    "        l.backward()\n",
    "        optimizer.step()\n",
    "        print(f\"\\r epoch {epoch} loss = {l}\", end='')\n",
    "    history.append(l.cpu().detach().numpy())\n",
    "    print(\"\")"
   ]
  },
  {
   "cell_type": "code",
   "execution_count": null,
   "id": "a4d3c6bd-64d1-4d65-a53b-1a7b93506b89",
   "metadata": {},
   "outputs": [],
   "source": [
    "len(test_data)"
   ]
  },
  {
   "cell_type": "code",
   "execution_count": 17,
   "id": "ad6133a4-1593-429c-86a1-c37b0865a540",
   "metadata": {},
   "outputs": [
    {
     "data": {
      "text/plain": [
       "tensor(7950)"
      ]
     },
     "execution_count": 17,
     "metadata": {},
     "output_type": "execute_result"
    }
   ],
   "source": [
    "true_flag = 0\n",
    "with torch.no_grad():\n",
    "    for x, y in test_dataloader:\n",
    "        result = torch.argmax(model(x.to(device)), 1).cpu()\n",
    "        true_flag += torch.where(result == y, 1, 0).sum()\n",
    "true_flag"
   ]
  },
  {
   "cell_type": "code",
   "execution_count": 18,
   "id": "ac079171-136c-4225-b178-cb5bfeb191db",
   "metadata": {},
   "outputs": [
    {
     "data": {
      "text/plain": [
       "tensor(0.7950)"
      ]
     },
     "execution_count": 18,
     "metadata": {},
     "output_type": "execute_result"
    }
   ],
   "source": [
    "acc = true_flag / len(test_data)\n",
    "acc"
   ]
  },
  {
   "cell_type": "code",
   "execution_count": null,
   "id": "5902b345-e7f8-4648-9c66-2c894d5d0a34",
   "metadata": {},
   "outputs": [],
   "source": []
  }
 ],
 "metadata": {
  "kernelspec": {
   "display_name": "Python 3 (ipykernel)",
   "language": "python",
   "name": "python3"
  },
  "language_info": {
   "codemirror_mode": {
    "name": "ipython",
    "version": 3
   },
   "file_extension": ".py",
   "mimetype": "text/x-python",
   "name": "python",
   "nbconvert_exporter": "python",
   "pygments_lexer": "ipython3",
   "version": "3.9.7"
  }
 },
 "nbformat": 4,
 "nbformat_minor": 5
}
