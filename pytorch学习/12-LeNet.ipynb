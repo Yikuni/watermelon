{
 "cells": [
  {
   "cell_type": "code",
   "execution_count": 1,
   "id": "ec9982f5-5d54-4746-b16c-ae2b9c561122",
   "metadata": {},
   "outputs": [],
   "source": [
    "import torch\n",
    "from torchvision import datasets\n",
    "from torchvision.transforms import ToTensor\n",
    "import matplotlib.pyplot as plt\n",
    "import numpy as np"
   ]
  },
  {
   "cell_type": "code",
   "execution_count": 2,
   "id": "1f30a295-9fc1-49f2-be85-ce47737f1444",
   "metadata": {},
   "outputs": [
    {
     "name": "stdout",
     "output_type": "stream",
     "text": [
      "Running on the GPU\n"
     ]
    }
   ],
   "source": [
    "# torch.set_default_dtype(torch.float32)\n",
    "if torch.cuda.is_available():\n",
    "    device = torch.device(\"cuda:0\")  # you can continue going on here, like cuda:1 cuda:2....etc. \n",
    "    print(\"Running on the GPU\")\n",
    "    torch.set_default_device(device)"
   ]
  },
  {
   "cell_type": "code",
   "execution_count": 3,
   "id": "763be7c0-eff2-447b-a0d7-d7476c3336d6",
   "metadata": {},
   "outputs": [],
   "source": [
    "training_data = datasets.FashionMNIST(\n",
    "    root=\"data\",\n",
    "    train=True,\n",
    "    download=True,\n",
    "    transform=ToTensor()\n",
    ")\n",
    "\n",
    "test_data = datasets.FashionMNIST(\n",
    "    root=\"data\",\n",
    "    train=False,\n",
    "    download=True,\n",
    "    transform=ToTensor(),\n",
    ")\n",
    "train_dataloader = torch.utils.data.DataLoader(training_data, batch_size=512, shuffle=True, generator=torch.Generator(device), num_workers=16)\n",
    "test_dataloader = torch.utils.data.DataLoader(test_data, batch_size=128, shuffle=True, generator=torch.Generator(device), num_workers=8)"
   ]
  },
  {
   "cell_type": "code",
   "execution_count": 5,
   "id": "6b06cd38-9290-47d8-a27c-de587d50b981",
   "metadata": {},
   "outputs": [],
   "source": [
    "from torch import nn\n",
    "model = nn.Sequential(\n",
    "    nn.Conv2d(1, 6, kernel_size=5, padding=2), nn.Sigmoid(),\n",
    "    nn.AvgPool2d(kernel_size=2, stride=2),\n",
    "    nn.Conv2d(6, 16, kernel_size=5), nn.Sigmoid(),\n",
    "    nn.AvgPool2d(kernel_size=2, stride=2),\n",
    "    nn.Flatten(),\n",
    "    nn.Linear(16 * 5 * 5, 120), nn.Sigmoid(),\n",
    "    nn.Linear(120, 84), nn.Sigmoid(),\n",
    "    nn.Linear(84, 10))"
   ]
  },
  {
   "cell_type": "code",
   "execution_count": 7,
   "id": "7bfac718-a682-4f8c-b99e-88632d470c73",
   "metadata": {},
   "outputs": [],
   "source": [
    "lr = 0.01\n",
    "max_epochs = 10"
   ]
  },
  {
   "cell_type": "code",
   "execution_count": 8,
   "id": "17b9dc48-bfe8-41ee-842b-b07fc2f2cfb6",
   "metadata": {},
   "outputs": [],
   "source": [
    "loss = torch.nn.CrossEntropyLoss().to(device)\n",
    "# optimizer = torch.optim.Adam(params=model.parameters(), lr=lr, weight_decay=0.02, betas=(0.9, 0.99))\n",
    "optimizer = torch.optim.Adam(params=model.parameters(), lr=lr)"
   ]
  },
  {
   "cell_type": "code",
   "execution_count": 9,
   "id": "2e62d01b-47ba-484c-a12c-c333f72e78e9",
   "metadata": {},
   "outputs": [
    {
     "name": "stdout",
     "output_type": "stream",
     "text": [
      " epoch 0 loss = 1.1998394727706918\n",
      " epoch 1 loss = 0.5566245913505554\n",
      " epoch 2 loss = 0.49025988578796387\n",
      " epoch 3 loss = 0.48947295546531684\n",
      " epoch 4 loss = 0.36543229222297673\n",
      " epoch 5 loss = 0.40794387459754944\n",
      " epoch 6 loss = 0.36911487579345703\n",
      " epoch 7 loss = 0.27616426348686223\n",
      " epoch 8 loss = 0.22874332964420319\n",
      " epoch 9 loss = 0.38741970062255865\n"
     ]
    }
   ],
   "source": [
    "history = []\n",
    "for epoch in range(max_epochs):\n",
    "    for x, y in train_dataloader:\n",
    "        x = x.to(device)\n",
    "        y = y.to(device)\n",
    "        l = loss(model(x), y)\n",
    "        l.backward()\n",
    "        optimizer.step()\n",
    "        optimizer.zero_grad()\n",
    "        print(f\"\\r epoch {epoch} loss = {l.item()}\", end='')\n",
    "    # history.append(l.clone().cpu().detach().numpy())\n",
    "    print(\"\")"
   ]
  },
  {
   "cell_type": "code",
   "execution_count": 10,
   "id": "6fff3004-a5f9-4595-9aa4-26f6655f9519",
   "metadata": {},
   "outputs": [
    {
     "data": {
      "text/plain": [
       "tensor(8512)"
      ]
     },
     "execution_count": 10,
     "metadata": {},
     "output_type": "execute_result"
    }
   ],
   "source": [
    "true_flag = 0\n",
    "with torch.no_grad():\n",
    "    for x, y in test_dataloader:\n",
    "        result = torch.argmax(model(x.to(device)), 1).cpu()\n",
    "        true_flag += torch.where(result == y, 1, 0).sum()\n",
    "true_flag"
   ]
  },
  {
   "cell_type": "code",
   "execution_count": 11,
   "id": "d26923c9-5bdd-4cef-8849-cd124b1f0fd5",
   "metadata": {},
   "outputs": [
    {
     "data": {
      "text/plain": [
       "tensor(0.8512)"
      ]
     },
     "execution_count": 11,
     "metadata": {},
     "output_type": "execute_result"
    }
   ],
   "source": [
    "acc = true_flag / len(test_data)\n",
    "acc"
   ]
  },
  {
   "cell_type": "code",
   "execution_count": null,
   "id": "33cbdfb8-4e02-4ae5-bb41-a966b5112dfd",
   "metadata": {},
   "outputs": [],
   "source": []
  }
 ],
 "metadata": {
  "kernelspec": {
   "display_name": "Python 3 (ipykernel)",
   "language": "python",
   "name": "python3"
  },
  "language_info": {
   "codemirror_mode": {
    "name": "ipython",
    "version": 3
   },
   "file_extension": ".py",
   "mimetype": "text/x-python",
   "name": "python",
   "nbconvert_exporter": "python",
   "pygments_lexer": "ipython3",
   "version": "3.9.13"
  }
 },
 "nbformat": 4,
 "nbformat_minor": 5
}
